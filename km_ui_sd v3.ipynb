{
  "cells": [
    {
      "cell_type": "markdown",
      "metadata": {
        "id": "view-in-github",
        "colab_type": "text"
      },
      "source": [
        "<a href=\"https://colab.research.google.com/github/kamranr123/kamranr123.github.io/blob/master/km_ui_sd%20v3.ipynb\" target=\"_parent\"><img src=\"https://colab.research.google.com/assets/colab-badge.svg\" alt=\"Open In Colab\"/></a>"
      ]
    },
    {
      "cell_type": "markdown",
      "source": [
        "<h1> KM Colab</h1>"
      ],
      "metadata": {
        "id": "Ww9RtC1NhlgR"
      }
    },
    {
      "cell_type": "code",
      "source": [
        "# @title\n",
        "Flux_mode = False # @param {\"type\":\"boolean\",\"placeholder\":\"False\"}\n"
      ],
      "metadata": {
        "cellView": "form",
        "id": "D-0_qj5YQbt7"
      },
      "execution_count": null,
      "outputs": []
    },
    {
      "cell_type": "markdown",
      "source": [
        "## initial"
      ],
      "metadata": {
        "id": "b-lSsUXClM0T"
      }
    },
    {
      "cell_type": "code",
      "source": [
        "import zipfile\n",
        "import shutil\n",
        "import os\n",
        "import ipywidgets as widgets\n",
        "from IPython.display import display, Markdown, clear_output\n",
        "\n",
        "%cd /content\n",
        "!git clone -b totoro3 https://github.com/camenduru/ComfyUI /content/TotoroUI\n",
        "%cd /content/TotoroUI\n",
        "\n",
        "!pip install -q torchsde einops diffusers accelerate xformers==0.0.27.post2\n",
        "!pip install spandrel\n",
        "!apt -y install -qq aria2\n",
        "\n",
        "# ******************************************************************************\n",
        "class Modelpaths:\n",
        "    base_path = f'/content/TotoroUI/models'\n",
        "    model = f'{base_path}/checkpoints'\n",
        "    lora = f'{base_path}/loras'\n",
        "    vae = f'{base_path}/vae'\n",
        "    upscale = f'{base_path}/upscale_models'\n",
        "    controlnet = f'{base_path}/controlnet'\n",
        "    embeddings = f'{base_path}/embeddings'\n",
        "    diffusers = f'{base_path}/diffusers'\n",
        "    unet = f'{base_path}/unet'\n",
        "    clip = f'{base_path}/clip'\n",
        "\n",
        "    def __init__(self):\n",
        "        if not os.path.exists(self.base_path):\n",
        "            os.makedirs(self.model)\n",
        "            os.makedirs(self.lora)\n",
        "            os.makedirs(self.vae)\n",
        "            os.makedirs(self.upscale)\n",
        "            os.makedirs(self.embeddings)\n",
        "            os.makedirs(self.diffusers)\n",
        "            os.makedirs(self.unet)\n",
        "            os.makedirs(self.clip)\n",
        "\n",
        "modelpaths = Modelpaths()\n",
        "\n",
        "def download(model_link, model_name, path=modelpaths.model):\n",
        "    if path == modelpaths.model:\n",
        "        !aria2c --console-log-level=error -c -x 16 -s 16 -k 1M {model_link} --dir={path} --out={model_name}\n",
        "    else:\n",
        "        !aria2c --console-log-level=error -c -x 16 -s 8 -k 1M {model_link} --dir={path} --out={model_name}\n",
        "\n",
        "clear_output()"
      ],
      "metadata": {
        "id": "InBOxoWDlRhK"
      },
      "execution_count": 1,
      "outputs": []
    },
    {
      "cell_type": "markdown",
      "source": [
        "## Download model (only for non Flux)"
      ],
      "metadata": {
        "id": "oHhGb05cla8a"
      }
    },
    {
      "cell_type": "code",
      "source": [
        "#@markdown extensions (custom node)\n",
        "model_link = \"https://civitai.com/api/download/models/126785\" # @param {\"type\":\"string\",\"placeholder\":\"enter link of model to download\"}\n",
        "model_name = \"WowifierXL.safetensors\" # @param {\"type\":\"string\",\"placeholder\":\"enter name of model\"}\n",
        "model_type = \"LoRa\" # @param [\"Checkpoint\",\"LoRa\",\"ControlNet\"] {\"type\":\"string\"}\n",
        "\n",
        "if model_type == \"LoRa\":\n",
        "    %cd {modelpaths.lora}\n",
        "    download(model_link, model_name, modelpaths.lora)\n",
        "elif model_type == \"Checkpoint\":\n",
        "    %cd {modelpaths.model}\n",
        "    download(model_link, model_name, modelpaths.model)\n",
        "elif model_type == \"ControlNet\":\n",
        "    %cd {modelpaths.controlnet}\n",
        "    download(model_link, model_name, modelpaths.controlnet)\n",
        "elif model_type == \"None\":\n",
        "    %cd {modelpaths.model}\n",
        "    download(model_link, model_name, modelpaths.model)"
      ],
      "metadata": {
        "cellView": "form",
        "id": "kZKaq7b3eKha",
        "outputId": "f35d3c42-a0a5-4282-aae3-d9447a9f7ab9",
        "colab": {
          "base_uri": "https://localhost:8080/"
        }
      },
      "execution_count": 32,
      "outputs": [
        {
          "output_type": "stream",
          "name": "stdout",
          "text": [
            "/content/TotoroUI/models/loras\n",
            "\u001b[0m\n",
            "Download Results:\n",
            "gid   |stat|avg speed  |path/URI\n",
            "======+====+===========+=======================================================\n",
            "9dc5d0|\u001b[1;32mOK\u001b[0m  |   239MiB/s|/content/TotoroUI/models/loras/WowifierXL.safetensors\n",
            "\n",
            "Status Legend:\n",
            "(OK):download completed.\n"
          ]
        }
      ]
    },
    {
      "cell_type": "markdown",
      "metadata": {
        "id": "vUabsHbSTKF6"
      },
      "source": [
        "## LoRa"
      ]
    },
    {
      "cell_type": "code",
      "execution_count": null,
      "metadata": {
        "id": "WU43pGOkO8A3"
      },
      "outputs": [],
      "source": [
        "lora_list = []\n",
        "lora_list.append(['https://civitai.com/api/download/models/122580', 'Skin-Hands.safetensors']) # Skin & Hands (male/female) from Polyhedron\n",
        "lora_list.append(['https://civitai.com/api/download/models/117151', 'LEOSAMClothingAdjuster.safetensors']) # LEOSAM's Clothing +/- Adjuster LoRA\n",
        "lora_list.append(['https://civitai.com/api/download/models/126785','WowifierXL.safetensors']) # WowifierXL LoRA\n",
        "lora_list.append(['https://civitai.com/api/download/models/155625','Caricaturized-xl.safetensors']) # SDXL Caricaturized LoRA\n",
        "lora_list.append(['https://huggingface.co/naonovn/Lora/resolve/main/add_detail.safetensors','add_detail.safetensors']) # add_detail LoRA\n",
        "\n",
        "# 3D rendering style (SD 1.5)\n",
        "# https://civitai.com/models/73756\n",
        "# The larger the version number, the more mature and realistic the rendering style will be.\n",
        "lora_list.append(['https://civitai.com/api/download/models/107366','3DMM_V12.safetensors'])\n",
        "lora_list.append(['https://civitai.com/api/download/models/78467','3DMM_V10.safetensors'])\n",
        "lora_list.append(['https://civitai.com/api/download/models/88206','3DMM_V7.safetensors'])\n",
        "lora_list.append(['https://civitai.com/api/download/models/78559','3DMM_V5.safetensors'])\n",
        "lora_list.append(['https://civitai.com/api/download/models/78564','3DMM_V3.safetensors'])\n",
        "\n",
        "# Detail Tweaker XL\n",
        "# https://civitai.com/models/122359/detail-tweaker-xl\n",
        "# lora_list.append(['https://civitai.com/api/download/models/135867','DetailTweaker-XL-V1.safetensors'])\n",
        "\n",
        "# Add More Details - Detail Enhancer / Tweaker\n",
        "# https://civitai.com/models/82098/add-more-details-detail-enhancer-tweaker-lora\n",
        "lora_list.append(['https://civitai.com/api/download/models/87153','AddMoreDetails-v1.safetensors'])\n",
        "\n",
        "# sharpen/soften effect\n",
        "# https://civitai.com/models/94543/lora-sharpensoften-effect-lora-model\n",
        "# lora_list.append(['https://civitai.com/api/download/models/100851?type=Model&format=SafeTensor','sharpen-soften effect-v1.safetensors'])\n",
        "\n",
        "# S-shape body slider LoRA (SD 1.5)\n",
        "# https://civitai.com/models/135052/muggle-loras-shape-body-slider\n",
        "# lora_list.append(['https://civitai.com/api/download/models/148789?type=Model&format=SafeTensor','S-shape body slider-v1.safetensors'])\n",
        "\n",
        "# Better eyes+face+skin LoRA (SD 1.5)\n",
        "# https://civitai.com/models/51430?modelVersionId=55905\n",
        "# lora_list.append(['https://civitai.com/api/download/models/55905','BetterEyesFaceSkin-v1.safetensors'])\n",
        "\n",
        "# Hipoly 3D Model LoRA (SD 1.5)\n",
        "# https://civitai.com/models/70921/duchaitenniji\n",
        "# lora_list.append(['https://civitai.com/api/download/models/44566','Hipoly3D-v2.safetensors'])\n",
        "\n",
        "# Samaritan 3d Cartoon SDXL\n",
        "# https://civitai.com/models/121932/samaritan-3d-cartoon-sdxl\n",
        "# the default face is grumpy/angry for some reason. But this model was trained on variety of emotions,\n",
        "# try \"smiling, laugh,sad, crying, shouting, surprised, etc\" in the prompt\n",
        "# lora_list.append(['https://civitai.com/api/download/models/132727','Samaritan-3d-Cartoon-xl.safetensors'])\n",
        "\n",
        "# xl-water-dress\n",
        "# https://civitai.com/models/156447/xl-water-dress\n",
        "# lora_list.append(['https://civitai.com/api/download/models/175608','xl-water-dress.safetensors'])\n",
        "\n",
        "# xl_more_art-full\n",
        "# https://civitai.com/models/124347/xlmoreart-full-xlreal-enhancer?modelVersionId=152309\n",
        "# lora_list.append(['https://civitai.com/api/download/models/152309','xl_more_art-full-v1.safetensors'])\n",
        "\n",
        "# cowgirl with hands on knees\n",
        "# lora_list.append(['https://civitai.com/api/download/models/140297?type=Model&format=SafeTensor','cowgirl_with_hands_on_knees_v1.0.safetensors'])\n",
        "\n",
        "\n",
        "# POV Squatting Cowgirl LoRA\n",
        "# lora_list.append(['https://civitai.com/api/download/models/10490?type=Model&format=SafeTensor&size=full&fp=fp16','PSCowgirl.safetensors'])\n",
        "\n",
        "# colorfulhair2 LoRA\n",
        "# lora_list.append(['https://civitai.com/api/download/models/97974?type=Model&format=SafeTensor', 'asb-CH2.safetensors'])\n",
        "\n",
        "# Half Color Hair LoRA\n",
        "# lora_list.append(['https://civitai.com/api/download/models/45686','hlfcol.safetensors'])\n",
        "\n",
        "# color hair LoRA\n",
        "# lora_list.append(['https://civitai.com/api/download/models/113573?type=Model&format=SafeTensor','color-hair.safetensors'])\n",
        "\n",
        "\n",
        "# lora_list.extend(extract_lora_from_author(author='casque'))\n",
        "# lora_list.extend(extract_lora_from_rep(repo_id='naonovn/Lora'))"
      ]
    },
    {
      "cell_type": "markdown",
      "metadata": {
        "id": "0qf_1-GCqcVt"
      },
      "source": [
        "# Run KMUI"
      ]
    },
    {
      "cell_type": "code",
      "source": [
        "#@title Setting\n",
        "\n",
        "#@markdown # UI\n",
        "#@markdown extensions (custom node)\n",
        "ReactorNode = True #@param {type:'boolean'}\n",
        "ControlnetAux = False #@param {type:'boolean'}\n",
        "#@markdown download\n",
        "DownloadEmbeddings = False #@param {type:'boolean'}\n",
        "DownloadLoRa = False #@param {type:'boolean'}\n",
        "DownloadVAE = False #@param {type:'boolean'}\n",
        "Clip_Vision_g = False #@param {type:'boolean'}"
      ],
      "metadata": {
        "id": "IzWiMDvTKPqO",
        "cellView": "form"
      },
      "execution_count": 3,
      "outputs": []
    },
    {
      "cell_type": "code",
      "execution_count": 6,
      "metadata": {
        "id": "g_dX9-EbDiXA",
        "cellView": "form"
      },
      "outputs": [],
      "source": [
        "#@title Download models\n",
        "if DownloadEmbeddings:\n",
        "    !wget -q 'https://huggingface.co/nolanaatama/colab/resolve/main/embeddings.zip' -P /content/TotoroUI/models/embeddings/\n",
        "    with zipfile.ZipFile(f\"/content/TotoroUI/models/embeddings/embeddings.zip\", 'r') as zip_ref:\n",
        "        zip_ref.extractall(f'/content/TotoroUI/models')\n",
        "    os.remove(f\"/content/TotoroUI/models/embeddings/embeddings.zip\")\n",
        "\n",
        "if DownloadLoRa:\n",
        "    %cd {lora_path}\n",
        "    for item in lora_list:\n",
        "      download(item[0], item[1], modelpaths.lora)\n",
        "\n",
        "if DownloadVAE:\n",
        "    download('https://huggingface.co/stabilityai/sd-vae-ft-mse-original/resolve/main/vae-ft-mse-840000-ema-pruned.ckpt', 'vae-ft-mse-840000-ema-pruned.ckpt', modelpaths.vae)\n",
        "\n",
        "# if ReactorNode:\n",
        "#     download(\"https://github.com/TencentARC/GFPGAN/releases/download/v1.3.0/GFPGANv1.4.pth\", 'GFPGANv1.4.pth', f'{modelpaths.base_path}/facerestore_models')\n",
        "#     download(\"https://huggingface.co/ezioruan/inswapper_128.onnx/resolve/main/inswapper_128.onnx\", 'inswapper_128.onnx', f'{modelpaths.base_path}/insightface')\n",
        "\n",
        "clear_output()"
      ]
    },
    {
      "cell_type": "code",
      "execution_count": 7,
      "metadata": {
        "id": "rld0qAZAfPg0"
      },
      "outputs": [],
      "source": [
        "#@title Prepare custom nodes\n",
        "\n",
        "#Install custom nodes\n",
        "if not os.path.exists('/content/TotoroUI/custom_nodes'):\n",
        "    os.makedirs('/content/TotoroUI/custom_nodes')\n",
        "\n",
        "%cd /content/TotoroUI/custom_nodes\n",
        "if ControlnetAux:\n",
        "    !git clone https://github.com/Fannovel16/comfyui_controlnet_aux/\n",
        "\n",
        "if ReactorNode:\n",
        "    !git clone https://github.com/Gourieff/comfyui-reactor-node comfyui_reactor_node\n",
        "\n",
        "%cd /content/TotoroUI/custom_nodes\n",
        "\n",
        "# reactor-node\n",
        "if ReactorNode:\n",
        "    !pip install -r comfyui-reactor-node/requirements.txt\n",
        "\n",
        "\n",
        "# controlnet_aux\n",
        "if ControlnetAux:\n",
        "    !pip install -r comfyui_controlnet_aux/requirements.txt\n",
        "    !python comfyui-reactor-node/install.py\n",
        "\n",
        "clear_output()"
      ]
    },
    {
      "cell_type": "markdown",
      "metadata": {
        "id": "Nb8G2WauywJu"
      },
      "source": [
        "# Utiities"
      ]
    },
    {
      "cell_type": "code",
      "execution_count": null,
      "metadata": {
        "id": "D-6yNrqCkO0i",
        "outputId": "41052c7d-b696-4142-f613-089ec06a0113",
        "colab": {
          "base_uri": "https://localhost:8080/",
          "height": 35
        }
      },
      "outputs": [
        {
          "output_type": "execute_result",
          "data": {
            "text/plain": [
              "'/content/KMUI/models/models'"
            ],
            "application/vnd.google.colaboratory.intrinsic+json": {
              "type": "string"
            }
          },
          "metadata": {},
          "execution_count": 3
        }
      ],
      "source": [
        "import shutil\n",
        "# shutil.move('/content/models', '/content/KMUI/models')\n",
        "# shutil.move('/content/KMUI/models', '/content/models')\n",
        "# shutil.move('/content/stable-diffusion-webui/models/Stable-diffusion', '/content/KMUI/models/checkpoints')\n",
        "# shutil.rmtree('/content/KMUI')\n",
        "# shutil.rmtree('/content/stable-diffusion-webui')"
      ]
    },
    {
      "cell_type": "code",
      "execution_count": null,
      "metadata": {
        "cellView": "form",
        "id": "jfgnf3GbPcoK"
      },
      "outputs": [],
      "source": [
        "#@title Saving images\n",
        "\n",
        "#@markdown <small>The zip file will be visible at the files tab.</small>\n",
        "from datetime import datetime\n",
        "str_date = datetime.today().strftime('%Y-%m-%d-%H%M%S')\n",
        "archive_name = f\"outputs-{str_date}.zip\"\n",
        "\n",
        "print(\"Zipping...\")\n",
        "!zip -qr /content/{archive_name} /content/KMUI/output\n",
        "print(f\"\\033[92mZipped. You can now find {archive_name} at the files tab.\\033[0m\")\n",
        "\n",
        "# ----\n",
        "\n",
        "#@markdown <small>This copies the zip file to your Google Drive</small>\n",
        "copy_to_gdrive = True #@param {type:'boolean'}\n",
        "gdrive_folder = \"AI/Generated\" #@param { 'type': 'string' }\n",
        "\n",
        "if copy_to_gdrive:\n",
        "  # utility.log_usage('zip-to-gdrive')\n",
        "  from google.colab import drive\n",
        "\n",
        "  print(\"Mounting to Google Drive...\")\n",
        "  drive.mount('/content/drive')\n",
        "  if gdrive_folder == \"\":\n",
        "    gdrive_folder = \"AI/Generated\"\n",
        "\n",
        "  drive_folder = f\"/content/drive/MyDrive/{gdrive_folder}\"\n",
        "\n",
        "  !mkdir -p {drive_folder}\n",
        "  !cp /content/{archive_name} {drive_folder}\n",
        "  print(f\"\\033[92mCopied to {gdrive_folder}!\\033[0m\")\n",
        "\n",
        "  drive.flush_and_unmount()"
      ]
    },
    {
      "cell_type": "markdown",
      "source": [
        "# Nodes"
      ],
      "metadata": {
        "id": "imVQcYXHvVeD"
      }
    },
    {
      "cell_type": "markdown",
      "source": [
        "## Models as Enum"
      ],
      "metadata": {
        "id": "p50s1XPcng-X"
      }
    },
    {
      "cell_type": "code",
      "source": [
        "from enum import Enum\n",
        "\n",
        "# https://huggingface.co/stabilityai/control-lora\n",
        "class ControlnetLoRa_SDXL(Enum):\n",
        "    Canny = ['https://huggingface.co/stabilityai/control-lora/resolve/main/control-LoRAs-rank256/control-lora-canny-rank256.safetensors', 'control-lora-canny-rank256.safetensors']\n",
        "    Depth = ['https://huggingface.co/stabilityai/control-lora/resolve/main/control-LoRAs-rank256/control-lora-depth-rank256.safetensors', 'control-lora-depth-rank256.safetensors']\n",
        "    Recolor = ['https://huggingface.co/stabilityai/control-lora/resolve/main/control-LoRAs-rank256/control-lora-recolor-rank256.safetensors', 'control-lora-recolor-rank256.safetensors']\n",
        "    Sketch = ['https://huggingface.co/stabilityai/control-lora/resolve/main/control-LoRAs-rank256/control-lora-sketch-rank256.safetensors', 'control-lora-sketch-rank256.safetensors']\n",
        "    OpenPoseXL2 = ['https://huggingface.co/thibaud/controlnet-openpose-sdxl-1.0/resolve/main/control-lora-openposeXL2-rank256.safetensors', 'control-lora-openposeXL2-rank256.safetensors']\n",
        "\n",
        "class ControlnetModel_SD15(Enum):\n",
        "    Canny = ['https://huggingface.co/lllyasviel/control_v11p_sd15_canny/resolve/main/diffusion_pytorch_model.fp16.safetensors', 'control_v11p_sd15_canny.fp16.safetensors']\n",
        "    Depth = ['https://huggingface.co/lllyasviel/control_v11f1p_sd15_depth/resolve/main/diffusion_pytorch_model.fp16.safetensors', 'control_v11f1p_sd15_depth.fp16.safetensors']\n",
        "    SoftEdge = ['https://huggingface.co/lllyasviel/control_v11p_sd15_softedge/resolve/main/diffusion_pytorch_model.fp16.safetensors', 'control_v11p_sd15_softedge.fp16.safetensors']\n",
        "    Inpaint = ['https://huggingface.co/lllyasviel/control_v11p_sd15_inpaint/resolve/main/diffusion_pytorch_model.fp16.safetensors', 'control_v11p_sd15_inpaint.fp16.safetensors']\n",
        "    OpenPose = ['https://huggingface.co/lllyasviel/control_v11p_sd15_openpose/resolve/main/diffusion_pytorch_model.fp16.safetensors', 'control_v11p_sd15_openpose.fp16.safetensors']\n",
        "    Scribble = ['https://huggingface.co/lllyasviel/control_v11p_sd15_scribble/resolve/main/diffusion_pytorch_model.fp16.safetensors', 'control_v11p_sd15_scribble.fp16.safetensors']\n",
        "    LineArt  = ['https://huggingface.co/lllyasviel/control_v11p_sd15_lineart/resolve/main/diffusion_pytorch_model.fp16.safetensors', 'control_v11p_sd15_lineart.fp16.safetensors']\n",
        "\n",
        "class ControlnetModel_XL(Enum):\n",
        "    Canny = ['https://huggingface.co/diffusers/controlnet-canny-sdxl-1.0/resolve/main/diffusion_pytorch_model.fp16.safetensors', 'controlnet-canny-sdxl-1.0.fp16.safetensors']\n",
        "    Depth = ['https://huggingface.co/diffusers/controlnet-depth-sdxl-1.0/resolve/main/diffusion_pytorch_model.fp16.safetensors', 'controlnet-depth-sdxl-1.0.fp16.safetensors']\n",
        "\n",
        "class HyperLoRa(Enum):\n",
        "    HyperSD_15_1_step = ['https://huggingface.co/ByteDance/Hyper-SD/resolve/main/Hyper-SD15-1step-lora.safetensors', 'Hyper-SD15-1step-lora.safetensors']\n",
        "    HyperSD_15_2_steps = ['https://huggingface.co/ByteDance/Hyper-SD/resolve/main/Hyper-SD15-2steps-lora.safetensors', 'Hyper-SD15-2steps-lora.safetensors']\n",
        "    HyperSD_15_4_steps = ['https://huggingface.co/ByteDance/Hyper-SD/resolve/main/Hyper-SD15-4steps-lora.safetensors', 'Hyper-SD15-4steps-lora.safetensors']\n",
        "    HyperSD_15_8_steps = ['https://huggingface.co/ByteDance/Hyper-SD/resolve/main/Hyper-SD15-8steps-lora.safetensors', 'Hyper-SD15-8steps-lora.safetensors']\n",
        "    HyperSD_XL_1_step = ['https://huggingface.co/ByteDance/Hyper-SD/resolve/main/Hyper-SDXL-1step-lora.safetensors', 'Hyper-SDXL-1step-lora.safetensors']\n",
        "    HyperSD_XL_2_steps = ['https://huggingface.co/ByteDance/Hyper-SD/resolve/main/Hyper-SDXL-2steps-lora.safetensors', 'Hyper-SDXL-2steps-lora.safetensors']\n",
        "    HyperSD_XL_4_steps = ['https://huggingface.co/ByteDance/Hyper-SD/resolve/main/Hyper-SDXL-4steps-lora.safetensors', 'Hyper-SDXL-4steps-lora.safetensors']\n",
        "    HyperSD_XL_8_steps = ['https://huggingface.co/ByteDance/Hyper-SD/resolve/main/Hyper-SDXL-8steps-lora.safetensors', 'Hyper-SDXL-8steps-lora.safetensors']\n",
        "    Hyper_Flux_DEV_8_steps = ['https://huggingface.co/ByteDance/Hyper-SD/resolve/main/Hyper-FLUX.1-dev-8steps-lora.safetensors', 'Hyper-FLUX.1-dev-8steps-lora.safetensors']\n",
        "    Hyper_Flux_DEV_16_steps = ['https://huggingface.co/ByteDance/Hyper-SD/resolve/main/Hyper-FLUX.1-dev-16steps-lora.safetensors', 'Hyper-FLUX.1-dev-16steps-lora.safetensors']\n",
        "\n",
        "class UpscalerModel(Enum):\n",
        "    RealESRGAN_x2 = ['https://huggingface.co/sberbank-ai/Real-ESRGAN/resolve/main/RealESRGAN_x2.pth', 'RealESRGAN_x2.pth']\n",
        "    UltraSharp_4x = ['https://huggingface.co/uwg/upscaler/resolve/main/ESRGAN/4x-UltraSharp.pth', '4x-UltraSharp.pth']\n"
      ],
      "metadata": {
        "id": "lh8oeyhWnruO"
      },
      "execution_count": 8,
      "outputs": []
    },
    {
      "cell_type": "markdown",
      "source": [
        "## Nodes to method"
      ],
      "metadata": {
        "id": "u6xXtx6glPfZ"
      }
    },
    {
      "cell_type": "code",
      "source": [
        "%cd /content/TotoroUI\n",
        "\n",
        "from enum import Enum\n",
        "import random\n",
        "import torch\n",
        "import numpy as np\n",
        "from PIL import Image\n",
        "import nodes\n",
        "from nodes import NODE_CLASS_MAPPINGS\n",
        "from totoro_extras import nodes_custom_sampler, nodes_upscale_model\n",
        "from totoro import model_management\n",
        "\n",
        "def closestNumber(n, m):\n",
        "    q = int(n / m)\n",
        "    n1 = m * q\n",
        "    if (n * m) > 0:\n",
        "        n2 = m * (q + 1)\n",
        "    else:\n",
        "        n2 = m * (q - 1)\n",
        "    if abs(n - n1) < abs(n - n2):\n",
        "        return n1\n",
        "    return n2\n",
        "\n",
        "\n",
        "class Scheduler(Enum):\n",
        "    SIMPLE = 'simple'\n",
        "    NORMAL = 'normal'\n",
        "    KARRAS = 'karras'\n",
        "    EXPONENTIAL = 'exponential'\n",
        "    SGM_UNIFORM = 'sgm_uniform'\n",
        "\n",
        "\n",
        "class Sampler(Enum):\n",
        "    DDIM = 'ddim'\n",
        "    Euler = 'euler'\n",
        "    Euler_a = 'euler_ancestral'\n",
        "    DDPM = 'ddpm'\n",
        "    DPM_PP_2M = 'dpmpp_2m'\n",
        "    DPM_PP_2M_SDE = 'dpmpp_2m_sde'\n",
        "    DPM_PP_SDE = 'dpmpp_sde'\n",
        "    DPM2 = 'dpm_2'\n",
        "    DPM2_a = 'dpm_2_ancestral'\n",
        "    Heun = 'heun'\n",
        "    LMS = 'lms'\n",
        "    DEIS = 'deis'\n",
        "    UniPC = 'uni_pc'\n",
        "    LCM = 'lcm'\n",
        "\n",
        "def scale_by_model(pixels, upscale_model:UpscalerModel, scale:float=1, upscale_method=\"nearest-exact\"): # return upscaled pixels\n",
        "    # upscale_methods = [\"nearest-exact\", \"bilinear\", \"area\", \"bicubic\", \"lanczos\"]\n",
        "    if not os.path.exists(modelpaths.upscale + '/' + upscale_model.value[1]):\n",
        "        download(upscale_model.value[0], upscale_model.value[1], modelpaths.upscale)\n",
        "        if not os.path.exists(modelpaths.upscale + '/' + upscale_model.value[1]):\n",
        "            raise Exception(f'download {upscale_model.value[1]} failed!')\n",
        "\n",
        "    UpscaleModelLoader = nodes_upscale_model.NODE_CLASS_MAPPINGS[\"UpscaleModelLoader\"]()\n",
        "    ImageUpscaleWithModel = nodes_upscale_model.NODE_CLASS_MAPPINGS[\"ImageUpscaleWithModel\"]()\n",
        "    ImageScaleBy = NODE_CLASS_MAPPINGS[\"ImageScaleBy\"]()\n",
        "\n",
        "    with torch.inference_mode():\n",
        "        model = UpscaleModelLoader.load_model(model_name=upscale_model.value[1])[0]\n",
        "        image = pixels\n",
        "        if model:\n",
        "            image = ImageUpscaleWithModel.upscale(model, pixels)[0]\n",
        "\n",
        "        if scale != 1:\n",
        "            image = ImageScaleBy.upscale(image, upscale_method, scale)[0]\n",
        "\n",
        "        return image\n",
        "\n",
        "def apply_hyper_lora(unet, lora:HyperLoRa):\n",
        "    if not os.path.exists(modelpaths.lora + '/' + lora.value[1]):\n",
        "        download(lora.value[0], lora.value[1], modelpaths.lora)\n",
        "        if not os.path.exists(modelpaths.lora + '/' + lora.value[1]):\n",
        "            raise Exception(f'download {lora.value[1]} failed!')\n",
        "\n",
        "    LoraLoaderModelOnly = NODE_CLASS_MAPPINGS[\"LoraLoaderModelOnly\"]()\n",
        "    final_model = unet\n",
        "    with torch.inference_mode():\n",
        "        return LoraLoaderModelOnly.load_lora_model_only(final_model, lora.value[1], 1.0)[0]\n",
        "\n",
        "\n",
        "def apply_lora(unet, lora=[]): # lora = [(lora name, strength), ...]\n",
        "    LoraLoaderModelOnly = NODE_CLASS_MAPPINGS[\"LoraLoaderModelOnly\"]()\n",
        "    final_model = unet\n",
        "    with torch.inference_mode():\n",
        "        for it in lora:\n",
        "            final_model = LoraLoaderModelOnly.load_lora_model_only(final_model, it[0], it[1])[0]\n",
        "        return final_model\n",
        "\n",
        "def load_checkpoint(ckpt_name: str):\n",
        "    CheckpointLoaderSimple = NODE_CLASS_MAPPINGS[\"CheckpointLoaderSimple\"]()\n",
        "    with torch.inference_mode():\n",
        "        checkpoint_loader_simple = CheckpointLoaderSimple.load_checkpoint(ckpt_name) # it return (model_patcher, clip, vae, clipvision)\n",
        "        clip = checkpoint_loader_simple[1]\n",
        "        unet = checkpoint_loader_simple[0]\n",
        "        vae = checkpoint_loader_simple[2]\n",
        "        return unet, clip, vae\n",
        "\n",
        "def load_flux():\n",
        "    if not os.path.exists(modelpaths.unet + '/' + 'flux1-dev-fp8.safetensors'):\n",
        "        download('https://huggingface.co/camenduru/FLUX.1-dev/resolve/main/flux1-dev-fp8.safetensors', 'flux1-dev-fp8.safetensors', modelpaths.unet)\n",
        "        download('https://huggingface.co/camenduru/FLUX.1-dev/resolve/main/ae.sft', 'ae.sft', modelpaths.vae)\n",
        "        download('https://huggingface.co/camenduru/FLUX.1-dev/resolve/main/clip_l.safetensors', 'clip_l.safetensors', modelpaths.clip)\n",
        "        download('https://huggingface.co/camenduru/FLUX.1-dev/resolve/main/t5xxl_fp8_e4m3fn.safetensors', 't5xxl_fp8_e4m3fn.safetensors', modelpaths.clip)\n",
        "\n",
        "\n",
        "    DualCLIPLoader = NODE_CLASS_MAPPINGS[\"DualCLIPLoader\"]()\n",
        "    UNETLoader = NODE_CLASS_MAPPINGS[\"UNETLoader\"]()\n",
        "    VAELoader = NODE_CLASS_MAPPINGS[\"VAELoader\"]()\n",
        "\n",
        "    with torch.inference_mode():\n",
        "        clip = DualCLIPLoader.load_clip(\"t5xxl_fp8_e4m3fn.safetensors\", \"clip_l.safetensors\", \"flux\")[0]\n",
        "        unet = UNETLoader.load_unet(\"flux1-dev-fp8.safetensors\", \"fp8_e4m3fn\")[0]\n",
        "        vae = VAELoader.load_vae(\"ae.sft\")[0]\n",
        "        return unet, clip, vae\n",
        "\n",
        "def encode_prompt(clip, prompt):\n",
        "    with torch.inference_mode():\n",
        "        cond, pooled = clip.encode_from_tokens(clip.tokenize(prompt), return_pooled=True)\n",
        "        return [[cond, {\"pooled_output\": pooled}]]\n",
        "\n",
        "\n",
        "def create_empty_latent(width, height, batch_size=1):\n",
        "    EmptyLatentImage = NODE_CLASS_MAPPINGS[\"EmptyLatentImage\"]()\n",
        "\n",
        "    with torch.inference_mode():\n",
        "        return EmptyLatentImage.generate(closestNumber(width, 16), closestNumber(height, 16), batch_size=batch_size)[0]\n",
        "\n",
        "def ksampler(model, seed, steps, cfg, sampler: Sampler, scheduler: Scheduler, positive, negative, latent, denoise=1.0):\n",
        "    with torch.inference_mode():\n",
        "        return nodes.common_ksampler(model=model, seed=seed, steps=steps, cfg=cfg, sampler_name=sampler.value,\n",
        "                                     scheduler=scheduler.value, positive=positive, negative=negative,\n",
        "                                     latent=latent, denoise=denoise)[0]\n",
        "\n",
        "def ksampler_flux(unet, seed, steps, cfg, sampler: Sampler, scheduler: Scheduler, positive, latent, denoise=1.0):\n",
        "    RandomNoise = nodes_custom_sampler.NODE_CLASS_MAPPINGS[\"RandomNoise\"]()\n",
        "    BasicGuider = nodes_custom_sampler.NODE_CLASS_MAPPINGS[\"BasicGuider\"]()\n",
        "    KSamplerSelect = nodes_custom_sampler.NODE_CLASS_MAPPINGS[\"KSamplerSelect\"]()\n",
        "    BasicScheduler = nodes_custom_sampler.NODE_CLASS_MAPPINGS[\"BasicScheduler\"]()\n",
        "    SamplerCustomAdvanced = nodes_custom_sampler.NODE_CLASS_MAPPINGS[\"SamplerCustomAdvanced\"]()\n",
        "\n",
        "    with torch.inference_mode():\n",
        "        noise = RandomNoise.get_noise(seed)[0]\n",
        "        guider = BasicGuider.get_guider(unet, positive)[0]\n",
        "        sampler = KSamplerSelect.get_sampler(sampler.value)[0]\n",
        "        sigmas = BasicScheduler.get_sigmas(unet, scheduler.value, steps, 1.0)[0]\n",
        "        sample, sample_denoised = SamplerCustomAdvanced.sample(noise, guider, sampler, sigmas, latent)\n",
        "        model_management.soft_empty_cache()\n",
        "        return sample\n",
        "\n",
        "\n",
        "def vae_decode(vae, latent): # return image (float[0-1])\n",
        "    VAEDecode = NODE_CLASS_MAPPINGS[\"VAEDecode\"]()\n",
        "\n",
        "    with torch.inference_mode():\n",
        "        return VAEDecode.decode(vae, latent)[0].detach()\n",
        "\n",
        "def vae_encode(vae, pixels): # pixels (float[0-1])\n",
        "    VAEEncode = NODE_CLASS_MAPPINGS[\"VAEEncode\"]()\n",
        "\n",
        "    with torch.inference_mode():\n",
        "        return VAEEncode.encode(vae, pixels)[0]\n",
        "\n",
        "def load_image(image_path): # RETURN_TYPES = (\"IMAGE\", \"MASK\")\n",
        "    LoadImage = NODE_CLASS_MAPPINGS[\"LoadImage\"]()\n",
        "    return LoadImage.load_image(image_path)[0]\n",
        "\n",
        "def get_printable_image(image, index=0): # image in float format\n",
        "    return Image.fromarray(np.array(image*255, dtype=np.uint8)[index])\n",
        "\n",
        "def saveJPEG(image, index=0, path='/content/KMUI/output', name='image', quality=90): # image in float format\n",
        "    img = Image.fromarray(np.array(decoded*255, dtype=np.uint8)[index])\n",
        "    img.convert('RGB').save(f'{path}/{name}.jpg', optimize=True, quality=quality)\n",
        "    return img\n"
      ],
      "metadata": {
        "id": "PrC4_OZuEHNs"
      },
      "execution_count": null,
      "outputs": []
    },
    {
      "cell_type": "markdown",
      "source": [
        "## custom nodes"
      ],
      "metadata": {
        "id": "9DuIoxttIxBT"
      }
    },
    {
      "cell_type": "code",
      "source": [
        "class ReActorFaceSwap:\n",
        "    reactor = None\n",
        "\n",
        "    def __init__(self):\n",
        "        from custom_nodes.comfyui_reactor_node.nodes import NODE_CLASS_MAPPINGS\n",
        "\n",
        "        self.reactor = NODE_CLASS_MAPPINGS[\"ReActorFaceSwap\"]()\n",
        "\n",
        "\n",
        "\n",
        "reActorFaceSwap = None\n",
        "if ReactorNode:\n",
        "    reActorFaceSwap = ReActorFaceSwap()\n",
        "\n",
        "\n",
        "\n"
      ],
      "metadata": {
        "id": "lhjEW5-RIwHz",
        "outputId": "8e0e72e2-8cfb-46a5-922a-208782f87efd",
        "colab": {
          "base_uri": "https://localhost:8080/",
          "height": 530
        }
      },
      "execution_count": 42,
      "outputs": [
        {
          "output_type": "error",
          "ename": "ModuleNotFoundError",
          "evalue": "No module named 'comfy'",
          "traceback": [
            "\u001b[0;31m---------------------------------------------------------------------------\u001b[0m",
            "\u001b[0;31mModuleNotFoundError\u001b[0m                       Traceback (most recent call last)",
            "\u001b[0;32m<ipython-input-42-3091692988b2>\u001b[0m in \u001b[0;36m<cell line: 12>\u001b[0;34m()\u001b[0m\n\u001b[1;32m     11\u001b[0m \u001b[0mreActorFaceSwap\u001b[0m \u001b[0;34m=\u001b[0m \u001b[0;32mNone\u001b[0m\u001b[0;34m\u001b[0m\u001b[0;34m\u001b[0m\u001b[0m\n\u001b[1;32m     12\u001b[0m \u001b[0;32mif\u001b[0m \u001b[0mReactorNode\u001b[0m\u001b[0;34m:\u001b[0m\u001b[0;34m\u001b[0m\u001b[0;34m\u001b[0m\u001b[0m\n\u001b[0;32m---> 13\u001b[0;31m     \u001b[0mreActorFaceSwap\u001b[0m \u001b[0;34m=\u001b[0m \u001b[0mReActorFaceSwap\u001b[0m\u001b[0;34m(\u001b[0m\u001b[0;34m)\u001b[0m\u001b[0;34m\u001b[0m\u001b[0;34m\u001b[0m\u001b[0m\n\u001b[0m\u001b[1;32m     14\u001b[0m \u001b[0;34m\u001b[0m\u001b[0m\n\u001b[1;32m     15\u001b[0m \u001b[0;34m\u001b[0m\u001b[0m\n",
            "\u001b[0;32m<ipython-input-42-3091692988b2>\u001b[0m in \u001b[0;36m__init__\u001b[0;34m(self)\u001b[0m\n\u001b[1;32m      3\u001b[0m \u001b[0;34m\u001b[0m\u001b[0m\n\u001b[1;32m      4\u001b[0m     \u001b[0;32mdef\u001b[0m \u001b[0m__init__\u001b[0m\u001b[0;34m(\u001b[0m\u001b[0mself\u001b[0m\u001b[0;34m)\u001b[0m\u001b[0;34m:\u001b[0m\u001b[0;34m\u001b[0m\u001b[0;34m\u001b[0m\u001b[0m\n\u001b[0;32m----> 5\u001b[0;31m         \u001b[0;32mfrom\u001b[0m \u001b[0mcustom_nodes\u001b[0m\u001b[0;34m.\u001b[0m\u001b[0mcomfyui_reactor_node\u001b[0m\u001b[0;34m.\u001b[0m\u001b[0mnodes\u001b[0m \u001b[0;32mimport\u001b[0m \u001b[0mNODE_CLASS_MAPPINGS\u001b[0m\u001b[0;34m\u001b[0m\u001b[0;34m\u001b[0m\u001b[0m\n\u001b[0m\u001b[1;32m      6\u001b[0m \u001b[0;34m\u001b[0m\u001b[0m\n\u001b[1;32m      7\u001b[0m         \u001b[0mself\u001b[0m\u001b[0;34m.\u001b[0m\u001b[0mreactor\u001b[0m \u001b[0;34m=\u001b[0m \u001b[0mNODE_CLASS_MAPPINGS\u001b[0m\u001b[0;34m[\u001b[0m\u001b[0;34m\"ReActorFaceSwap\"\u001b[0m\u001b[0;34m]\u001b[0m\u001b[0;34m(\u001b[0m\u001b[0;34m)\u001b[0m\u001b[0;34m\u001b[0m\u001b[0;34m\u001b[0m\u001b[0m\n",
            "\u001b[0;32m/content/TotoroUI/custom_nodes/comfyui_reactor_node/__init__.py\u001b[0m in \u001b[0;36m<module>\u001b[0;34m\u001b[0m\n\u001b[1;32m     21\u001b[0m \u001b[0;34m\u001b[0m\u001b[0m\n\u001b[1;32m     22\u001b[0m \u001b[0;31m# Proceed with node setup\u001b[0m\u001b[0;34m\u001b[0m\u001b[0;34m\u001b[0m\u001b[0m\n\u001b[0;32m---> 23\u001b[0;31m \u001b[0;32mfrom\u001b[0m \u001b[0;34m.\u001b[0m\u001b[0mnodes\u001b[0m \u001b[0;32mimport\u001b[0m \u001b[0mNODE_CLASS_MAPPINGS\u001b[0m\u001b[0;34m,\u001b[0m \u001b[0mNODE_DISPLAY_NAME_MAPPINGS\u001b[0m\u001b[0;34m\u001b[0m\u001b[0;34m\u001b[0m\u001b[0m\n\u001b[0m\u001b[1;32m     24\u001b[0m \u001b[0;34m\u001b[0m\u001b[0m\n\u001b[1;32m     25\u001b[0m \u001b[0m__all__\u001b[0m \u001b[0;34m=\u001b[0m \u001b[0;34m[\u001b[0m\u001b[0;34m\"NODE_CLASS_MAPPINGS\"\u001b[0m\u001b[0;34m,\u001b[0m \u001b[0;34m\"NODE_DISPLAY_NAME_MAPPINGS\"\u001b[0m\u001b[0;34m]\u001b[0m\u001b[0;34m\u001b[0m\u001b[0;34m\u001b[0m\u001b[0m\n",
            "\u001b[0;32m/content/TotoroUI/custom_nodes/comfyui_reactor_node/nodes.py\u001b[0m in \u001b[0;36m<module>\u001b[0;34m\u001b[0m\n\u001b[1;32m     19\u001b[0m \u001b[0;32mfrom\u001b[0m \u001b[0mmodules\u001b[0m\u001b[0;34m.\u001b[0m\u001b[0mshared\u001b[0m \u001b[0;32mimport\u001b[0m \u001b[0mstate\u001b[0m\u001b[0;34m\u001b[0m\u001b[0;34m\u001b[0m\u001b[0m\n\u001b[1;32m     20\u001b[0m \u001b[0;31m# from comfy_extras.chainner_models import model_loading\u001b[0m\u001b[0;34m\u001b[0m\u001b[0;34m\u001b[0m\u001b[0m\n\u001b[0;32m---> 21\u001b[0;31m \u001b[0;32mimport\u001b[0m \u001b[0mcomfy\u001b[0m\u001b[0;34m.\u001b[0m\u001b[0mmodel_management\u001b[0m \u001b[0;32mas\u001b[0m \u001b[0mmodel_management\u001b[0m\u001b[0;34m\u001b[0m\u001b[0;34m\u001b[0m\u001b[0m\n\u001b[0m\u001b[1;32m     22\u001b[0m \u001b[0;32mimport\u001b[0m \u001b[0mcomfy\u001b[0m\u001b[0;34m.\u001b[0m\u001b[0mutils\u001b[0m\u001b[0;34m\u001b[0m\u001b[0;34m\u001b[0m\u001b[0m\n\u001b[1;32m     23\u001b[0m \u001b[0;32mimport\u001b[0m \u001b[0mfolder_paths\u001b[0m\u001b[0;34m\u001b[0m\u001b[0;34m\u001b[0m\u001b[0m\n",
            "\u001b[0;31mModuleNotFoundError\u001b[0m: No module named 'comfy'",
            "",
            "\u001b[0;31m---------------------------------------------------------------------------\u001b[0;32m\nNOTE: If your import is failing due to a missing package, you can\nmanually install dependencies using either !pip or !apt.\n\nTo view examples of installing some common dependencies, click the\n\"Open Examples\" button below.\n\u001b[0;31m---------------------------------------------------------------------------\u001b[0m\n"
          ],
          "errorDetails": {
            "actions": [
              {
                "action": "open_url",
                "actionText": "Open Examples",
                "url": "/notebooks/snippets/importing_libraries.ipynb"
              }
            ]
          }
        }
      ]
    },
    {
      "cell_type": "markdown",
      "source": [
        "# Inference data"
      ],
      "metadata": {
        "id": "F3pLYafjlXZh"
      }
    },
    {
      "cell_type": "code",
      "source": [
        "positive_prompt = '''\n",
        "    (elsa from frozen), [realistic lighting],[photo],[photorealistic],[score_9, score_8_up, score_7_up, score_6_up, score_5_up, score_4_up],\n",
        "'''\n",
        "\n",
        "negative_prompt ='''\n",
        "    hard nipples, [deformed, bad anatomy, disfigured, poorly drawn face, mutated, extra limb, ugly, poorly drawn hands, missing limb,\n",
        "    floating limbs, disconnected limbs, disconnected head, malformed hands, long neck, mutated hands and fingers, bad hands,\n",
        "    missing fingers, cropped, worst quality, low quality, mutation, poorly drawn, huge calf, bad hands, fused hand, missing hand,\n",
        "    disappearing arms, disappearing thigh, disappearing calf, disappearing legs, missing fingers, fused fingers, abnormal eye proportion,\n",
        "    Abnormal hands, abnormal legs, abnormal feet, abnormal fingers, drawing, painting, crayon, sketch, graphite, impressionist, noisy,\n",
        "    blurry, soft, deformed, ugly, cartoon, graphic, text, painting, crayon, graphite, abstract, glitch],(anime,paint,illustration,cartoon),\n",
        "    (open mouth), [score 1, score 2, score 3],[pixar],\n",
        "\n",
        "    '''\n",
        "width = 765\n",
        "height = 512\n",
        "seed = 0\n",
        "steps = 10\n",
        "cfg = 1\n",
        "sampler = Sampler.DDIM\n",
        "scheduler = Scheduler.SGM_UNIFORM\n",
        "\n",
        "if seed == 0:\n",
        "    seed = random.randint(0, 18446744073709551615)\n",
        "print(f'seed={seed}')"
      ],
      "metadata": {
        "id": "B3_2y8phwXYR",
        "outputId": "d8664c5e-115e-433c-ada0-a5375aed73c9",
        "colab": {
          "base_uri": "https://localhost:8080/"
        }
      },
      "execution_count": 28,
      "outputs": [
        {
          "output_type": "stream",
          "name": "stdout",
          "text": [
            "seed=1245682470230767111\n"
          ]
        }
      ]
    },
    {
      "cell_type": "markdown",
      "source": [
        "## Load Model"
      ],
      "metadata": {
        "id": "GbPYUikl_Udj"
      }
    },
    {
      "cell_type": "code",
      "source": [
        "unet, clip, vae = load_checkpoint('realDream_sdxlPony11.safetensors')\n",
        "# unet, clip, vae = load_flux()"
      ],
      "metadata": {
        "id": "sCYSnmdx_ZJ1"
      },
      "execution_count": null,
      "outputs": []
    },
    {
      "cell_type": "markdown",
      "source": [
        "## Simple text to image"
      ],
      "metadata": {
        "id": "NS8f_7E5lseA"
      }
    },
    {
      "cell_type": "code",
      "source": [
        "seed = 681482878955117879\n",
        "\n",
        "empty_latent = create_empty_latent(width,height)\n",
        "unet2 = apply_hyper_lora(unet, HyperLoRa.HyperSD_XL_8_steps)\n",
        "# unet2 = apply_lora(unet2,\n",
        "#                    lora=[\n",
        "#                        ['WowifierXL.safetensors', 0.7],\n",
        "#                    ])\n",
        "latent = ksampler(unet2, seed, steps, cfg, sampler, scheduler,\n",
        "                  encode_prompt(clip, positive_prompt), encode_prompt(clip, negative_prompt),\n",
        "                  empty_latent)\n",
        "image = vae_decode(vae, latent)\n",
        "img = get_printable_image(image)\n",
        "clear_output()\n",
        "# saveJPEG(image)\n",
        "print(f'seed={seed}')\n",
        "img"
      ],
      "metadata": {
        "id": "TgGY5TgwQYqy"
      },
      "execution_count": null,
      "outputs": []
    },
    {
      "cell_type": "markdown",
      "source": [
        "## Simple text to image Flux.1 DEX"
      ],
      "metadata": {
        "id": "VbVrHjyy1QOf"
      }
    },
    {
      "cell_type": "code",
      "source": [
        "empty_latent = create_empty_latent(width,height)\n",
        "unet2 = apply_hyper_lora(unet, HyperLoRa.Hyper_Flux_DEV_8_steps)\n",
        "latent = ksampler_flux(unet2, seed, steps, cfg, Sampler.Euler, Scheduler.SIMPLE,\n",
        "                  encode_prompt(clip, positive_prompt), empty_latent)\n",
        "image = vae_decode(vae, latent)\n",
        "img = get_printable_image(image)\n",
        "# saveJPEG(image)\n",
        "print(f'seed={seed}')\n",
        "img"
      ],
      "metadata": {
        "id": "xcFxnUUm1Q9H"
      },
      "execution_count": null,
      "outputs": []
    },
    {
      "cell_type": "markdown",
      "source": [
        "## Simple image to image"
      ],
      "metadata": {
        "id": "qYRTxq85lwyI"
      }
    },
    {
      "cell_type": "code",
      "source": [
        "if seed == 0:\n",
        "    seed = random.randint(0, 18446744073709551615)\n",
        "print(f'seed={seed}')\n",
        "\n",
        "pixels = load_image('example.png')\n",
        "latent = vae_encode(vae, pixels)\n",
        "latent = ksampler(unet, seed, steps, cfg, sampler, scheduler,\n",
        "                  encode_prompt(clip, positive_prompt), encode_prompt(clip, negative_prompt),\n",
        "                  latent, denoise=0.8)\n",
        "image = vae_decode(vae, latent)\n",
        "img = get_printable_image(image)\n",
        "img"
      ],
      "metadata": {
        "id": "eHbGqwBVcrkK"
      },
      "execution_count": null,
      "outputs": []
    },
    {
      "cell_type": "markdown",
      "source": [
        "## UpScale Image"
      ],
      "metadata": {
        "id": "OaYV1yCpKOlc"
      }
    },
    {
      "cell_type": "code",
      "source": [
        "image_nX = scale_by_model(image, UpscalerModel.RealESRGAN_x2, scale=1)\n",
        "latent = vae_encode(vae, image_nX)\n",
        "latent = ksampler(unet2, seed, steps, cfg, sampler, scheduler,\n",
        "                  encode_prompt(clip, positive_prompt), encode_prompt(clip, negative_prompt),\n",
        "                  latent, denoise=0.4)\n",
        "image_nX = vae_decode(vae, latent)\n",
        "img = get_printable_image(image_nX)\n",
        "img"
      ],
      "metadata": {
        "id": "o7GfOEAUGeyV"
      },
      "execution_count": null,
      "outputs": []
    }
  ],
  "metadata": {
    "accelerator": "GPU",
    "colab": {
      "collapsed_sections": [
        "AyH4Jb5mNofH",
        "USPvp_jieoRL",
        "vUabsHbSTKF6",
        "Nb8G2WauywJu"
      ],
      "provenance": [],
      "include_colab_link": true
    },
    "kernelspec": {
      "display_name": "Python 3",
      "name": "python3"
    },
    "language_info": {
      "name": "python"
    }
  },
  "nbformat": 4,
  "nbformat_minor": 0
}