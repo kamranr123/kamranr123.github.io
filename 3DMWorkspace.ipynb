{
  "nbformat": 4,
  "nbformat_minor": 0,
  "metadata": {
    "colab": {
      "provenance": [],
      "collapsed_sections": [
        "A3k3drsOM7yB",
        "xyjpHmXWOEL3"
      ],
      "gpuType": "T4",
      "authorship_tag": "ABX9TyOzZfYCcmiwWgfE/aEbKcYU",
      "include_colab_link": true
    },
    "kernelspec": {
      "name": "python3",
      "display_name": "Python 3"
    },
    "language_info": {
      "name": "python"
    },
    "accelerator": "GPU"
  },
  "cells": [
    {
      "cell_type": "markdown",
      "metadata": {
        "id": "view-in-github",
        "colab_type": "text"
      },
      "source": [
        "<a href=\"https://colab.research.google.com/github/kamranr123/kamranr123.github.io/blob/master/3DMWorkspace.ipynb\" target=\"_parent\"><img src=\"https://colab.research.google.com/assets/colab-badge.svg\" alt=\"Open In Colab\"/></a>"
      ]
    },
    {
      "cell_type": "markdown",
      "source": [
        "## Utilities"
      ],
      "metadata": {
        "id": "A3k3drsOM7yB"
      }
    },
    {
      "cell_type": "code",
      "source": [
        "import os\n",
        "import zipfile\n",
        "import shutil\n",
        "\n",
        "def gn():\n",
        "    return 'CKMyUI'.replace(\"KM\", 'omf')\n",
        "\n",
        "%cd /content\n",
        "!apt -y install -qq aria2\n",
        "\n",
        "base_path = '/content/KMUI/models'\n",
        "model_path = f'{base_path}/checkpoints'\n",
        "lora_path = f'{base_path}/loras'\n",
        "vae_path = f'{base_path}/vae'\n",
        "\n",
        "if not os.path.exists(base_path):\n",
        "    os.makedirs(base_path)\n",
        "\n",
        "def download(model_link, model_name, path=model_path):\n",
        "    !aria2c --console-log-level=error -c -x 16 -s 16 -k 1M {model_link} -d {path} -o {model_name}\n",
        "\n",
        "def forceMergeFlatDir(srcDir, dstDir):\n",
        "    if not os.path.exists(dstDir):\n",
        "        os.makedirs(dstDir)\n",
        "    for item in os.listdir(srcDir):\n",
        "        srcFile = os.path.join(srcDir, item)\n",
        "        dstFile = os.path.join(dstDir, item)\n",
        "        forceMoveFile(srcFile, dstFile)\n",
        "\n",
        "def forceCopyFile (sfile, dfile):\n",
        "    if os.path.isfile(sfile):\n",
        "        shutil.copy2(sfile, dfile)\n",
        "\n",
        "def forceMoveFile (sfile, dfile):\n",
        "    if os.path.isfile(sfile):\n",
        "        shutil.move(sfile, dfile)\n",
        "\n",
        "def isAFlatDir(sDir):\n",
        "    for item in os.listdir(sDir):\n",
        "        sItem = os.path.join(sDir, item)\n",
        "        if os.path.isdir(sItem):\n",
        "            return False\n",
        "    return True\n",
        "\n",
        "def moveTree(src, dst):\n",
        "    for item in os.listdir(src):\n",
        "        s = os.path.join(src, item)\n",
        "        d = os.path.join(dst, item)\n",
        "        if os.path.isfile(s):\n",
        "            if not os.path.exists(dst):\n",
        "                os.makedirs(dst)\n",
        "            forceMoveFile(s,d)\n",
        "        if os.path.isdir(s):\n",
        "            isRecursive = not isAFlatDir(s)\n",
        "            if isRecursive:\n",
        "                moveTree(s, d)\n",
        "            else:\n",
        "                forceMergeFlatDir(s, d)"
      ],
      "metadata": {
        "id": "9gU0QJ9-M7gx"
      },
      "execution_count": null,
      "outputs": []
    },
    {
      "cell_type": "markdown",
      "source": [
        "## Dowload models"
      ],
      "metadata": {
        "id": "xjhlbdIIXdH-"
      }
    },
    {
      "cell_type": "code",
      "execution_count": null,
      "metadata": {
        "id": "68YHVAjDXIbs"
      },
      "outputs": [],
      "source": [
        "\n",
        "# DynaVision XL - All-in-one stylized 3D SFW and NSFW output\n",
        "# https://civitai.com/models/122606/dynavision-xl-all-in-one-stylized-3d-sfw-and-nsfw-output-no-refiner-needed\n",
        "# download('https://civitai.com/api/download/models/148259', 'DynaVision XL Beta_0.4.1.1-BakedVAE.safetensors', model_path)\n",
        "\n",
        "# Samaritan 3d Cartoon\n",
        "# https://civitai.com/models/81270?modelVersionId=144566\n",
        "# download('https://civitai.com/api/download/models/144566', 'Samaritan3dCartoonXL-V4.safetensors', model_path)\n",
        "# download('https://civitai.com/api/download/models/117986', 'Samaritan3dCartoon-V3.safetensors', model_path)\n",
        "\n",
        "# RealCartoon-Pixar\n",
        "# https://civitai.com/models/107289/realcartoon-pixar\n",
        "# download('https://civitai.com/api/download/models/121378?type=Model&format=SafeTensor&size=pruned&fp=fp16', 'RealCartoon-Pixar-V2.safetensors', model_path)\n",
        "\n",
        "# Anime3D Mix\n",
        "# https://civitai.com/models/112214/anime3d-mix\n",
        "# The model is focused on generating cute characters, but can also draw landscapes, rooms, and is pretty good at nsfw.\n",
        "download('https://civitai.com/api/download/models/121126', 'Anime3DMix-V1.safetensors', model_path)\n",
        "\n",
        "# 3D Animation Diffusion\n",
        "# https://civitai.com/models/118086/3d-animation-diffusion\n",
        "download('https://civitai.com/api/download/models/128046?type=Model&format=SafeTensor&size=pruned&fp=fp16', '3DAnimationDiffusion-V1.safetensors', model_path)\n",
        "\n",
        "# SDVN5-3DCuteWave\n",
        "# https://civitai.com/models/103178/sdvn5-3dcutewave\n",
        "# download('https://civitai.com/api/download/models/110455?type=Model&format=SafeTensor&size=pruned&fp=fp16', 'SDVN5-3DCuteWave-V1.safetensors', model_path)\n",
        "\n",
        "# Disney Pixar Cartoon Type B\n",
        "# https://civitai.com/models/75650/disney-pixar-cartoon-type-b\n",
        "# download('https://civitai.com/api/download/models/80409', 'DisneyPixarCartoonTypeB-V1.safetensors', model_path)\n",
        "\n",
        "# Disney Pixar Cartoon Type A\n",
        "# https://civitai.com/models/65203/disney-pixar-cartoon-type-a\n",
        "# download('https://civitai.com/api/download/models/69832', 'DisneyPixarCartoonTypeA-V1.safetensors', model_path)\n",
        "\n",
        "# Real Doll\n",
        "# https://civitai.com/models/63943/real-doll\n",
        "# download('https://civitai.com/api/download/models/68540', 'RealDoll-V1.safetensors', model_path)\n",
        "# download('https://civitai.com/api/download/models/14459?type=VAE', 'RealDoll-vae.safetensors', vae_path)\n",
        "\n",
        "# DucHaiten-GoldenLife\n",
        "# https://civitai.com/models/101420/duchaiten-goldenlife\n",
        "# 30% pixar + 20% 3D realism + 50% 3D anime\n",
        "# download('https://civitai.com/api/download/models/108544?type=Model&format=SafeTensor&size=pruned&fp=fp16', 'DucHaiten-GoldenLife-V1.safetensors', model_path)\n",
        "\n",
        "# DucHaitenNiji\n",
        "# https://civitai.com/models/70921/duchaitenniji\n",
        "# model is made based on photos from niji and model of niji3Dstyle and some other models.\n",
        "# download('https://civitai.com/api/download/models/80635?type=Model&format=SafeTensor&size=pruned&fp=fp16', 'DucHaitenNiji-V2.3.5.safetensors', model_path)\n",
        "\n",
        "#******************************** not 3D but helpfull ********************************************\n",
        "# RealCartoon-XL\n",
        "# https://civitai.com/models/125907/realcartoon-xl\n",
        "# download('https://civitai.com/api/download/models/152622', 'RealCartoon-XL-V2.safetensors', model_path)\n",
        "\n",
        "# GuoFeng4 XL\n",
        "# https://civitai.com/models/118009/4-guofeng4-xl\n",
        "# a fine-tuned model for the art style that Chinese people like. It has a 2.5D, CG, gaming, and modeling texture\n",
        "# download('https://civitai.com/api/download/models/130720', 'GuoFeng4-XL-V1.safetensors', model_path)\n",
        "# download('https://civitai.com/api/download/models/130720?type=VAE', 'GuoFeng4-XL-vae.safetensors', vae_path)\n",
        "\n",
        "# RealCartoon3D\n",
        "# https://civitai.com/models/94809/realcartoon3d\n",
        "# a fine-tuned model for the art style that Chinese people like. It has a 2.5D, CG, gaming, and modeling texture\n",
        "download('https://civitai.com/api/download/models/157159?type=Model&format=SafeTensor&size=full&fp=fp16', 'RealCartoon3D-V7.safetensors', model_path)\n",
        "\n"
      ]
    },
    {
      "cell_type": "markdown",
      "source": [
        "## Download LoRa"
      ],
      "metadata": {
        "id": "xyjpHmXWOEL3"
      }
    },
    {
      "cell_type": "code",
      "source": [
        "# 3D rendering style (SD 1.5)\n",
        "# https://civitai.com/models/73756\n",
        "# The larger the version number, the more mature and realistic the rendering style will be.\n",
        "download('https://civitai.com/api/download/models/107366', '3DMM_V12.safetensors', lora_path)\n",
        "download('https://civitai.com/api/download/models/78467', '3DMM_V10.safetensors', lora_path)\n",
        "download('https://civitai.com/api/download/models/88206', '3DMM_V7.safetensors', lora_path)\n",
        "download('https://civitai.com/api/download/models/78559', '3DMM_V5.safetensors', lora_path)\n",
        "download('https://civitai.com/api/download/models/78564', '3DMM_V3.safetensors', lora_path)\n",
        "\n",
        "# Detail Tweaker XL\n",
        "# https://civitai.com/models/122359/detail-tweaker-xl\n",
        "download('https://civitai.com/api/download/models/135867', 'DetailTweaker-XL-V1.safetensors', lora_path)\n",
        "\n",
        "# Add More Details - Detail Enhancer / Tweaker\n",
        "# https://civitai.com/models/82098/add-more-details-detail-enhancer-tweaker-lora\n",
        "download('https://civitai.com/api/download/models/87153?type=Model&format=SafeTensor', 'AddMoreDetails-v1.safetensors', lora_path)\n",
        "\n",
        "# sharpen/soften effect\n",
        "# https://civitai.com/models/94543/lora-sharpensoften-effect-lora-model\n",
        "download('https://civitai.com/api/download/models/100851', 'sharpen-soften effect-v1.safetensors', lora_path)\n",
        "\n",
        "# S-shape body slider LoRA (SD 1.5)\n",
        "# https://civitai.com/models/135052/muggle-loras-shape-body-slider\n",
        "download('https://civitai.com/api/download/models/148789', 'S-shape body slider-v1.safetensors', lora_path)\n",
        "\n",
        "# Better eyes+face+skin LoRA (SD 1.5)\n",
        "# https://civitai.com/models/51430?modelVersionId=55905\n",
        "download('https://civitai.com/api/download/models/55905', 'BetterEyesFaceSkin-v1.safetensors', lora_path)\n",
        "\n",
        "# Hipoly 3D Model LoRA (SD 1.5)\n",
        "# https://civitai.com/models/70921/duchaitenniji\n",
        "# download('https://civitai.com/api/download/models/44566', 'Hipoly3D-v2.safetensors', lora_path)\n",
        "\n",
        "# Samaritan 3d Cartoon SDXL\n",
        "# https://civitai.com/models/121932/samaritan-3d-cartoon-sdxl\n",
        "# the default face is grumpy/angry for some reason. But this model was trained on variety of emotions,\n",
        "# try \"smiling, laugh,sad, crying, shouting, surprised, etc\" in the prompt\n",
        "# download('https://civitai.com/api/download/models/132727', 'Samaritan3dCartoon-XL-V1.safetensors', lora_path)\n",
        "\n"
      ],
      "metadata": {
        "id": "Q1zEBY--OKfH",
        "colab": {
          "base_uri": "https://localhost:8080/"
        },
        "outputId": "468a6ce7-e9e3-4ac2-9700-66fdd1ec6ef9"
      },
      "execution_count": null,
      "outputs": [
        {
          "output_type": "stream",
          "name": "stdout",
          "text": [
            "\r\r\u001b[0m\n",
            "Download Results:\n",
            "gid   |stat|avg speed  |path/URI\n",
            "======+====+===========+=======================================================\n",
            "66fb8a|\u001b[1;32mOK\u001b[0m  |    67MiB/s|/content/KMUI/models/loras/3DMM_V12.safetensors\n",
            "\n",
            "Status Legend:\n",
            "(OK):download completed.\n",
            "\u001b[0m\n",
            "Download Results:\n",
            "gid   |stat|avg speed  |path/URI\n",
            "======+====+===========+=======================================================\n",
            "ae8390|\u001b[1;32mOK\u001b[0m  |    11MiB/s|/content/KMUI/models/loras/3DMM_V10.safetensors\n",
            "\n",
            "Status Legend:\n",
            "(OK):download completed.\n",
            "\u001b[0m\n",
            "Download Results:\n",
            "gid   |stat|avg speed  |path/URI\n",
            "======+====+===========+=======================================================\n",
            "704331|\u001b[1;32mOK\u001b[0m  |    27MiB/s|/content/KMUI/models/loras/3DMM_V7.safetensors\n",
            "\n",
            "Status Legend:\n",
            "(OK):download completed.\n",
            "\u001b[0m\n",
            "Download Results:\n",
            "gid   |stat|avg speed  |path/URI\n",
            "======+====+===========+=======================================================\n",
            "0fdb25|\u001b[1;32mOK\u001b[0m  |    55MiB/s|/content/KMUI/models/loras/3DMM_V5.safetensors\n",
            "\n",
            "Status Legend:\n",
            "(OK):download completed.\n",
            "\u001b[0m\n",
            "Download Results:\n",
            "gid   |stat|avg speed  |path/URI\n",
            "======+====+===========+=======================================================\n",
            "548180|\u001b[1;32mOK\u001b[0m  |    56MiB/s|/content/KMUI/models/loras/3DMM_V3.safetensors\n",
            "\n",
            "Status Legend:\n",
            "(OK):download completed.\n",
            "\u001b[0m\n",
            "Download Results:\n",
            "gid   |stat|avg speed  |path/URI\n",
            "======+====+===========+=======================================================\n",
            "fdc795|\u001b[1;32mOK\u001b[0m  |    63MiB/s|/content/KMUI/models/loras/DetailTweaker-XL-V1.safetensors\n",
            "\n",
            "Status Legend:\n",
            "(OK):download completed.\n",
            "/bin/bash: line 1: -d: command not found\n",
            "\u001b[0m\n",
            "Download Results:\n",
            "gid   |stat|avg speed  |path/URI\n",
            "======+====+===========+=======================================================\n",
            "209249|\u001b[1;32mOK\u001b[0m  |    64MiB/s|/content/more_details.safetensors\n",
            "\n",
            "Status Legend:\n",
            "(OK):download completed.\n",
            "Exception caught\n",
            "Exception: [download_helper.cc:451] errorCode=1 Unrecognized URI or unsupported protocol: effect-v1.safetensors\n",
            "\n",
            "Exception caught\n",
            "Exception: [download_helper.cc:451] errorCode=1 Unrecognized URI or unsupported protocol: body\n",
            "\n",
            "\u001b[0m\n",
            "Download Results:\n",
            "gid   |stat|avg speed  |path/URI\n",
            "======+====+===========+=======================================================\n",
            "d4c6bc|\u001b[1;32mOK\u001b[0m  |    20MiB/s|/content/KMUI/models/loras/BetterEyesFaceSkin-v1.safetensors\n",
            "\n",
            "Status Legend:\n",
            "(OK):download completed.\n"
          ]
        }
      ]
    },
    {
      "cell_type": "markdown",
      "source": [
        "## Other download"
      ],
      "metadata": {
        "id": "bW5yWwbDjAut"
      }
    },
    {
      "cell_type": "code",
      "source": [
        "download('https://huggingface.co/stabilityai/sd-vae-ft-mse-original/resolve/main/vae-ft-mse-840000-ema-pruned.ckpt', 'vae-ft-mse-840000-ema-pruned.ckpt', vae_path)\n",
        "\n",
        "download('https://github.com/madebyollin/taesd/raw/main/taesd_decoder.pth', 'taesd_decoder.pth', f'{base_path}/vae_approx')\n",
        "download(\"https://github.com/madebyollin/taesd/raw/main/taesdxl_decoder.pth\", 'taesdxl_decoder.pth', f'{base_path}/vae_approx')\n",
        "\n",
        "download(\"https://huggingface.co/sberbank-ai/Real-ESRGAN/resolve/main/RealESRGAN_x2.pth\", 'RealESRGAN_x2.pth', f'{base_path}/upscale_models')\n",
        "download(\"https://github.com/TencentARC/GFPGAN/releases/download/v1.3.0/GFPGANv1.4.pth\", 'GFPGANv1.4.pth', f'{base_path}/facerestore_models')\n",
        "download(\"https://huggingface.co/comfyanonymous/clip_vision_g/resolve/main/clip_vision_g.safetensors\", 'clip_vision_g.safetensors', f'{base_path}/clip_vision')\n",
        "\n"
      ],
      "metadata": {
        "id": "Wiv8746jjJRU"
      },
      "execution_count": null,
      "outputs": []
    },
    {
      "cell_type": "markdown",
      "source": [
        "## ControlNet"
      ],
      "metadata": {
        "id": "5W4HHjJT8ILP"
      }
    },
    {
      "cell_type": "code",
      "source": [
        "link = 'https://huggingface.co/diffusers/controlnet-canny-sdxl-1.0-mid/resolve/main/diffusion_pytorch_model.fp16.safetensors'\n",
        "download(link, 'controlnet-canny-sdxl-1.0-mid.safetensors', f'{base_path}/controlnet')\n",
        "\n",
        "link = 'https://huggingface.co/diffusers/controlnet-depth-sdxl-1.0/resolve/main/diffusion_pytorch_model.fp16.safetensors'\n",
        "download(link, 'controlnet-depth-sdxl-1.0.safetensors', f'{base_path}/controlnet')\n",
        "\n",
        "\n"
      ],
      "metadata": {
        "id": "Enz9QK3J8G1H"
      },
      "execution_count": null,
      "outputs": []
    },
    {
      "cell_type": "markdown",
      "source": [
        "## Install Workspace"
      ],
      "metadata": {
        "id": "jGuyWkY7kkEt"
      }
    },
    {
      "cell_type": "code",
      "source": [
        "!apt -y update -qq\n",
        "!wget https://github.com/camenduru/gperftools/releases/download/v1.0/libtcmalloc_minimal.so.4 -O /content/libtcmalloc_minimal.so.4\n",
        "%env LD_PRELOAD=/content/libtcmalloc_minimal.so.4\n",
        "\n",
        "!pip install -q mediapipe==0.9.1.0 addict yapf fvcore omegaconf\n",
        "\n",
        "!git clone https://github.com/comfyanonymous/{gn()}\n",
        "\n",
        "moveTree(f'/content/{gn()}', '/content/KMUI')\n",
        "shutil.rmtree(f'/content/{gn()}')\n",
        "\n",
        "%cd /content/KMUI\n",
        "!git pull\n",
        "!pip install xformers -r requirements.txt --extra-index-url https://download.pytorch.org/whl/cu118 --extra-index-url https://download.pytorch.org/whl/cu117\n",
        "\n",
        "#Install custom nodes\n",
        "\n",
        "%cd /content/KMUI/custom_nodes\n",
        "\n",
        "!git clone https://github.com/mpiquero1111/{gn()}-SaveImgPrompt SaveImgPrompt\n",
        "!pip install colorama\n",
        "\n",
        "!git clone https://github.com/ssitu/{gn()}_roop\n",
        "download(\"https://huggingface.co/ezioruan/inswapper_128.onnx/resolve/main/inswapper_128.onnx\", 'inswapper_128.onnx', f'/content/KMUI/custom_nodes/{gn()}_roop/models/roop')\n",
        "!pip install -r {gn()}_roop/requirements.txt\n",
        "!pip install opencv-python==4.8.0.74\n",
        "\n",
        "rfnode = 'https://civitai.com/api/download/models/122586'\n",
        "!aria2c --console-log-level=error -c -x 16 -s 16 -k 1M {rfnode} -d /content/KMUI/custom_nodes -o rf.zip\n",
        "with zipfile.ZipFile('/content/KMUI/custom_nodes/rf.zip', 'r') as zip_ref:\n",
        "    zip_ref.extractall('/content/KMUI/custom_nodes')\n",
        "os.remove('/content/KMUI/custom_nodes/rf.zip')\n",
        "\n",
        "!git clone https://github.com/Fannovel16/{gn()}_controlnet_aux/\n",
        "!pip install -r {gn()}_controlnet_aux/requirements.txt\n"
      ],
      "metadata": {
        "id": "VaPxghV7kqKE"
      },
      "execution_count": null,
      "outputs": []
    },
    {
      "cell_type": "markdown",
      "source": [
        "## Start Workspace"
      ],
      "metadata": {
        "id": "si2P4eHqlB7E"
      }
    },
    {
      "cell_type": "code",
      "source": [
        "!wget https://github.com/cloudflare/cloudflared/releases/latest/download/cloudflared-linux-amd64 -O /content/cloudflared-linux-amd64 && chmod 777 /content/cloudflared-linux-amd64\n",
        "import atexit, requests, subprocess, time, re, os\n",
        "from random import randint\n",
        "from threading import Timer\n",
        "from queue import Queue\n",
        "def cloudflared(port, metrics_port, output_queue):\n",
        "    atexit.register(lambda p: p.terminate(), subprocess.Popen(['/content/cloudflared-linux-amd64', 'tunnel', '--url', f'http://127.0.0.1:{port}', '--metrics', f'127.0.0.1:{metrics_port}'], stdout=subprocess.DEVNULL, stderr=subprocess.STDOUT))\n",
        "    attempts, tunnel_url = 0, None\n",
        "    while attempts < 10 and not tunnel_url:\n",
        "        attempts += 1\n",
        "        time.sleep(3)\n",
        "        try:\n",
        "            tunnel_url = re.search(\"(?P<url>https?:\\/\\/[^\\s]+.trycloudflare.com)\", requests.get(f'http://127.0.0.1:{metrics_port}/metrics').text).group(\"url\")\n",
        "        except:\n",
        "            pass\n",
        "    if not tunnel_url:\n",
        "        raise Exception(\"Can't connect to Cloudflare Edge\")\n",
        "    output_queue.put(tunnel_url)\n",
        "output_queue, metrics_port = Queue(), randint(8100, 9000)\n",
        "thread = Timer(2, cloudflared, args=(8188, metrics_port, output_queue))\n",
        "thread.start()\n",
        "thread.join()\n",
        "tunnel_url = output_queue.get()\n",
        "os.environ['webui_url'] = tunnel_url\n",
        "print(tunnel_url)\n",
        "\n",
        "%cd /content/KMUI\n",
        "!python main.py --preview-method taesd"
      ],
      "metadata": {
        "id": "29jRIAnVlFFN"
      },
      "execution_count": null,
      "outputs": []
    },
    {
      "cell_type": "markdown",
      "source": [
        "# Usefull Prompt"
      ],
      "metadata": {
        "id": "6kbHfYBmRQbw"
      }
    },
    {
      "cell_type": "code",
      "source": [
        "p1 = 'in style of Aardman Animations'\n",
        "p2 = '1man in comic style'\n",
        "\n"
      ],
      "metadata": {
        "id": "iSxmC8zMRQ1v"
      },
      "execution_count": null,
      "outputs": []
    }
  ]
}