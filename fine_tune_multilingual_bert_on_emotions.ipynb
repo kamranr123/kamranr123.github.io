{
  "nbformat": 4,
  "nbformat_minor": 0,
  "metadata": {
    "colab": {
      "provenance": [],
      "gpuType": "T4",
      "include_colab_link": true
    },
    "kernelspec": {
      "name": "python3",
      "display_name": "Python 3"
    },
    "language_info": {
      "name": "python"
    },
    "accelerator": "GPU",
    "widgets": {
      "application/vnd.jupyter.widget-state+json": {
        "65609eca25b949e19574a2d94f5f6025": {
          "model_module": "@jupyter-widgets/controls",
          "model_name": "HBoxModel",
          "model_module_version": "1.5.0",
          "state": {
            "_dom_classes": [],
            "_model_module": "@jupyter-widgets/controls",
            "_model_module_version": "1.5.0",
            "_model_name": "HBoxModel",
            "_view_count": null,
            "_view_module": "@jupyter-widgets/controls",
            "_view_module_version": "1.5.0",
            "_view_name": "HBoxView",
            "box_style": "",
            "children": [
              "IPY_MODEL_0d39f460e7c54d35938fb064c04bb0e2",
              "IPY_MODEL_67617b9b0908496f99d81c4e9539c88f",
              "IPY_MODEL_287b66ebc8a441bd8f2d2d79d6854d47"
            ],
            "layout": "IPY_MODEL_651db49c6d90416e890aec7282257904"
          }
        },
        "0d39f460e7c54d35938fb064c04bb0e2": {
          "model_module": "@jupyter-widgets/controls",
          "model_name": "HTMLModel",
          "model_module_version": "1.5.0",
          "state": {
            "_dom_classes": [],
            "_model_module": "@jupyter-widgets/controls",
            "_model_module_version": "1.5.0",
            "_model_name": "HTMLModel",
            "_view_count": null,
            "_view_module": "@jupyter-widgets/controls",
            "_view_module_version": "1.5.0",
            "_view_name": "HTMLView",
            "description": "",
            "description_tooltip": null,
            "layout": "IPY_MODEL_5f1493f8dfc54ae4a63b6ad03695f405",
            "placeholder": "​",
            "style": "IPY_MODEL_8e09796521aa44c09c58cf000c83a2e2",
            "value": "Map: 100%"
          }
        },
        "67617b9b0908496f99d81c4e9539c88f": {
          "model_module": "@jupyter-widgets/controls",
          "model_name": "FloatProgressModel",
          "model_module_version": "1.5.0",
          "state": {
            "_dom_classes": [],
            "_model_module": "@jupyter-widgets/controls",
            "_model_module_version": "1.5.0",
            "_model_name": "FloatProgressModel",
            "_view_count": null,
            "_view_module": "@jupyter-widgets/controls",
            "_view_module_version": "1.5.0",
            "_view_name": "ProgressView",
            "bar_style": "success",
            "description": "",
            "description_tooltip": null,
            "layout": "IPY_MODEL_cb26723fd58e43f7b5e6c490fc83ee0c",
            "max": 24000,
            "min": 0,
            "orientation": "horizontal",
            "style": "IPY_MODEL_5984df0ea03040ce8c5bbd7dfef5603b",
            "value": 24000
          }
        },
        "287b66ebc8a441bd8f2d2d79d6854d47": {
          "model_module": "@jupyter-widgets/controls",
          "model_name": "HTMLModel",
          "model_module_version": "1.5.0",
          "state": {
            "_dom_classes": [],
            "_model_module": "@jupyter-widgets/controls",
            "_model_module_version": "1.5.0",
            "_model_name": "HTMLModel",
            "_view_count": null,
            "_view_module": "@jupyter-widgets/controls",
            "_view_module_version": "1.5.0",
            "_view_name": "HTMLView",
            "description": "",
            "description_tooltip": null,
            "layout": "IPY_MODEL_6d916e2e0a33458c90fd2491e49d8ea0",
            "placeholder": "​",
            "style": "IPY_MODEL_62597d1709d74af0bbc8bf3c80d0115d",
            "value": " 24000/24000 [00:17&lt;00:00, 1200.40 examples/s]"
          }
        },
        "651db49c6d90416e890aec7282257904": {
          "model_module": "@jupyter-widgets/base",
          "model_name": "LayoutModel",
          "model_module_version": "1.2.0",
          "state": {
            "_model_module": "@jupyter-widgets/base",
            "_model_module_version": "1.2.0",
            "_model_name": "LayoutModel",
            "_view_count": null,
            "_view_module": "@jupyter-widgets/base",
            "_view_module_version": "1.2.0",
            "_view_name": "LayoutView",
            "align_content": null,
            "align_items": null,
            "align_self": null,
            "border": null,
            "bottom": null,
            "display": null,
            "flex": null,
            "flex_flow": null,
            "grid_area": null,
            "grid_auto_columns": null,
            "grid_auto_flow": null,
            "grid_auto_rows": null,
            "grid_column": null,
            "grid_gap": null,
            "grid_row": null,
            "grid_template_areas": null,
            "grid_template_columns": null,
            "grid_template_rows": null,
            "height": null,
            "justify_content": null,
            "justify_items": null,
            "left": null,
            "margin": null,
            "max_height": null,
            "max_width": null,
            "min_height": null,
            "min_width": null,
            "object_fit": null,
            "object_position": null,
            "order": null,
            "overflow": null,
            "overflow_x": null,
            "overflow_y": null,
            "padding": null,
            "right": null,
            "top": null,
            "visibility": null,
            "width": null
          }
        },
        "5f1493f8dfc54ae4a63b6ad03695f405": {
          "model_module": "@jupyter-widgets/base",
          "model_name": "LayoutModel",
          "model_module_version": "1.2.0",
          "state": {
            "_model_module": "@jupyter-widgets/base",
            "_model_module_version": "1.2.0",
            "_model_name": "LayoutModel",
            "_view_count": null,
            "_view_module": "@jupyter-widgets/base",
            "_view_module_version": "1.2.0",
            "_view_name": "LayoutView",
            "align_content": null,
            "align_items": null,
            "align_self": null,
            "border": null,
            "bottom": null,
            "display": null,
            "flex": null,
            "flex_flow": null,
            "grid_area": null,
            "grid_auto_columns": null,
            "grid_auto_flow": null,
            "grid_auto_rows": null,
            "grid_column": null,
            "grid_gap": null,
            "grid_row": null,
            "grid_template_areas": null,
            "grid_template_columns": null,
            "grid_template_rows": null,
            "height": null,
            "justify_content": null,
            "justify_items": null,
            "left": null,
            "margin": null,
            "max_height": null,
            "max_width": null,
            "min_height": null,
            "min_width": null,
            "object_fit": null,
            "object_position": null,
            "order": null,
            "overflow": null,
            "overflow_x": null,
            "overflow_y": null,
            "padding": null,
            "right": null,
            "top": null,
            "visibility": null,
            "width": null
          }
        },
        "8e09796521aa44c09c58cf000c83a2e2": {
          "model_module": "@jupyter-widgets/controls",
          "model_name": "DescriptionStyleModel",
          "model_module_version": "1.5.0",
          "state": {
            "_model_module": "@jupyter-widgets/controls",
            "_model_module_version": "1.5.0",
            "_model_name": "DescriptionStyleModel",
            "_view_count": null,
            "_view_module": "@jupyter-widgets/base",
            "_view_module_version": "1.2.0",
            "_view_name": "StyleView",
            "description_width": ""
          }
        },
        "cb26723fd58e43f7b5e6c490fc83ee0c": {
          "model_module": "@jupyter-widgets/base",
          "model_name": "LayoutModel",
          "model_module_version": "1.2.0",
          "state": {
            "_model_module": "@jupyter-widgets/base",
            "_model_module_version": "1.2.0",
            "_model_name": "LayoutModel",
            "_view_count": null,
            "_view_module": "@jupyter-widgets/base",
            "_view_module_version": "1.2.0",
            "_view_name": "LayoutView",
            "align_content": null,
            "align_items": null,
            "align_self": null,
            "border": null,
            "bottom": null,
            "display": null,
            "flex": null,
            "flex_flow": null,
            "grid_area": null,
            "grid_auto_columns": null,
            "grid_auto_flow": null,
            "grid_auto_rows": null,
            "grid_column": null,
            "grid_gap": null,
            "grid_row": null,
            "grid_template_areas": null,
            "grid_template_columns": null,
            "grid_template_rows": null,
            "height": null,
            "justify_content": null,
            "justify_items": null,
            "left": null,
            "margin": null,
            "max_height": null,
            "max_width": null,
            "min_height": null,
            "min_width": null,
            "object_fit": null,
            "object_position": null,
            "order": null,
            "overflow": null,
            "overflow_x": null,
            "overflow_y": null,
            "padding": null,
            "right": null,
            "top": null,
            "visibility": null,
            "width": null
          }
        },
        "5984df0ea03040ce8c5bbd7dfef5603b": {
          "model_module": "@jupyter-widgets/controls",
          "model_name": "ProgressStyleModel",
          "model_module_version": "1.5.0",
          "state": {
            "_model_module": "@jupyter-widgets/controls",
            "_model_module_version": "1.5.0",
            "_model_name": "ProgressStyleModel",
            "_view_count": null,
            "_view_module": "@jupyter-widgets/base",
            "_view_module_version": "1.2.0",
            "_view_name": "StyleView",
            "bar_color": null,
            "description_width": ""
          }
        },
        "6d916e2e0a33458c90fd2491e49d8ea0": {
          "model_module": "@jupyter-widgets/base",
          "model_name": "LayoutModel",
          "model_module_version": "1.2.0",
          "state": {
            "_model_module": "@jupyter-widgets/base",
            "_model_module_version": "1.2.0",
            "_model_name": "LayoutModel",
            "_view_count": null,
            "_view_module": "@jupyter-widgets/base",
            "_view_module_version": "1.2.0",
            "_view_name": "LayoutView",
            "align_content": null,
            "align_items": null,
            "align_self": null,
            "border": null,
            "bottom": null,
            "display": null,
            "flex": null,
            "flex_flow": null,
            "grid_area": null,
            "grid_auto_columns": null,
            "grid_auto_flow": null,
            "grid_auto_rows": null,
            "grid_column": null,
            "grid_gap": null,
            "grid_row": null,
            "grid_template_areas": null,
            "grid_template_columns": null,
            "grid_template_rows": null,
            "height": null,
            "justify_content": null,
            "justify_items": null,
            "left": null,
            "margin": null,
            "max_height": null,
            "max_width": null,
            "min_height": null,
            "min_width": null,
            "object_fit": null,
            "object_position": null,
            "order": null,
            "overflow": null,
            "overflow_x": null,
            "overflow_y": null,
            "padding": null,
            "right": null,
            "top": null,
            "visibility": null,
            "width": null
          }
        },
        "62597d1709d74af0bbc8bf3c80d0115d": {
          "model_module": "@jupyter-widgets/controls",
          "model_name": "DescriptionStyleModel",
          "model_module_version": "1.5.0",
          "state": {
            "_model_module": "@jupyter-widgets/controls",
            "_model_module_version": "1.5.0",
            "_model_name": "DescriptionStyleModel",
            "_view_count": null,
            "_view_module": "@jupyter-widgets/base",
            "_view_module_version": "1.2.0",
            "_view_name": "StyleView",
            "description_width": ""
          }
        },
        "6a5e2f4b63bd432abd3245469599f41f": {
          "model_module": "@jupyter-widgets/controls",
          "model_name": "HBoxModel",
          "model_module_version": "1.5.0",
          "state": {
            "_dom_classes": [],
            "_model_module": "@jupyter-widgets/controls",
            "_model_module_version": "1.5.0",
            "_model_name": "HBoxModel",
            "_view_count": null,
            "_view_module": "@jupyter-widgets/controls",
            "_view_module_version": "1.5.0",
            "_view_name": "HBoxView",
            "box_style": "",
            "children": [
              "IPY_MODEL_d0e527fe9b3345b7bff60e14ad01e522",
              "IPY_MODEL_25b45d7950ce492f8a1e07c4b9c5c18d",
              "IPY_MODEL_5c709263249e4bf2a9ad66e904c1d89e"
            ],
            "layout": "IPY_MODEL_52db5dae3b334137bbe69b72284777af"
          }
        },
        "d0e527fe9b3345b7bff60e14ad01e522": {
          "model_module": "@jupyter-widgets/controls",
          "model_name": "HTMLModel",
          "model_module_version": "1.5.0",
          "state": {
            "_dom_classes": [],
            "_model_module": "@jupyter-widgets/controls",
            "_model_module_version": "1.5.0",
            "_model_name": "HTMLModel",
            "_view_count": null,
            "_view_module": "@jupyter-widgets/controls",
            "_view_module_version": "1.5.0",
            "_view_name": "HTMLView",
            "description": "",
            "description_tooltip": null,
            "layout": "IPY_MODEL_08413e0578d7488cb6a5cc65d58b17e7",
            "placeholder": "​",
            "style": "IPY_MODEL_d771aed9c6204e318c6283604770142b",
            "value": "Map: 100%"
          }
        },
        "25b45d7950ce492f8a1e07c4b9c5c18d": {
          "model_module": "@jupyter-widgets/controls",
          "model_name": "FloatProgressModel",
          "model_module_version": "1.5.0",
          "state": {
            "_dom_classes": [],
            "_model_module": "@jupyter-widgets/controls",
            "_model_module_version": "1.5.0",
            "_model_name": "FloatProgressModel",
            "_view_count": null,
            "_view_module": "@jupyter-widgets/controls",
            "_view_module_version": "1.5.0",
            "_view_name": "ProgressView",
            "bar_style": "success",
            "description": "",
            "description_tooltip": null,
            "layout": "IPY_MODEL_7ae5d8cc9c104d86b81196ecc1fa44b0",
            "max": 6000,
            "min": 0,
            "orientation": "horizontal",
            "style": "IPY_MODEL_923f2b6c6eba4706be30dc6558e34c04",
            "value": 6000
          }
        },
        "5c709263249e4bf2a9ad66e904c1d89e": {
          "model_module": "@jupyter-widgets/controls",
          "model_name": "HTMLModel",
          "model_module_version": "1.5.0",
          "state": {
            "_dom_classes": [],
            "_model_module": "@jupyter-widgets/controls",
            "_model_module_version": "1.5.0",
            "_model_name": "HTMLModel",
            "_view_count": null,
            "_view_module": "@jupyter-widgets/controls",
            "_view_module_version": "1.5.0",
            "_view_name": "HTMLView",
            "description": "",
            "description_tooltip": null,
            "layout": "IPY_MODEL_ce0fdf0a103f4dc28e14d9b499a11e06",
            "placeholder": "​",
            "style": "IPY_MODEL_bc7dd6e3101746679770ac47b85235e8",
            "value": " 6000/6000 [00:06&lt;00:00, 963.39 examples/s]"
          }
        },
        "52db5dae3b334137bbe69b72284777af": {
          "model_module": "@jupyter-widgets/base",
          "model_name": "LayoutModel",
          "model_module_version": "1.2.0",
          "state": {
            "_model_module": "@jupyter-widgets/base",
            "_model_module_version": "1.2.0",
            "_model_name": "LayoutModel",
            "_view_count": null,
            "_view_module": "@jupyter-widgets/base",
            "_view_module_version": "1.2.0",
            "_view_name": "LayoutView",
            "align_content": null,
            "align_items": null,
            "align_self": null,
            "border": null,
            "bottom": null,
            "display": null,
            "flex": null,
            "flex_flow": null,
            "grid_area": null,
            "grid_auto_columns": null,
            "grid_auto_flow": null,
            "grid_auto_rows": null,
            "grid_column": null,
            "grid_gap": null,
            "grid_row": null,
            "grid_template_areas": null,
            "grid_template_columns": null,
            "grid_template_rows": null,
            "height": null,
            "justify_content": null,
            "justify_items": null,
            "left": null,
            "margin": null,
            "max_height": null,
            "max_width": null,
            "min_height": null,
            "min_width": null,
            "object_fit": null,
            "object_position": null,
            "order": null,
            "overflow": null,
            "overflow_x": null,
            "overflow_y": null,
            "padding": null,
            "right": null,
            "top": null,
            "visibility": null,
            "width": null
          }
        },
        "08413e0578d7488cb6a5cc65d58b17e7": {
          "model_module": "@jupyter-widgets/base",
          "model_name": "LayoutModel",
          "model_module_version": "1.2.0",
          "state": {
            "_model_module": "@jupyter-widgets/base",
            "_model_module_version": "1.2.0",
            "_model_name": "LayoutModel",
            "_view_count": null,
            "_view_module": "@jupyter-widgets/base",
            "_view_module_version": "1.2.0",
            "_view_name": "LayoutView",
            "align_content": null,
            "align_items": null,
            "align_self": null,
            "border": null,
            "bottom": null,
            "display": null,
            "flex": null,
            "flex_flow": null,
            "grid_area": null,
            "grid_auto_columns": null,
            "grid_auto_flow": null,
            "grid_auto_rows": null,
            "grid_column": null,
            "grid_gap": null,
            "grid_row": null,
            "grid_template_areas": null,
            "grid_template_columns": null,
            "grid_template_rows": null,
            "height": null,
            "justify_content": null,
            "justify_items": null,
            "left": null,
            "margin": null,
            "max_height": null,
            "max_width": null,
            "min_height": null,
            "min_width": null,
            "object_fit": null,
            "object_position": null,
            "order": null,
            "overflow": null,
            "overflow_x": null,
            "overflow_y": null,
            "padding": null,
            "right": null,
            "top": null,
            "visibility": null,
            "width": null
          }
        },
        "d771aed9c6204e318c6283604770142b": {
          "model_module": "@jupyter-widgets/controls",
          "model_name": "DescriptionStyleModel",
          "model_module_version": "1.5.0",
          "state": {
            "_model_module": "@jupyter-widgets/controls",
            "_model_module_version": "1.5.0",
            "_model_name": "DescriptionStyleModel",
            "_view_count": null,
            "_view_module": "@jupyter-widgets/base",
            "_view_module_version": "1.2.0",
            "_view_name": "StyleView",
            "description_width": ""
          }
        },
        "7ae5d8cc9c104d86b81196ecc1fa44b0": {
          "model_module": "@jupyter-widgets/base",
          "model_name": "LayoutModel",
          "model_module_version": "1.2.0",
          "state": {
            "_model_module": "@jupyter-widgets/base",
            "_model_module_version": "1.2.0",
            "_model_name": "LayoutModel",
            "_view_count": null,
            "_view_module": "@jupyter-widgets/base",
            "_view_module_version": "1.2.0",
            "_view_name": "LayoutView",
            "align_content": null,
            "align_items": null,
            "align_self": null,
            "border": null,
            "bottom": null,
            "display": null,
            "flex": null,
            "flex_flow": null,
            "grid_area": null,
            "grid_auto_columns": null,
            "grid_auto_flow": null,
            "grid_auto_rows": null,
            "grid_column": null,
            "grid_gap": null,
            "grid_row": null,
            "grid_template_areas": null,
            "grid_template_columns": null,
            "grid_template_rows": null,
            "height": null,
            "justify_content": null,
            "justify_items": null,
            "left": null,
            "margin": null,
            "max_height": null,
            "max_width": null,
            "min_height": null,
            "min_width": null,
            "object_fit": null,
            "object_position": null,
            "order": null,
            "overflow": null,
            "overflow_x": null,
            "overflow_y": null,
            "padding": null,
            "right": null,
            "top": null,
            "visibility": null,
            "width": null
          }
        },
        "923f2b6c6eba4706be30dc6558e34c04": {
          "model_module": "@jupyter-widgets/controls",
          "model_name": "ProgressStyleModel",
          "model_module_version": "1.5.0",
          "state": {
            "_model_module": "@jupyter-widgets/controls",
            "_model_module_version": "1.5.0",
            "_model_name": "ProgressStyleModel",
            "_view_count": null,
            "_view_module": "@jupyter-widgets/base",
            "_view_module_version": "1.2.0",
            "_view_name": "StyleView",
            "bar_color": null,
            "description_width": ""
          }
        },
        "ce0fdf0a103f4dc28e14d9b499a11e06": {
          "model_module": "@jupyter-widgets/base",
          "model_name": "LayoutModel",
          "model_module_version": "1.2.0",
          "state": {
            "_model_module": "@jupyter-widgets/base",
            "_model_module_version": "1.2.0",
            "_model_name": "LayoutModel",
            "_view_count": null,
            "_view_module": "@jupyter-widgets/base",
            "_view_module_version": "1.2.0",
            "_view_name": "LayoutView",
            "align_content": null,
            "align_items": null,
            "align_self": null,
            "border": null,
            "bottom": null,
            "display": null,
            "flex": null,
            "flex_flow": null,
            "grid_area": null,
            "grid_auto_columns": null,
            "grid_auto_flow": null,
            "grid_auto_rows": null,
            "grid_column": null,
            "grid_gap": null,
            "grid_row": null,
            "grid_template_areas": null,
            "grid_template_columns": null,
            "grid_template_rows": null,
            "height": null,
            "justify_content": null,
            "justify_items": null,
            "left": null,
            "margin": null,
            "max_height": null,
            "max_width": null,
            "min_height": null,
            "min_width": null,
            "object_fit": null,
            "object_position": null,
            "order": null,
            "overflow": null,
            "overflow_x": null,
            "overflow_y": null,
            "padding": null,
            "right": null,
            "top": null,
            "visibility": null,
            "width": null
          }
        },
        "bc7dd6e3101746679770ac47b85235e8": {
          "model_module": "@jupyter-widgets/controls",
          "model_name": "DescriptionStyleModel",
          "model_module_version": "1.5.0",
          "state": {
            "_model_module": "@jupyter-widgets/controls",
            "_model_module_version": "1.5.0",
            "_model_name": "DescriptionStyleModel",
            "_view_count": null,
            "_view_module": "@jupyter-widgets/base",
            "_view_module_version": "1.2.0",
            "_view_name": "StyleView",
            "description_width": ""
          }
        }
      }
    }
  },
  "cells": [
    {
      "cell_type": "markdown",
      "metadata": {
        "id": "view-in-github",
        "colab_type": "text"
      },
      "source": [
        "<a href=\"https://colab.research.google.com/github/kamranr123/kamranr123.github.io/blob/master/fine_tune_multilingual_bert_on_emotions.ipynb\" target=\"_parent\"><img src=\"https://colab.research.google.com/assets/colab-badge.svg\" alt=\"Open In Colab\"/></a>"
      ]
    },
    {
      "cell_type": "code",
      "source": [
        "from google.colab import drive\n",
        "drive.mount('/content/drive')"
      ],
      "metadata": {
        "colab": {
          "base_uri": "https://localhost:8080/"
        },
        "id": "4on5D3v5YVng",
        "outputId": "0083b7a2-0e65-45c1-ade0-bcfd644749b2"
      },
      "execution_count": null,
      "outputs": [
        {
          "output_type": "stream",
          "name": "stdout",
          "text": [
            "Drive already mounted at /content/drive; to attempt to forcibly remount, call drive.mount(\"/content/drive\", force_remount=True).\n"
          ]
        }
      ]
    },
    {
      "cell_type": "code",
      "source": [
        "# Install dependencies\n",
        "!pip install -q transformers datasets accelerate"
      ],
      "metadata": {
        "id": "oYBBBhdaILmf"
      },
      "execution_count": 1,
      "outputs": []
    },
    {
      "cell_type": "code",
      "source": [
        "!wget -P /content https://github.com/nazaninsbr/Persian-Emotion-Detection/raw/refs/heads/main/dataset.csv"
      ],
      "metadata": {
        "id": "WHRf3iBLeW9I"
      },
      "execution_count": null,
      "outputs": []
    },
    {
      "cell_type": "code",
      "source": [
        "import os\n",
        "import pandas as pd\n",
        "from datasets import Dataset, DatasetDict\n",
        "from sklearn.model_selection import train_test_split\n",
        "from transformers import AutoTokenizer, AutoModelForSequenceClassification, TrainingArguments, Trainer\n",
        "import torch\n",
        "\n",
        "# Disable W&B\n",
        "os.environ[\"WANDB_DISABLED\"] = \"true\"\n"
      ],
      "metadata": {
        "id": "ZljdrqNY0a2w"
      },
      "execution_count": 1,
      "outputs": []
    },
    {
      "cell_type": "code",
      "source": [
        "import pandas as pd\n",
        "import numpy as np\n",
        "from datasets import Dataset, DatasetDict\n",
        "from sklearn.model_selection import train_test_split\n",
        "\n",
        "# Load dataset\n",
        "df = pd.read_csv(\"/content/dataset.csv\")\n",
        "\n",
        "# Emotion label columns (vote counts 0-5)\n",
        "label_cols = [\"Anger\", \"Fear\", \"Happiness\", \"Hatred\", \"Sadness\", \"Wonder\"]\n",
        "\n",
        "# Binarize emotions: 1 if >=3 votes (majority), else 0\n",
        "df[label_cols] = df[label_cols].apply(lambda row: [1 if int(x) >= 3 else 0 for x in row], axis=1, result_type='expand')\n",
        "\n",
        "\n",
        "# Add Neutral: 1 if no emotions have majority (sum of binarized emotions == 0)\n",
        "df[\"Neutral\"] = (df[label_cols].sum(axis=1) == 0).astype(int)\n",
        "final_labels = label_cols + [\"Neutral\"]\n",
        "df[\"labels\"] = df[final_labels].apply(lambda row: [float(x) for x in row], axis=1)\n",
        "\n",
        "# Keep only text + labels\n",
        "df = df[[\"text\", \"labels\"]]\n",
        "\n",
        "# Train/validation split\n",
        "train_df, val_df = train_test_split(df, test_size=0.2, random_state=42)\n",
        "\n",
        "# Create Hugging Face datasets\n",
        "train_ds = Dataset.from_pandas(train_df.reset_index(drop=True))\n",
        "val_ds = Dataset.from_pandas(val_df.reset_index(drop=True))\n",
        "dataset = DatasetDict({\"train\": train_ds, \"validation\": val_ds})\n",
        "\n",
        "# Verify\n",
        "train_labels = np.array(dataset[\"train\"][\"labels\"])\n",
        "val_labels = np.array(dataset[\"validation\"][\"labels\"])\n",
        "print(\"Unique training label values:\", np.unique(train_labels))\n",
        "print(\"Unique validation label values:\", np.unique(val_labels))\n",
        "print(\"Training label frequencies:\", np.sum(train_labels, axis=0) / train_labels.shape[0])\n",
        "print(\"Validation label frequencies:\", np.sum(val_labels, axis=0) / val_labels.shape[0])"
      ],
      "metadata": {
        "colab": {
          "base_uri": "https://localhost:8080/"
        },
        "id": "lQowqp_3j9Hf",
        "outputId": "bc7f042a-c139-4415-b972-4bb991418b5c"
      },
      "execution_count": 2,
      "outputs": [
        {
          "output_type": "stream",
          "name": "stdout",
          "text": [
            "Unique training label values: [0. 1.]\n",
            "Unique validation label values: [0. 1.]\n",
            "Training label frequencies: [0.05570833 0.02308333 0.023625   0.042125   0.05891667 0.033625\n",
            " 0.796125  ]\n",
            "Validation label frequencies: [0.04916667 0.02266667 0.02083333 0.04083333 0.05933333 0.02983333\n",
            " 0.80483333]\n"
          ]
        }
      ]
    },
    {
      "cell_type": "code",
      "source": [
        "import numpy as np\n",
        "train_labels_np = np.stack(train_df[\"labels\"].values)  # shape (N, num_labels)\n",
        "neg = (train_labels_np == 0).sum(axis=0).astype(np.float32)\n",
        "pos = (train_labels_np == 1).sum(axis=0).astype(np.float32)\n",
        "# Avoid division by zero\n",
        "pos = np.where(pos == 0, 1.0, pos)\n",
        "pos_weight = neg / pos\n",
        "print(\"pos_weight:\", pos_weight)  # use this in loss\n"
      ],
      "metadata": {
        "id": "xMRnfqN9WroP",
        "outputId": "f4c32886-3963-4aba-b089-a38a4d04b88d",
        "colab": {
          "base_uri": "https://localhost:8080/"
        }
      },
      "execution_count": 18,
      "outputs": [
        {
          "output_type": "stream",
          "name": "stdout",
          "text": [
            "pos_weight: [16.950636   42.3213     41.32804    22.738873   15.973125   28.739777\n",
            "  0.25608414]\n"
          ]
        }
      ]
    },
    {
      "cell_type": "code",
      "source": [
        "for i in range(10):\n",
        "  print(dataset[\"train\"][i]['labels'])"
      ],
      "metadata": {
        "id": "8EzJekzg9gs0",
        "outputId": "3e743832-a6ef-4025-f07f-80d854246d11",
        "colab": {
          "base_uri": "https://localhost:8080/"
        }
      },
      "execution_count": 10,
      "outputs": [
        {
          "output_type": "stream",
          "name": "stdout",
          "text": [
            "[0.0, 0.0, 0.0, 1.0, 0.0, 0.0, 0.0]\n",
            "[0.0, 0.0, 1.0, 0.0, 0.0, 1.0, 0.0]\n",
            "[0.0, 0.0, 0.0, 0.0, 0.0, 0.0, 1.0]\n",
            "[0.0, 0.0, 0.0, 0.0, 1.0, 1.0, 0.0]\n",
            "[0.0, 0.0, 0.0, 0.0, 0.0, 0.0, 1.0]\n",
            "[0.0, 0.0, 0.0, 0.0, 0.0, 1.0, 0.0]\n",
            "[0.0, 0.0, 0.0, 1.0, 0.0, 0.0, 0.0]\n",
            "[1.0, 1.0, 0.0, 0.0, 1.0, 0.0, 0.0]\n",
            "[0.0, 0.0, 0.0, 0.0, 0.0, 0.0, 1.0]\n",
            "[0.0, 0.0, 0.0, 0.0, 1.0, 0.0, 0.0]\n"
          ]
        }
      ]
    },
    {
      "cell_type": "code",
      "source": [
        "# model_name = \"google-bert/bert-base-multilingual-cased\"\n",
        "model_name = \"HooshvareLab/bert-fa-base-uncased\"\n",
        "tokenizer = AutoTokenizer.from_pretrained(model_name)\n",
        "\n",
        "def tokenize(batch):\n",
        "    return tokenizer(batch[\"text\"], padding=\"max_length\", truncation=True, max_length=256)\n",
        "\n",
        "dataset = dataset.map(tokenize, batched=True)\n",
        "# dataset = dataset.remove_columns([\"text\"])\n"
      ],
      "metadata": {
        "id": "suYQzQhK0p_g",
        "outputId": "7fcad978-fe0a-4e94-f8b8-5f35913be97f",
        "colab": {
          "base_uri": "https://localhost:8080/",
          "height": 185,
          "referenced_widgets": [
            "65609eca25b949e19574a2d94f5f6025",
            "0d39f460e7c54d35938fb064c04bb0e2",
            "67617b9b0908496f99d81c4e9539c88f",
            "287b66ebc8a441bd8f2d2d79d6854d47",
            "651db49c6d90416e890aec7282257904",
            "5f1493f8dfc54ae4a63b6ad03695f405",
            "8e09796521aa44c09c58cf000c83a2e2",
            "cb26723fd58e43f7b5e6c490fc83ee0c",
            "5984df0ea03040ce8c5bbd7dfef5603b",
            "6d916e2e0a33458c90fd2491e49d8ea0",
            "62597d1709d74af0bbc8bf3c80d0115d",
            "6a5e2f4b63bd432abd3245469599f41f",
            "d0e527fe9b3345b7bff60e14ad01e522",
            "25b45d7950ce492f8a1e07c4b9c5c18d",
            "5c709263249e4bf2a9ad66e904c1d89e",
            "52db5dae3b334137bbe69b72284777af",
            "08413e0578d7488cb6a5cc65d58b17e7",
            "d771aed9c6204e318c6283604770142b",
            "7ae5d8cc9c104d86b81196ecc1fa44b0",
            "923f2b6c6eba4706be30dc6558e34c04",
            "ce0fdf0a103f4dc28e14d9b499a11e06",
            "bc7dd6e3101746679770ac47b85235e8"
          ]
        }
      },
      "execution_count": 4,
      "outputs": [
        {
          "output_type": "stream",
          "name": "stderr",
          "text": [
            "/usr/local/lib/python3.12/dist-packages/huggingface_hub/utils/_auth.py:94: UserWarning: \n",
            "The secret `HF_TOKEN` does not exist in your Colab secrets.\n",
            "To authenticate with the Hugging Face Hub, create a token in your settings tab (https://huggingface.co/settings/tokens), set it as secret in your Google Colab and restart your session.\n",
            "You will be able to reuse this secret in all of your notebooks.\n",
            "Please note that authentication is recommended but still optional to access public models or datasets.\n",
            "  warnings.warn(\n"
          ]
        },
        {
          "output_type": "display_data",
          "data": {
            "text/plain": [
              "Map:   0%|          | 0/24000 [00:00<?, ? examples/s]"
            ],
            "application/vnd.jupyter.widget-view+json": {
              "version_major": 2,
              "version_minor": 0,
              "model_id": "65609eca25b949e19574a2d94f5f6025"
            }
          },
          "metadata": {}
        },
        {
          "output_type": "display_data",
          "data": {
            "text/plain": [
              "Map:   0%|          | 0/6000 [00:00<?, ? examples/s]"
            ],
            "application/vnd.jupyter.widget-view+json": {
              "version_major": 2,
              "version_minor": 0,
              "model_id": "6a5e2f4b63bd432abd3245469599f41f"
            }
          },
          "metadata": {}
        }
      ]
    },
    {
      "cell_type": "code",
      "source": [
        "model_name = \"HooshvareLab/bert-fa-base-uncased\"\n",
        "model = AutoModelForSequenceClassification.from_pretrained(\n",
        "    model_name,\n",
        "    num_labels=7,\n",
        "    problem_type=\"multi_label_classification\"\n",
        ")\n",
        "# model.config.hidden_dropout_prob = 0.4\n",
        "# model.config.attention_probs_dropout_prob = 0.4"
      ],
      "metadata": {
        "colab": {
          "base_uri": "https://localhost:8080/"
        },
        "id": "C4Ok0W230zzQ",
        "outputId": "2d747d0a-399f-4006-c0d9-1f5ad55a8ca2"
      },
      "execution_count": 5,
      "outputs": [
        {
          "output_type": "stream",
          "name": "stderr",
          "text": [
            "Some weights of BertForSequenceClassification were not initialized from the model checkpoint at HooshvareLab/bert-fa-base-uncased and are newly initialized: ['classifier.bias', 'classifier.weight']\n",
            "You should probably TRAIN this model on a down-stream task to be able to use it for predictions and inference.\n"
          ]
        }
      ]
    },
    {
      "cell_type": "code",
      "source": [
        "from sklearn.metrics import f1_score, precision_recall_fscore_support, roc_auc_score, accuracy_score\n",
        "\n",
        "def compute_metrics_simple(eval_pred):\n",
        "    logits, labels = eval_pred\n",
        "    probs = torch.sigmoid(torch.tensor(logits)).numpy()\n",
        "    preds = (probs > 0.5).astype(int)\n",
        "    labels = labels.astype(int)\n",
        "    f1_macro = f1_score(labels, preds, average='macro', zero_division=0)\n",
        "    f1_micro = f1_score(labels, preds, average='micro', zero_division=0)\n",
        "    per_label = f1_score(labels, preds, average=None, zero_division=0)\n",
        "    metrics = {\"f1_macro\": f1_macro, \"f1_micro\": f1_micro}\n",
        "    for i, v in enumerate(per_label):\n",
        "        metrics[f\"f1_label_{i}\"] = float(v)\n",
        "    # ROC-AUC per label (only if label has positives)\n",
        "    try:\n",
        "        aucs = []\n",
        "        for i in range(labels.shape[1]):\n",
        "            if labels[:, i].sum() > 0 and labels[:, i].sum() < labels.shape[0]:\n",
        "                aucs.append(roc_auc_score(labels[:, i], probs[:, i]))\n",
        "            else:\n",
        "                aucs.append(float(\"nan\"))\n",
        "        metrics[\"roc_auc_mean\"] = np.nanmean(aucs)\n",
        "    except Exception:\n",
        "        pass\n",
        "    return metrics"
      ],
      "metadata": {
        "id": "7wHbVpd102tH"
      },
      "execution_count": 6,
      "outputs": []
    },
    {
      "cell_type": "code",
      "source": [
        "import shutil\n",
        "shutil.rmtree('/content/bert-persian-emotions')"
      ],
      "metadata": {
        "id": "QbuClHldrUIc"
      },
      "execution_count": 7,
      "outputs": []
    },
    {
      "cell_type": "code",
      "source": [
        "from transformers import TrainingArguments, DataCollatorWithPadding\n",
        "\n",
        "args = TrainingArguments(\n",
        "    output_dir=\"/content/bert-persian-emotions\",\n",
        "    eval_strategy=\"epoch\",\n",
        "    save_strategy=\"epoch\",\n",
        "    learning_rate=2e-5,\n",
        "    per_device_train_batch_size=8,\n",
        "    gradient_accumulation_steps=2,  # effective batch 16 (instead of 64)\n",
        "    per_device_eval_batch_size=16,\n",
        "    num_train_epochs=4,\n",
        "    weight_decay=0.01,\n",
        "    load_best_model_at_end=True,\n",
        "    metric_for_best_model=\"f1_macro\",\n",
        "    fp16=True,\n",
        "    report_to=\"none\"\n",
        ")"
      ],
      "metadata": {
        "id": "2M9Y0vJD07rg"
      },
      "execution_count": 8,
      "outputs": []
    },
    {
      "cell_type": "code",
      "source": [
        "from transformers import Trainer\n",
        "import torch.nn as nn\n",
        "from transformers import TrainerCallback\n",
        "\n",
        "class EarlyStoppingCallback(TrainerCallback):\n",
        "    def __init__(self, early_stopping_patience=2, early_stopping_threshold=0.01):\n",
        "        self.early_stopping_patience = early_stopping_patience\n",
        "        self.early_stopping_threshold = early_stopping_threshold\n",
        "        self.best_metric = None\n",
        "        self.patience_counter = 0\n",
        "\n",
        "    def on_evaluate(self, args, state, control, metrics, **kwargs):\n",
        "        metric_value = metrics.get(\"eval_f1_macro\")\n",
        "        if metric_value is None:\n",
        "            return\n",
        "        if self.best_metric is None or metric_value > self.best_metric + self.early_stopping_threshold:\n",
        "            self.best_metric = metric_value\n",
        "            self.patience_counter = 0\n",
        "        else:\n",
        "            self.patience_counter += 1\n",
        "            if self.patience_counter >= self.early_stopping_patience:\n",
        "                control.should_training_stop = True\n",
        "\n",
        "# Focal loss\n",
        "class FocalLoss(nn.Module):\n",
        "    def __init__(self, alpha=1.0, gamma=3.0, label_smoothing=0.1):\n",
        "        super().__init__()\n",
        "        self.alpha = alpha\n",
        "        self.gamma = gamma\n",
        "        self.label_smoothing = label_smoothing\n",
        "    def forward(self, logits, targets):\n",
        "        targets = targets * (1 - self.label_smoothing) + 0.5 * self.label_smoothing\n",
        "        bce_loss = nn.BCEWithLogitsLoss(reduction='none')(logits, targets)\n",
        "        pt = torch.exp(-bce_loss)\n",
        "        focal_loss = self.alpha * (1 - pt) ** self.gamma * bce_loss\n",
        "        return focal_loss.mean()\n",
        "\n",
        "class WeightedTrainer(Trainer):\n",
        "    def compute_loss(self, model, inputs, return_outputs=False, **kwargs):\n",
        "        labels = inputs.pop(\"labels\").float()\n",
        "        outputs = model(**inputs)\n",
        "        logits = outputs.logits\n",
        "        loss_fct = FocalLoss(alpha=1.0, gamma=3.0, label_smoothing=0.1)\n",
        "        loss = loss_fct(logits, labels)\n",
        "        return (loss, outputs) if return_outputs else loss\n",
        "\n",
        "class WeightedBCETrainer(Trainer):\n",
        "    def __init__(self, *args, pos_weight=None, **kwargs):\n",
        "        super().__init__(*args, **kwargs)\n",
        "\n",
        "        if pos_weight is not None:\n",
        "            self.register_buffer = None\n",
        "            self.pos_weight = torch.tensor(pos_weight, dtype=torch.float).to(self.args.device)\n",
        "            print('pos_weight', self.pos_weight)\n",
        "        else:\n",
        "            self.pos_weight = None\n",
        "\n",
        "    def compute_loss(self, model, inputs, return_outputs=False, **kwargs):\n",
        "        labels = inputs.pop(\"labels\").float().to(self.args.device)\n",
        "        outputs = model(**inputs)\n",
        "        logits = outputs.logits\n",
        "        if self.pos_weight is not None:\n",
        "            loss_fct = nn.BCEWithLogitsLoss(pos_weight=self.pos_weight)\n",
        "        else:\n",
        "            loss_fct = nn.BCEWithLogitsLoss()\n",
        "        loss = loss_fct(logits, labels)\n",
        "        return (loss, outputs) if return_outputs else loss\n",
        "\n",
        "\n",
        "trainer = WeightedBCETrainer(\n",
        "    model=model,\n",
        "    args=args,\n",
        "    train_dataset=dataset[\"train\"],\n",
        "    eval_dataset=dataset[\"validation\"],\n",
        "    tokenizer=tokenizer,\n",
        "    compute_metrics=compute_metrics_simple,\n",
        "    callbacks=[EarlyStoppingCallback(early_stopping_patience=2, early_stopping_threshold=0.1)],\n",
        "    pos_weight=pos_weight\n",
        ")\n",
        "\n",
        "\n",
        "trainer.train()"
      ],
      "metadata": {
        "colab": {
          "base_uri": "https://localhost:8080/",
          "height": 176
        },
        "id": "LkJnJTUd1-XX",
        "outputId": "69d23d8a-6fdb-4b85-a605-ef5c374a48e4"
      },
      "execution_count": null,
      "outputs": [
        {
          "output_type": "stream",
          "name": "stderr",
          "text": [
            "/tmp/ipython-input-2398881935.py:49: FutureWarning: `tokenizer` is deprecated and will be removed in version 5.0.0 for `WeightedBCETrainer.__init__`. Use `processing_class` instead.\n",
            "  super().__init__(*args, **kwargs)\n"
          ]
        },
        {
          "output_type": "stream",
          "name": "stdout",
          "text": [
            "pos_weight tensor([16.9506, 42.3213, 41.3280, 22.7389, 15.9731, 28.7398,  0.2561],\n",
            "       device='cuda:0')\n"
          ]
        },
        {
          "output_type": "display_data",
          "data": {
            "text/plain": [
              "<IPython.core.display.HTML object>"
            ],
            "text/html": [
              "\n",
              "    <div>\n",
              "      \n",
              "      <progress value='2777' max='6000' style='width:300px; height:20px; vertical-align: middle;'></progress>\n",
              "      [2777/6000 12:30 < 14:31, 3.70 it/s, Epoch 1.85/4]\n",
              "    </div>\n",
              "    <table border=\"1\" class=\"dataframe\">\n",
              "  <thead>\n",
              " <tr style=\"text-align: left;\">\n",
              "      <th>Epoch</th>\n",
              "      <th>Training Loss</th>\n",
              "      <th>Validation Loss</th>\n",
              "      <th>F1 Macro</th>\n",
              "      <th>F1 Micro</th>\n",
              "      <th>F1 Label 0</th>\n",
              "      <th>F1 Label 1</th>\n",
              "      <th>F1 Label 2</th>\n",
              "      <th>F1 Label 3</th>\n",
              "      <th>F1 Label 4</th>\n",
              "      <th>F1 Label 5</th>\n",
              "      <th>F1 Label 6</th>\n",
              "      <th>Roc Auc Mean</th>\n",
              "    </tr>\n",
              "  </thead>\n",
              "  <tbody>\n",
              "    <tr>\n",
              "      <td>1</td>\n",
              "      <td>0.507700</td>\n",
              "      <td>3.176405</td>\n",
              "      <td>0.180736</td>\n",
              "      <td>0.614403</td>\n",
              "      <td>0.062275</td>\n",
              "      <td>0.055453</td>\n",
              "      <td>0.048128</td>\n",
              "      <td>0.084942</td>\n",
              "      <td>0.110236</td>\n",
              "      <td>0.071823</td>\n",
              "      <td>0.832291</td>\n",
              "      <td>0.533672</td>\n",
              "    </tr>\n",
              "  </tbody>\n",
              "</table><p>"
            ]
          },
          "metadata": {}
        }
      ]
    },
    {
      "cell_type": "code",
      "source": [
        "print(trainer.pos_weight)"
      ],
      "metadata": {
        "id": "VTpcABfpkdK-",
        "outputId": "a344a912-df1d-4a66-aec3-7c18607ede4f",
        "colab": {
          "base_uri": "https://localhost:8080/"
        }
      },
      "execution_count": 17,
      "outputs": [
        {
          "output_type": "stream",
          "name": "stdout",
          "text": [
            "None\n"
          ]
        }
      ]
    },
    {
      "cell_type": "code",
      "source": [
        "model.eval()\n",
        "from sklearn.metrics import f1_score\n",
        "\n",
        "# Get validation logits (use trainer.predict for convenience)\n",
        "preds_output = trainer.predict(dataset[\"validation\"])\n",
        "val_logits = preds_output.predictions  # shape (N_val, num_labels)\n",
        "val_probs = torch.sigmoid(torch.tensor(val_logits)).numpy()\n",
        "val_labels = preds_output.label_ids.astype(int)\n",
        "\n",
        "# Search thresholds per label (0.1..0.9)\n",
        "best_thresholds = np.ones(val_labels.shape[1]) * 0.5\n",
        "for i in range(val_labels.shape[1]):\n",
        "    best_f1 = -1\n",
        "    for t in np.linspace(0.1, 0.9, 17):\n",
        "        p = (val_probs[:, i] > t).astype(int)\n",
        "        f1 = f1_score(val_labels[:, i], p, zero_division=0)\n",
        "        if f1 > best_f1:\n",
        "            best_f1 = f1\n",
        "            best_thresholds[i] = t\n",
        "print(\"Best thresholds:\", best_thresholds)\n",
        "\n",
        "# Compute final metrics with these thresholds\n",
        "final_preds = (val_probs > best_thresholds[None, :]).astype(int)\n",
        "print(\"Final macro F1:\", f1_score(val_labels, final_preds, average='macro'))\n",
        "print(\"Final micro F1:\", f1_score(val_labels, final_preds, average='micro'))"
      ],
      "metadata": {
        "id": "3-tY4uxZX8NE",
        "outputId": "35620c0b-a85a-4f90-b322-dabda2f47a3a",
        "colab": {
          "base_uri": "https://localhost:8080/",
          "height": 69
        }
      },
      "execution_count": 12,
      "outputs": [
        {
          "output_type": "display_data",
          "data": {
            "text/plain": [
              "<IPython.core.display.HTML object>"
            ],
            "text/html": []
          },
          "metadata": {}
        },
        {
          "output_type": "stream",
          "name": "stdout",
          "text": [
            "Best thresholds: [0.1 0.1 0.1 0.1 0.1 0.1 0.1]\n",
            "Final macro F1: 0.146064090074684\n",
            "Final micro F1: 0.7387846961740435\n"
          ]
        }
      ]
    },
    {
      "cell_type": "code",
      "source": [
        "texts = [\n",
        "    \"من امروز خیلی خوشحالم\",      # Happy\n",
        "    \"احساس می‌کنم ناراحت و خسته‌ام\", # Sad\n",
        "    \"از تاریکی می‌ترسم\",           # Fear\n",
        "    \"قدم زدن زیر بارون شاید بهترین مسکن درد هاست...\" # Neutral\n",
        "]\n",
        "\n",
        "inputs = tokenizer(texts, return_tensors=\"pt\", padding=True, truncation=True, max_length=128)\n",
        "outputs = model(**inputs)\n",
        "probs = torch.sigmoid(outputs.logits).detach().numpy()\n",
        "\n",
        "for text, p in zip(texts, probs):\n",
        "    labels_pred = [final_labels[i] for i, v in enumerate(p) if v > 0.5]\n",
        "    print(text, \"->\", labels_pred)\n"
      ],
      "metadata": {
        "id": "rtoVASNe-pvX"
      },
      "execution_count": null,
      "outputs": []
    },
    {
      "cell_type": "code",
      "source": [
        "import numpy as np\n",
        "from sklearn.metrics import f1_score, classification_report\n",
        "\n",
        "# collect true labels and preds on validation set\n",
        "preds_logits = trainer.predict(dataset[\"validation\"]).predictions  # raw logits\n",
        "probs = 1 / (1 + np.exp(-preds_logits))\n",
        "preds = (probs > 0.5).astype(int)\n",
        "\n",
        "# binarize references (soft labels → 0/1)\n",
        "refs = np.stack([ex[\"labels\"] for ex in dataset[\"validation\"]])\n",
        "refs_bin = (refs >= 0.5).astype(int)\n",
        "\n",
        "# overall per-label counts\n",
        "pos_counts = refs_bin.sum(axis=0)\n",
        "neg_counts = refs_bin.shape[0] - pos_counts\n",
        "print(\"pos counts per label:\", pos_counts)\n",
        "print(\"neg counts per label:\", neg_counts)\n",
        "\n",
        "# per-label f1\n",
        "for i, name in enumerate(final_labels):\n",
        "    print(name, \"F1:\", f1_score(refs_bin[:, i], preds[:, i], zero_division=0))\n",
        "\n",
        "# full classification report\n",
        "print(classification_report(refs_bin, preds, zero_division=0))\n"
      ],
      "metadata": {
        "id": "AshUjyI7FgQk"
      },
      "execution_count": null,
      "outputs": []
    },
    {
      "cell_type": "code",
      "source": [
        "import numpy as np\n",
        "\n",
        "# Convert Hugging Face dataset into numpy array of labels\n",
        "all_labels = np.stack(dataset[\"train\"][\"labels\"])  # shape: (num_samples, num_labels)\n",
        "\n",
        "# Count positives and negatives per label\n",
        "pos_counts = all_labels.sum(axis=0)\n",
        "neg_counts = all_labels.shape[0] - pos_counts\n",
        "\n",
        "print(\"pos counts per label:\", pos_counts)\n",
        "print(\"neg counts per label:\", neg_counts)\n",
        "\n",
        "# If you want mapping to label names:\n",
        "for name, pos, neg in zip(final_labels, pos_counts, neg_counts):\n",
        "    print(f\"{name:10s} | pos: {int(pos):5d} | neg: {int(neg):5d}\")\n",
        "\n",
        "val_labels = np.array(dataset[\"validation\"][\"labels\"])\n",
        "print(\"Validation label frequencies:\", np.sum(val_labels, axis=0) / val_labels.shape[0])"
      ],
      "metadata": {
        "colab": {
          "base_uri": "https://localhost:8080/"
        },
        "id": "U55f3uwAXOki",
        "outputId": "46a0d526-24ab-451d-b559-e46900464545"
      },
      "execution_count": null,
      "outputs": [
        {
          "output_type": "stream",
          "name": "stdout",
          "text": [
            "pos counts per label: [4435.79776857 3377.90284005 3411.00137803 4083.14986549 4608.76150663\n",
            " 3826.38664122  257.        ]\n",
            "neg counts per label: [19564.20223143 20622.09715995 20588.99862197 19916.85013451\n",
            " 19391.23849337 20173.61335878 23743.        ]\n",
            "Anger      | pos:  4435 | neg: 19564\n",
            "Fear       | pos:  3377 | neg: 20622\n",
            "Happiness  | pos:  3411 | neg: 20588\n",
            "Hatred     | pos:  4083 | neg: 19916\n",
            "Sadness    | pos:  4608 | neg: 19391\n",
            "Wonder     | pos:  3826 | neg: 20173\n",
            "Neutral    | pos:   257 | neg: 23743\n",
            "Validation label frequencies: [0.16867392 0.14521033 0.14398886 0.1701612  0.18877742 0.16365703\n",
            " 0.01953125]\n"
          ]
        }
      ]
    }
  ]
}