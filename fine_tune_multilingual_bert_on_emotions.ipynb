{
  "nbformat": 4,
  "nbformat_minor": 0,
  "metadata": {
    "colab": {
      "provenance": [],
      "gpuType": "T4",
      "include_colab_link": true
    },
    "kernelspec": {
      "name": "python3",
      "display_name": "Python 3"
    },
    "language_info": {
      "name": "python"
    },
    "accelerator": "GPU",
    "widgets": {
      "application/vnd.jupyter.widget-state+json": {
        "22fe2f13dc4a4c47954aba38d150a425": {
          "model_module": "@jupyter-widgets/controls",
          "model_name": "HBoxModel",
          "model_module_version": "1.5.0",
          "state": {
            "_dom_classes": [],
            "_model_module": "@jupyter-widgets/controls",
            "_model_module_version": "1.5.0",
            "_model_name": "HBoxModel",
            "_view_count": null,
            "_view_module": "@jupyter-widgets/controls",
            "_view_module_version": "1.5.0",
            "_view_name": "HBoxView",
            "box_style": "",
            "children": [
              "IPY_MODEL_8925a5e939844428ad56c99770837655",
              "IPY_MODEL_50942de8219c47bbabc438acaf338510",
              "IPY_MODEL_f5b446180ec24e97849aed56d9d62a16"
            ],
            "layout": "IPY_MODEL_fb489bec1ee24cc78c5b764827a14195"
          }
        },
        "8925a5e939844428ad56c99770837655": {
          "model_module": "@jupyter-widgets/controls",
          "model_name": "HTMLModel",
          "model_module_version": "1.5.0",
          "state": {
            "_dom_classes": [],
            "_model_module": "@jupyter-widgets/controls",
            "_model_module_version": "1.5.0",
            "_model_name": "HTMLModel",
            "_view_count": null,
            "_view_module": "@jupyter-widgets/controls",
            "_view_module_version": "1.5.0",
            "_view_name": "HTMLView",
            "description": "",
            "description_tooltip": null,
            "layout": "IPY_MODEL_63fc561e268c4379b54914bd5ee47c94",
            "placeholder": "​",
            "style": "IPY_MODEL_c0248e3618bc488fa4ad8f6e026055d6",
            "value": "Map: 100%"
          }
        },
        "50942de8219c47bbabc438acaf338510": {
          "model_module": "@jupyter-widgets/controls",
          "model_name": "FloatProgressModel",
          "model_module_version": "1.5.0",
          "state": {
            "_dom_classes": [],
            "_model_module": "@jupyter-widgets/controls",
            "_model_module_version": "1.5.0",
            "_model_name": "FloatProgressModel",
            "_view_count": null,
            "_view_module": "@jupyter-widgets/controls",
            "_view_module_version": "1.5.0",
            "_view_name": "ProgressView",
            "bar_style": "success",
            "description": "",
            "description_tooltip": null,
            "layout": "IPY_MODEL_8457c72e35494277969c7edcd9ee17e5",
            "max": 24000,
            "min": 0,
            "orientation": "horizontal",
            "style": "IPY_MODEL_5e42deaeff134004ae700f302043c7c3",
            "value": 24000
          }
        },
        "f5b446180ec24e97849aed56d9d62a16": {
          "model_module": "@jupyter-widgets/controls",
          "model_name": "HTMLModel",
          "model_module_version": "1.5.0",
          "state": {
            "_dom_classes": [],
            "_model_module": "@jupyter-widgets/controls",
            "_model_module_version": "1.5.0",
            "_model_name": "HTMLModel",
            "_view_count": null,
            "_view_module": "@jupyter-widgets/controls",
            "_view_module_version": "1.5.0",
            "_view_name": "HTMLView",
            "description": "",
            "description_tooltip": null,
            "layout": "IPY_MODEL_e9f4ec3502e343b39369d7155169180a",
            "placeholder": "​",
            "style": "IPY_MODEL_eb5fb8b1a786482fa66a96d654c7863f",
            "value": " 24000/24000 [00:06&lt;00:00, 4348.85 examples/s]"
          }
        },
        "fb489bec1ee24cc78c5b764827a14195": {
          "model_module": "@jupyter-widgets/base",
          "model_name": "LayoutModel",
          "model_module_version": "1.2.0",
          "state": {
            "_model_module": "@jupyter-widgets/base",
            "_model_module_version": "1.2.0",
            "_model_name": "LayoutModel",
            "_view_count": null,
            "_view_module": "@jupyter-widgets/base",
            "_view_module_version": "1.2.0",
            "_view_name": "LayoutView",
            "align_content": null,
            "align_items": null,
            "align_self": null,
            "border": null,
            "bottom": null,
            "display": null,
            "flex": null,
            "flex_flow": null,
            "grid_area": null,
            "grid_auto_columns": null,
            "grid_auto_flow": null,
            "grid_auto_rows": null,
            "grid_column": null,
            "grid_gap": null,
            "grid_row": null,
            "grid_template_areas": null,
            "grid_template_columns": null,
            "grid_template_rows": null,
            "height": null,
            "justify_content": null,
            "justify_items": null,
            "left": null,
            "margin": null,
            "max_height": null,
            "max_width": null,
            "min_height": null,
            "min_width": null,
            "object_fit": null,
            "object_position": null,
            "order": null,
            "overflow": null,
            "overflow_x": null,
            "overflow_y": null,
            "padding": null,
            "right": null,
            "top": null,
            "visibility": null,
            "width": null
          }
        },
        "63fc561e268c4379b54914bd5ee47c94": {
          "model_module": "@jupyter-widgets/base",
          "model_name": "LayoutModel",
          "model_module_version": "1.2.0",
          "state": {
            "_model_module": "@jupyter-widgets/base",
            "_model_module_version": "1.2.0",
            "_model_name": "LayoutModel",
            "_view_count": null,
            "_view_module": "@jupyter-widgets/base",
            "_view_module_version": "1.2.0",
            "_view_name": "LayoutView",
            "align_content": null,
            "align_items": null,
            "align_self": null,
            "border": null,
            "bottom": null,
            "display": null,
            "flex": null,
            "flex_flow": null,
            "grid_area": null,
            "grid_auto_columns": null,
            "grid_auto_flow": null,
            "grid_auto_rows": null,
            "grid_column": null,
            "grid_gap": null,
            "grid_row": null,
            "grid_template_areas": null,
            "grid_template_columns": null,
            "grid_template_rows": null,
            "height": null,
            "justify_content": null,
            "justify_items": null,
            "left": null,
            "margin": null,
            "max_height": null,
            "max_width": null,
            "min_height": null,
            "min_width": null,
            "object_fit": null,
            "object_position": null,
            "order": null,
            "overflow": null,
            "overflow_x": null,
            "overflow_y": null,
            "padding": null,
            "right": null,
            "top": null,
            "visibility": null,
            "width": null
          }
        },
        "c0248e3618bc488fa4ad8f6e026055d6": {
          "model_module": "@jupyter-widgets/controls",
          "model_name": "DescriptionStyleModel",
          "model_module_version": "1.5.0",
          "state": {
            "_model_module": "@jupyter-widgets/controls",
            "_model_module_version": "1.5.0",
            "_model_name": "DescriptionStyleModel",
            "_view_count": null,
            "_view_module": "@jupyter-widgets/base",
            "_view_module_version": "1.2.0",
            "_view_name": "StyleView",
            "description_width": ""
          }
        },
        "8457c72e35494277969c7edcd9ee17e5": {
          "model_module": "@jupyter-widgets/base",
          "model_name": "LayoutModel",
          "model_module_version": "1.2.0",
          "state": {
            "_model_module": "@jupyter-widgets/base",
            "_model_module_version": "1.2.0",
            "_model_name": "LayoutModel",
            "_view_count": null,
            "_view_module": "@jupyter-widgets/base",
            "_view_module_version": "1.2.0",
            "_view_name": "LayoutView",
            "align_content": null,
            "align_items": null,
            "align_self": null,
            "border": null,
            "bottom": null,
            "display": null,
            "flex": null,
            "flex_flow": null,
            "grid_area": null,
            "grid_auto_columns": null,
            "grid_auto_flow": null,
            "grid_auto_rows": null,
            "grid_column": null,
            "grid_gap": null,
            "grid_row": null,
            "grid_template_areas": null,
            "grid_template_columns": null,
            "grid_template_rows": null,
            "height": null,
            "justify_content": null,
            "justify_items": null,
            "left": null,
            "margin": null,
            "max_height": null,
            "max_width": null,
            "min_height": null,
            "min_width": null,
            "object_fit": null,
            "object_position": null,
            "order": null,
            "overflow": null,
            "overflow_x": null,
            "overflow_y": null,
            "padding": null,
            "right": null,
            "top": null,
            "visibility": null,
            "width": null
          }
        },
        "5e42deaeff134004ae700f302043c7c3": {
          "model_module": "@jupyter-widgets/controls",
          "model_name": "ProgressStyleModel",
          "model_module_version": "1.5.0",
          "state": {
            "_model_module": "@jupyter-widgets/controls",
            "_model_module_version": "1.5.0",
            "_model_name": "ProgressStyleModel",
            "_view_count": null,
            "_view_module": "@jupyter-widgets/base",
            "_view_module_version": "1.2.0",
            "_view_name": "StyleView",
            "bar_color": null,
            "description_width": ""
          }
        },
        "e9f4ec3502e343b39369d7155169180a": {
          "model_module": "@jupyter-widgets/base",
          "model_name": "LayoutModel",
          "model_module_version": "1.2.0",
          "state": {
            "_model_module": "@jupyter-widgets/base",
            "_model_module_version": "1.2.0",
            "_model_name": "LayoutModel",
            "_view_count": null,
            "_view_module": "@jupyter-widgets/base",
            "_view_module_version": "1.2.0",
            "_view_name": "LayoutView",
            "align_content": null,
            "align_items": null,
            "align_self": null,
            "border": null,
            "bottom": null,
            "display": null,
            "flex": null,
            "flex_flow": null,
            "grid_area": null,
            "grid_auto_columns": null,
            "grid_auto_flow": null,
            "grid_auto_rows": null,
            "grid_column": null,
            "grid_gap": null,
            "grid_row": null,
            "grid_template_areas": null,
            "grid_template_columns": null,
            "grid_template_rows": null,
            "height": null,
            "justify_content": null,
            "justify_items": null,
            "left": null,
            "margin": null,
            "max_height": null,
            "max_width": null,
            "min_height": null,
            "min_width": null,
            "object_fit": null,
            "object_position": null,
            "order": null,
            "overflow": null,
            "overflow_x": null,
            "overflow_y": null,
            "padding": null,
            "right": null,
            "top": null,
            "visibility": null,
            "width": null
          }
        },
        "eb5fb8b1a786482fa66a96d654c7863f": {
          "model_module": "@jupyter-widgets/controls",
          "model_name": "DescriptionStyleModel",
          "model_module_version": "1.5.0",
          "state": {
            "_model_module": "@jupyter-widgets/controls",
            "_model_module_version": "1.5.0",
            "_model_name": "DescriptionStyleModel",
            "_view_count": null,
            "_view_module": "@jupyter-widgets/base",
            "_view_module_version": "1.2.0",
            "_view_name": "StyleView",
            "description_width": ""
          }
        },
        "f36dcc83344943459b5499320ea90179": {
          "model_module": "@jupyter-widgets/controls",
          "model_name": "HBoxModel",
          "model_module_version": "1.5.0",
          "state": {
            "_dom_classes": [],
            "_model_module": "@jupyter-widgets/controls",
            "_model_module_version": "1.5.0",
            "_model_name": "HBoxModel",
            "_view_count": null,
            "_view_module": "@jupyter-widgets/controls",
            "_view_module_version": "1.5.0",
            "_view_name": "HBoxView",
            "box_style": "",
            "children": [
              "IPY_MODEL_c50a449b1f214b2fb2d4c2ac12dcbaf8",
              "IPY_MODEL_83621f25668c4563beb1a774cc3649ab",
              "IPY_MODEL_adc9802b4c64451ca284a31a570a6e23"
            ],
            "layout": "IPY_MODEL_8e36814d2aa84cb8b486917723766642"
          }
        },
        "c50a449b1f214b2fb2d4c2ac12dcbaf8": {
          "model_module": "@jupyter-widgets/controls",
          "model_name": "HTMLModel",
          "model_module_version": "1.5.0",
          "state": {
            "_dom_classes": [],
            "_model_module": "@jupyter-widgets/controls",
            "_model_module_version": "1.5.0",
            "_model_name": "HTMLModel",
            "_view_count": null,
            "_view_module": "@jupyter-widgets/controls",
            "_view_module_version": "1.5.0",
            "_view_name": "HTMLView",
            "description": "",
            "description_tooltip": null,
            "layout": "IPY_MODEL_e057777c2e094648895bc255bc993d35",
            "placeholder": "​",
            "style": "IPY_MODEL_bee686b9fdde4c6e9c37e2d1c0402191",
            "value": "Map: 100%"
          }
        },
        "83621f25668c4563beb1a774cc3649ab": {
          "model_module": "@jupyter-widgets/controls",
          "model_name": "FloatProgressModel",
          "model_module_version": "1.5.0",
          "state": {
            "_dom_classes": [],
            "_model_module": "@jupyter-widgets/controls",
            "_model_module_version": "1.5.0",
            "_model_name": "FloatProgressModel",
            "_view_count": null,
            "_view_module": "@jupyter-widgets/controls",
            "_view_module_version": "1.5.0",
            "_view_name": "ProgressView",
            "bar_style": "success",
            "description": "",
            "description_tooltip": null,
            "layout": "IPY_MODEL_6a464c97140d4cd5a2eeca6bf6564ef5",
            "max": 6000,
            "min": 0,
            "orientation": "horizontal",
            "style": "IPY_MODEL_99db6abc9c2c4e7b8b5e6416c5000185",
            "value": 6000
          }
        },
        "adc9802b4c64451ca284a31a570a6e23": {
          "model_module": "@jupyter-widgets/controls",
          "model_name": "HTMLModel",
          "model_module_version": "1.5.0",
          "state": {
            "_dom_classes": [],
            "_model_module": "@jupyter-widgets/controls",
            "_model_module_version": "1.5.0",
            "_model_name": "HTMLModel",
            "_view_count": null,
            "_view_module": "@jupyter-widgets/controls",
            "_view_module_version": "1.5.0",
            "_view_name": "HTMLView",
            "description": "",
            "description_tooltip": null,
            "layout": "IPY_MODEL_3f69f5beb9ef4a5faa9e01cb2feef72f",
            "placeholder": "​",
            "style": "IPY_MODEL_fc19bda97cb34c53968797eb41cbf559",
            "value": " 6000/6000 [00:01&lt;00:00, 5719.55 examples/s]"
          }
        },
        "8e36814d2aa84cb8b486917723766642": {
          "model_module": "@jupyter-widgets/base",
          "model_name": "LayoutModel",
          "model_module_version": "1.2.0",
          "state": {
            "_model_module": "@jupyter-widgets/base",
            "_model_module_version": "1.2.0",
            "_model_name": "LayoutModel",
            "_view_count": null,
            "_view_module": "@jupyter-widgets/base",
            "_view_module_version": "1.2.0",
            "_view_name": "LayoutView",
            "align_content": null,
            "align_items": null,
            "align_self": null,
            "border": null,
            "bottom": null,
            "display": null,
            "flex": null,
            "flex_flow": null,
            "grid_area": null,
            "grid_auto_columns": null,
            "grid_auto_flow": null,
            "grid_auto_rows": null,
            "grid_column": null,
            "grid_gap": null,
            "grid_row": null,
            "grid_template_areas": null,
            "grid_template_columns": null,
            "grid_template_rows": null,
            "height": null,
            "justify_content": null,
            "justify_items": null,
            "left": null,
            "margin": null,
            "max_height": null,
            "max_width": null,
            "min_height": null,
            "min_width": null,
            "object_fit": null,
            "object_position": null,
            "order": null,
            "overflow": null,
            "overflow_x": null,
            "overflow_y": null,
            "padding": null,
            "right": null,
            "top": null,
            "visibility": null,
            "width": null
          }
        },
        "e057777c2e094648895bc255bc993d35": {
          "model_module": "@jupyter-widgets/base",
          "model_name": "LayoutModel",
          "model_module_version": "1.2.0",
          "state": {
            "_model_module": "@jupyter-widgets/base",
            "_model_module_version": "1.2.0",
            "_model_name": "LayoutModel",
            "_view_count": null,
            "_view_module": "@jupyter-widgets/base",
            "_view_module_version": "1.2.0",
            "_view_name": "LayoutView",
            "align_content": null,
            "align_items": null,
            "align_self": null,
            "border": null,
            "bottom": null,
            "display": null,
            "flex": null,
            "flex_flow": null,
            "grid_area": null,
            "grid_auto_columns": null,
            "grid_auto_flow": null,
            "grid_auto_rows": null,
            "grid_column": null,
            "grid_gap": null,
            "grid_row": null,
            "grid_template_areas": null,
            "grid_template_columns": null,
            "grid_template_rows": null,
            "height": null,
            "justify_content": null,
            "justify_items": null,
            "left": null,
            "margin": null,
            "max_height": null,
            "max_width": null,
            "min_height": null,
            "min_width": null,
            "object_fit": null,
            "object_position": null,
            "order": null,
            "overflow": null,
            "overflow_x": null,
            "overflow_y": null,
            "padding": null,
            "right": null,
            "top": null,
            "visibility": null,
            "width": null
          }
        },
        "bee686b9fdde4c6e9c37e2d1c0402191": {
          "model_module": "@jupyter-widgets/controls",
          "model_name": "DescriptionStyleModel",
          "model_module_version": "1.5.0",
          "state": {
            "_model_module": "@jupyter-widgets/controls",
            "_model_module_version": "1.5.0",
            "_model_name": "DescriptionStyleModel",
            "_view_count": null,
            "_view_module": "@jupyter-widgets/base",
            "_view_module_version": "1.2.0",
            "_view_name": "StyleView",
            "description_width": ""
          }
        },
        "6a464c97140d4cd5a2eeca6bf6564ef5": {
          "model_module": "@jupyter-widgets/base",
          "model_name": "LayoutModel",
          "model_module_version": "1.2.0",
          "state": {
            "_model_module": "@jupyter-widgets/base",
            "_model_module_version": "1.2.0",
            "_model_name": "LayoutModel",
            "_view_count": null,
            "_view_module": "@jupyter-widgets/base",
            "_view_module_version": "1.2.0",
            "_view_name": "LayoutView",
            "align_content": null,
            "align_items": null,
            "align_self": null,
            "border": null,
            "bottom": null,
            "display": null,
            "flex": null,
            "flex_flow": null,
            "grid_area": null,
            "grid_auto_columns": null,
            "grid_auto_flow": null,
            "grid_auto_rows": null,
            "grid_column": null,
            "grid_gap": null,
            "grid_row": null,
            "grid_template_areas": null,
            "grid_template_columns": null,
            "grid_template_rows": null,
            "height": null,
            "justify_content": null,
            "justify_items": null,
            "left": null,
            "margin": null,
            "max_height": null,
            "max_width": null,
            "min_height": null,
            "min_width": null,
            "object_fit": null,
            "object_position": null,
            "order": null,
            "overflow": null,
            "overflow_x": null,
            "overflow_y": null,
            "padding": null,
            "right": null,
            "top": null,
            "visibility": null,
            "width": null
          }
        },
        "99db6abc9c2c4e7b8b5e6416c5000185": {
          "model_module": "@jupyter-widgets/controls",
          "model_name": "ProgressStyleModel",
          "model_module_version": "1.5.0",
          "state": {
            "_model_module": "@jupyter-widgets/controls",
            "_model_module_version": "1.5.0",
            "_model_name": "ProgressStyleModel",
            "_view_count": null,
            "_view_module": "@jupyter-widgets/base",
            "_view_module_version": "1.2.0",
            "_view_name": "StyleView",
            "bar_color": null,
            "description_width": ""
          }
        },
        "3f69f5beb9ef4a5faa9e01cb2feef72f": {
          "model_module": "@jupyter-widgets/base",
          "model_name": "LayoutModel",
          "model_module_version": "1.2.0",
          "state": {
            "_model_module": "@jupyter-widgets/base",
            "_model_module_version": "1.2.0",
            "_model_name": "LayoutModel",
            "_view_count": null,
            "_view_module": "@jupyter-widgets/base",
            "_view_module_version": "1.2.0",
            "_view_name": "LayoutView",
            "align_content": null,
            "align_items": null,
            "align_self": null,
            "border": null,
            "bottom": null,
            "display": null,
            "flex": null,
            "flex_flow": null,
            "grid_area": null,
            "grid_auto_columns": null,
            "grid_auto_flow": null,
            "grid_auto_rows": null,
            "grid_column": null,
            "grid_gap": null,
            "grid_row": null,
            "grid_template_areas": null,
            "grid_template_columns": null,
            "grid_template_rows": null,
            "height": null,
            "justify_content": null,
            "justify_items": null,
            "left": null,
            "margin": null,
            "max_height": null,
            "max_width": null,
            "min_height": null,
            "min_width": null,
            "object_fit": null,
            "object_position": null,
            "order": null,
            "overflow": null,
            "overflow_x": null,
            "overflow_y": null,
            "padding": null,
            "right": null,
            "top": null,
            "visibility": null,
            "width": null
          }
        },
        "fc19bda97cb34c53968797eb41cbf559": {
          "model_module": "@jupyter-widgets/controls",
          "model_name": "DescriptionStyleModel",
          "model_module_version": "1.5.0",
          "state": {
            "_model_module": "@jupyter-widgets/controls",
            "_model_module_version": "1.5.0",
            "_model_name": "DescriptionStyleModel",
            "_view_count": null,
            "_view_module": "@jupyter-widgets/base",
            "_view_module_version": "1.2.0",
            "_view_name": "StyleView",
            "description_width": ""
          }
        }
      }
    }
  },
  "cells": [
    {
      "cell_type": "markdown",
      "metadata": {
        "id": "view-in-github",
        "colab_type": "text"
      },
      "source": [
        "<a href=\"https://colab.research.google.com/github/kamranr123/kamranr123.github.io/blob/master/fine_tune_multilingual_bert_on_emotions.ipynb\" target=\"_parent\"><img src=\"https://colab.research.google.com/assets/colab-badge.svg\" alt=\"Open In Colab\"/></a>"
      ]
    },
    {
      "cell_type": "code",
      "source": [
        "from google.colab import drive\n",
        "drive.mount('/content/drive')"
      ],
      "metadata": {
        "colab": {
          "base_uri": "https://localhost:8080/"
        },
        "id": "4on5D3v5YVng",
        "outputId": "0083b7a2-0e65-45c1-ade0-bcfd644749b2"
      },
      "execution_count": 2,
      "outputs": [
        {
          "output_type": "stream",
          "name": "stdout",
          "text": [
            "Drive already mounted at /content/drive; to attempt to forcibly remount, call drive.mount(\"/content/drive\", force_remount=True).\n"
          ]
        }
      ]
    },
    {
      "cell_type": "code",
      "source": [
        "# Install dependencies\n",
        "!pip install -q transformers datasets evaluate accelerate"
      ],
      "metadata": {
        "id": "oYBBBhdaILmf"
      },
      "execution_count": 1,
      "outputs": []
    },
    {
      "cell_type": "code",
      "source": [
        "!wget -P /content/drive/MyDrive/AI/emotions_classifier https://github.com/nazaninsbr/Persian-Emotion-Detection/raw/refs/heads/main/dataset.csv"
      ],
      "metadata": {
        "id": "WHRf3iBLeW9I"
      },
      "execution_count": null,
      "outputs": []
    },
    {
      "cell_type": "code",
      "source": [
        "import os\n",
        "import pandas as pd\n",
        "from datasets import Dataset, DatasetDict\n",
        "from sklearn.model_selection import train_test_split\n",
        "from transformers import AutoTokenizer, AutoModelForSequenceClassification, TrainingArguments, Trainer\n",
        "import torch\n",
        "import evaluate\n",
        "\n",
        "# Disable W&B\n",
        "os.environ[\"WANDB_DISABLED\"] = \"true\"\n"
      ],
      "metadata": {
        "id": "ZljdrqNY0a2w"
      },
      "execution_count": 1,
      "outputs": []
    },
    {
      "cell_type": "code",
      "source": [
        "# Load CSV\n",
        "df = pd.read_csv(\"/content/drive/MyDrive/AI/emotions_classifier/dataset.csv\")\n",
        "\n",
        "# Emotion label columns\n",
        "label_cols = [\"Anger\", \"Fear\", \"Happiness\", \"Hatred\", \"Sadness\", \"Wonder\"]\n",
        "\n",
        "# Convert vote counts -> binary labels (≥3 = 1)\n",
        "df[label_cols] = df[label_cols].map(lambda x: 1 if x >= 2 else 0)\n",
        "\n",
        "# Add Neutral label\n",
        "df[\"Neutral\"] = df[label_cols].apply(lambda row: 1 if row.sum() == 0 else 0, axis=1)\n",
        "\n",
        "# Final label list\n",
        "final_labels = label_cols + [\"Neutral\"]\n",
        "num_labels = len(final_labels)\n",
        "\n",
        "# Pack labels into list and convert to float\n",
        "df[\"labels\"] = df[final_labels].apply(lambda row: [float(x) for x in row], axis=1)\n",
        "\n",
        "# Keep only text + labels\n",
        "df = df[[\"text\", \"labels\"]]\n",
        "\n",
        "# Train/validation split\n",
        "train_df, val_df = train_test_split(df, test_size=0.2, random_state=42)\n",
        "\n",
        "# Create Hugging Face datasets\n",
        "train_ds = Dataset.from_pandas(train_df.reset_index(drop=True))\n",
        "val_ds   = Dataset.from_pandas(val_df.reset_index(drop=True))\n",
        "\n",
        "dataset = DatasetDict({\"train\": train_ds, \"validation\": val_ds})\n",
        "\n",
        "# Optional: set torch format\n",
        "dataset.set_format(type=\"torch\", columns=[\"text\", \"labels\"])\n",
        "\n",
        "# # for test\n",
        "# small_train_ds = dataset[\"train\"].select(range(min(1024, len(dataset[\"train\"]))))\n",
        "# small_val_ds   = dataset[\"validation\"].select(range(min(1024, len(dataset[\"validation\"]))))\n",
        "\n",
        "# # Create a small dataset dict\n",
        "# small_dataset = DatasetDict({\n",
        "#     \"train\": small_train_ds,\n",
        "#     \"validation\": small_val_ds\n",
        "# })\n",
        "\n",
        "print(f\"Number of labels: {num_labels}\")\n",
        "print(f\"Classes: {final_labels}\")\n"
      ],
      "metadata": {
        "colab": {
          "base_uri": "https://localhost:8080/"
        },
        "id": "lQowqp_3j9Hf",
        "outputId": "c942c439-d46e-4f7b-a396-bc960fed4a7f"
      },
      "execution_count": 36,
      "outputs": [
        {
          "output_type": "stream",
          "name": "stdout",
          "text": [
            "Number of labels: 7\n",
            "Classes: ['Anger', 'Fear', 'Happiness', 'Hatred', 'Sadness', 'Wonder', 'Neutral']\n"
          ]
        }
      ]
    },
    {
      "cell_type": "code",
      "source": [
        "model_name = \"google-bert/bert-base-multilingual-cased\"\n",
        "tokenizer = AutoTokenizer.from_pretrained(model_name)\n",
        "\n",
        "def tokenize(batch):\n",
        "    return tokenizer(batch[\"text\"], padding=\"max_length\", truncation=True, max_length=128)\n",
        "\n",
        "dataset = dataset.map(tokenize, batched=True)\n",
        "dataset = dataset.remove_columns([\"text\"])\n",
        "\n",
        "# small_dataset = small_dataset.map(tokenize, batched=True)\n",
        "# small_dataset = small_dataset.remove_columns([\"text\"])"
      ],
      "metadata": {
        "colab": {
          "base_uri": "https://localhost:8080/",
          "height": 81,
          "referenced_widgets": [
            "22fe2f13dc4a4c47954aba38d150a425",
            "8925a5e939844428ad56c99770837655",
            "50942de8219c47bbabc438acaf338510",
            "f5b446180ec24e97849aed56d9d62a16",
            "fb489bec1ee24cc78c5b764827a14195",
            "63fc561e268c4379b54914bd5ee47c94",
            "c0248e3618bc488fa4ad8f6e026055d6",
            "8457c72e35494277969c7edcd9ee17e5",
            "5e42deaeff134004ae700f302043c7c3",
            "e9f4ec3502e343b39369d7155169180a",
            "eb5fb8b1a786482fa66a96d654c7863f",
            "f36dcc83344943459b5499320ea90179",
            "c50a449b1f214b2fb2d4c2ac12dcbaf8",
            "83621f25668c4563beb1a774cc3649ab",
            "adc9802b4c64451ca284a31a570a6e23",
            "8e36814d2aa84cb8b486917723766642",
            "e057777c2e094648895bc255bc993d35",
            "bee686b9fdde4c6e9c37e2d1c0402191",
            "6a464c97140d4cd5a2eeca6bf6564ef5",
            "99db6abc9c2c4e7b8b5e6416c5000185",
            "3f69f5beb9ef4a5faa9e01cb2feef72f",
            "fc19bda97cb34c53968797eb41cbf559"
          ]
        },
        "id": "suYQzQhK0p_g",
        "outputId": "be6b5b77-2f70-4da8-bcc5-7e5b769fa118"
      },
      "execution_count": 37,
      "outputs": [
        {
          "output_type": "display_data",
          "data": {
            "text/plain": [
              "Map:   0%|          | 0/24000 [00:00<?, ? examples/s]"
            ],
            "application/vnd.jupyter.widget-view+json": {
              "version_major": 2,
              "version_minor": 0,
              "model_id": "22fe2f13dc4a4c47954aba38d150a425"
            }
          },
          "metadata": {}
        },
        {
          "output_type": "display_data",
          "data": {
            "text/plain": [
              "Map:   0%|          | 0/6000 [00:00<?, ? examples/s]"
            ],
            "application/vnd.jupyter.widget-view+json": {
              "version_major": 2,
              "version_minor": 0,
              "model_id": "f36dcc83344943459b5499320ea90179"
            }
          },
          "metadata": {}
        }
      ]
    },
    {
      "cell_type": "code",
      "source": [
        "model = AutoModelForSequenceClassification.from_pretrained(\n",
        "    model_name,\n",
        "    num_labels=num_labels,\n",
        "    problem_type=\"multi_label_classification\"\n",
        ")\n"
      ],
      "metadata": {
        "colab": {
          "base_uri": "https://localhost:8080/"
        },
        "id": "C4Ok0W230zzQ",
        "outputId": "5cc7db6d-ccdc-4c4f-a8a3-385d948c6b0f"
      },
      "execution_count": 23,
      "outputs": [
        {
          "output_type": "stream",
          "name": "stderr",
          "text": [
            "Some weights of BertForSequenceClassification were not initialized from the model checkpoint at google-bert/bert-base-multilingual-cased and are newly initialized: ['classifier.bias', 'classifier.weight']\n",
            "You should probably TRAIN this model on a down-stream task to be able to use it for predictions and inference.\n"
          ]
        }
      ]
    },
    {
      "cell_type": "code",
      "source": [
        "from sklearn.metrics import f1_score, accuracy_score\n",
        "\n",
        "def compute_metrics(eval_pred):\n",
        "    logits, labels = eval_pred\n",
        "    probs = torch.sigmoid(torch.tensor(logits))\n",
        "    preds = (probs > 0.5).int().numpy()\n",
        "    labels = labels.astype(int)\n",
        "\n",
        "    f1 = f1_score(labels, preds, average=\"macro\")\n",
        "    # subset accuracy\n",
        "    acc = (preds == labels).all(axis=1).mean()\n",
        "    return {\"accuracy\": acc, \"f1_macro\": f1}\n"
      ],
      "metadata": {
        "id": "7wHbVpd102tH"
      },
      "execution_count": 24,
      "outputs": []
    },
    {
      "cell_type": "code",
      "source": [
        "args = TrainingArguments(\n",
        "    output_dir=\"/content/emotions_classifier/bert-persian-emotions\",\n",
        "    eval_strategy=\"epoch\",\n",
        "    save_strategy=\"epoch\",\n",
        "    learning_rate=2e-5,\n",
        "    per_device_train_batch_size=8,\n",
        "    gradient_accumulation_steps=2,  # effective batch = 16\n",
        "    per_device_eval_batch_size=8,\n",
        "    num_train_epochs=3,\n",
        "    weight_decay=0.01,\n",
        "    load_best_model_at_end=True,\n",
        "    metric_for_best_model=\"f1_macro\",\n",
        "    fp16=True,                     # mixed precision\n",
        "    report_to=\"none\",                # disables W&B\n",
        "    optim=\"adamw_torch_fused\"           # faster optimizer if CUDA 11.7+\n",
        ")\n"
      ],
      "metadata": {
        "id": "2M9Y0vJD07rg"
      },
      "execution_count": 25,
      "outputs": []
    },
    {
      "cell_type": "code",
      "source": [
        "trainer = Trainer(\n",
        "    model=model,\n",
        "    args=args,\n",
        "    train_dataset=dataset[\"train\"],\n",
        "    eval_dataset=dataset[\"validation\"],\n",
        "    tokenizer=tokenizer,\n",
        "    compute_metrics=compute_metrics\n",
        ")\n",
        "\n",
        "trainer.train()"
      ],
      "metadata": {
        "colab": {
          "base_uri": "https://localhost:8080/",
          "height": 239
        },
        "id": "LkJnJTUd1-XX",
        "outputId": "bbc44e13-0e25-46e6-c2a0-3f156fd4952f"
      },
      "execution_count": 32,
      "outputs": [
        {
          "output_type": "stream",
          "name": "stderr",
          "text": [
            "/tmp/ipython-input-2859974727.py:1: FutureWarning: `tokenizer` is deprecated and will be removed in version 5.0.0 for `Trainer.__init__`. Use `processing_class` instead.\n",
            "  trainer = Trainer(\n"
          ]
        },
        {
          "output_type": "display_data",
          "data": {
            "text/plain": [
              "<IPython.core.display.HTML object>"
            ],
            "text/html": [
              "\n",
              "    <div>\n",
              "      \n",
              "      <progress value='4500' max='4500' style='width:300px; height:20px; vertical-align: middle;'></progress>\n",
              "      [4500/4500 14:22, Epoch 3/3]\n",
              "    </div>\n",
              "    <table border=\"1\" class=\"dataframe\">\n",
              "  <thead>\n",
              " <tr style=\"text-align: left;\">\n",
              "      <th>Epoch</th>\n",
              "      <th>Training Loss</th>\n",
              "      <th>Validation Loss</th>\n",
              "      <th>Accuracy</th>\n",
              "      <th>F1 Macro</th>\n",
              "    </tr>\n",
              "  </thead>\n",
              "  <tbody>\n",
              "    <tr>\n",
              "      <td>1</td>\n",
              "      <td>0.216000</td>\n",
              "      <td>0.204014</td>\n",
              "      <td>0.804833</td>\n",
              "      <td>0.127409</td>\n",
              "    </tr>\n",
              "    <tr>\n",
              "      <td>2</td>\n",
              "      <td>0.214500</td>\n",
              "      <td>0.203465</td>\n",
              "      <td>0.804833</td>\n",
              "      <td>0.127409</td>\n",
              "    </tr>\n",
              "    <tr>\n",
              "      <td>3</td>\n",
              "      <td>0.209100</td>\n",
              "      <td>0.203035</td>\n",
              "      <td>0.804833</td>\n",
              "      <td>0.127409</td>\n",
              "    </tr>\n",
              "  </tbody>\n",
              "</table><p>"
            ]
          },
          "metadata": {}
        },
        {
          "output_type": "execute_result",
          "data": {
            "text/plain": [
              "TrainOutput(global_step=4500, training_loss=0.21229507615831164, metrics={'train_runtime': 863.0885, 'train_samples_per_second': 83.421, 'train_steps_per_second': 5.214, 'total_flos': 4736211609600000.0, 'train_loss': 0.21229507615831164, 'epoch': 3.0})"
            ]
          },
          "metadata": {},
          "execution_count": 32
        }
      ]
    },
    {
      "cell_type": "code",
      "source": [
        "texts = [\n",
        "    \"من امروز خیلی خوشحالم\",      # Happy\n",
        "    \"احساس می‌کنم ناراحت و خسته‌ام\", # Sad\n",
        "    \"از تاریکی می‌ترسم\",           # Fear\n",
        "    \"قدم زدن زیر بارون شاید بهترین مسکن درد هاست...\" # Neutral\n",
        "]\n",
        "\n",
        "inputs = tokenizer(texts, return_tensors=\"pt\", padding=True, truncation=True, max_length=128)\n",
        "outputs = model(**inputs)\n",
        "probs = torch.sigmoid(outputs.logits).detach().numpy()\n",
        "\n",
        "for text, p in zip(texts, probs):\n",
        "    labels_pred = [final_labels[i] for i, v in enumerate(p) if v > 0.5]\n",
        "    print(text, \"->\", labels_pred)\n"
      ],
      "metadata": {
        "id": "rtoVASNe-pvX"
      },
      "execution_count": null,
      "outputs": []
    },
    {
      "cell_type": "code",
      "source": [
        "import numpy as np\n",
        "from sklearn.metrics import f1_score, classification_report\n",
        "\n",
        "# collect true labels and preds on validation set\n",
        "preds_logits = trainer.predict(dataset[\"validation\"]).predictions  # raw logits\n",
        "probs = 1 / (1 + np.exp(-preds_logits))\n",
        "preds = (probs > 0.5).astype(int)\n",
        "\n",
        "refs = np.stack([ex[\"labels\"] for ex in dataset[\"validation\"]])  # shape (N, num_labels)\n",
        "\n",
        "# overall per-label counts\n",
        "pos_counts = refs.sum(axis=0)\n",
        "neg_counts = refs.shape[0] - pos_counts\n",
        "print(\"pos counts per label:\", pos_counts)\n",
        "print(\"neg counts per label:\", neg_counts)\n",
        "\n",
        "# per-label f1\n",
        "for i, name in enumerate(final_labels):   # final_labels from your prep\n",
        "    print(name, \"F1:\", f1_score(refs[:, i], preds[:, i], zero_division=0))\n",
        "\n",
        "# full classification report (flattened per-label)\n",
        "print(classification_report(refs, preds, zero_division=0))\n"
      ],
      "metadata": {
        "id": "a3Le0t3eU-nP",
        "outputId": "c6b90cf2-3b7e-411a-fcae-74ba8014122c",
        "colab": {
          "base_uri": "https://localhost:8080/",
          "height": 434
        }
      },
      "execution_count": 34,
      "outputs": [
        {
          "output_type": "display_data",
          "data": {
            "text/plain": [
              "<IPython.core.display.HTML object>"
            ],
            "text/html": []
          },
          "metadata": {}
        },
        {
          "output_type": "stream",
          "name": "stdout",
          "text": [
            "pos counts per label: [ 295.  136.  125.  245.  356.  179. 4829.]\n",
            "neg counts per label: [5705. 5864. 5875. 5755. 5644. 5821. 1171.]\n",
            "Anger F1: 0.0\n",
            "Fear F1: 0.0\n",
            "Happiness F1: 0.0\n",
            "Hatred F1: 0.0\n",
            "Sadness F1: 0.0\n",
            "Wonder F1: 0.0\n",
            "Neutral F1: 0.8918644380829255\n",
            "              precision    recall  f1-score   support\n",
            "\n",
            "           0       0.00      0.00      0.00       295\n",
            "           1       0.00      0.00      0.00       136\n",
            "           2       0.00      0.00      0.00       125\n",
            "           3       0.00      0.00      0.00       245\n",
            "           4       0.00      0.00      0.00       356\n",
            "           5       0.00      0.00      0.00       179\n",
            "           6       0.80      1.00      0.89      4829\n",
            "\n",
            "   micro avg       0.80      0.78      0.79      6165\n",
            "   macro avg       0.11      0.14      0.13      6165\n",
            "weighted avg       0.63      0.78      0.70      6165\n",
            " samples avg       0.80      0.80      0.80      6165\n",
            "\n"
          ]
        }
      ]
    },
    {
      "cell_type": "code",
      "source": [
        "import numpy as np\n",
        "\n",
        "# Convert Hugging Face dataset into numpy array of labels\n",
        "all_labels = np.stack(dataset[\"train\"][\"labels\"])  # shape: (num_samples, num_labels)\n",
        "\n",
        "# Count positives and negatives per label\n",
        "pos_counts = all_labels.sum(axis=0)\n",
        "neg_counts = all_labels.shape[0] - pos_counts\n",
        "\n",
        "print(\"pos counts per label:\", pos_counts)\n",
        "print(\"neg counts per label:\", neg_counts)\n",
        "\n",
        "# If you want mapping to label names:\n",
        "for name, pos, neg in zip(final_labels, pos_counts, neg_counts):\n",
        "    print(f\"{name:10s} | pos: {int(pos):5d} | neg: {int(neg):5d}\")\n"
      ],
      "metadata": {
        "colab": {
          "base_uri": "https://localhost:8080/"
        },
        "id": "U55f3uwAXOki",
        "outputId": "684ee21f-cb96-4b81-e078-19b56604373e"
      },
      "execution_count": 35,
      "outputs": [
        {
          "output_type": "stream",
          "name": "stdout",
          "text": [
            "pos counts per label: [ 1337.   554.   567.  1011.  1414.   807. 19107.]\n",
            "neg counts per label: [22663. 23446. 23433. 22989. 22586. 23193.  4893.]\n",
            "Anger      | pos:  1337 | neg: 22663\n",
            "Fear       | pos:   554 | neg: 23446\n",
            "Happiness  | pos:   567 | neg: 23433\n",
            "Hatred     | pos:  1011 | neg: 22989\n",
            "Sadness    | pos:  1414 | neg: 22586\n",
            "Wonder     | pos:   807 | neg: 23193\n",
            "Neutral    | pos: 19107 | neg:  4893\n"
          ]
        }
      ]
    },
    {
      "cell_type": "code",
      "source": [
        "import numpy as np\n",
        "\n",
        "# Convert Hugging Face dataset into numpy array of labels\n",
        "all_labels = np.stack(dataset[\"train\"][\"labels\"])  # shape: (num_samples, num_labels)\n",
        "\n",
        "# Count positives and negatives per label\n",
        "pos_counts = all_labels.sum(axis=0)\n",
        "neg_counts = all_labels.shape[0] - pos_counts\n",
        "\n",
        "print(\"pos counts per label:\", pos_counts)\n",
        "print(\"neg counts per label:\", neg_counts)\n",
        "\n",
        "# If you want mapping to label names:\n",
        "for name, pos, neg in zip(final_labels, pos_counts, neg_counts):\n",
        "    print(f\"{name:10s} | pos: {int(pos):5d} | neg: {int(neg):5d}\")\n"
      ],
      "metadata": {
        "outputId": "ee5a6586-ea32-4554-aa19-4bf0c743af44",
        "colab": {
          "base_uri": "https://localhost:8080/"
        },
        "id": "OXw2jfpwX_Jy"
      },
      "execution_count": 38,
      "outputs": [
        {
          "output_type": "stream",
          "name": "stdout",
          "text": [
            "pos counts per label: [5363. 3394. 3155. 4775. 5797. 4121. 7864.]\n",
            "neg counts per label: [18637. 20606. 20845. 19225. 18203. 19879. 16136.]\n",
            "Anger      | pos:  5363 | neg: 18637\n",
            "Fear       | pos:  3394 | neg: 20606\n",
            "Happiness  | pos:  3155 | neg: 20845\n",
            "Hatred     | pos:  4775 | neg: 19225\n",
            "Sadness    | pos:  5797 | neg: 18203\n",
            "Wonder     | pos:  4121 | neg: 19879\n",
            "Neutral    | pos:  7864 | neg: 16136\n"
          ]
        }
      ]
    }
  ]
}