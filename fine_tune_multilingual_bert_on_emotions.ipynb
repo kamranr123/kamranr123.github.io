{
  "nbformat": 4,
  "nbformat_minor": 0,
  "metadata": {
    "colab": {
      "provenance": [],
      "gpuType": "T4",
      "include_colab_link": true
    },
    "kernelspec": {
      "name": "python3",
      "display_name": "Python 3"
    },
    "language_info": {
      "name": "python"
    },
    "accelerator": "GPU",
    "widgets": {
      "application/vnd.jupyter.widget-state+json": {
        "2736513a40f3401281adac26e5ea0485": {
          "model_module": "@jupyter-widgets/controls",
          "model_name": "HBoxModel",
          "model_module_version": "1.5.0",
          "state": {
            "_dom_classes": [],
            "_model_module": "@jupyter-widgets/controls",
            "_model_module_version": "1.5.0",
            "_model_name": "HBoxModel",
            "_view_count": null,
            "_view_module": "@jupyter-widgets/controls",
            "_view_module_version": "1.5.0",
            "_view_name": "HBoxView",
            "box_style": "",
            "children": [
              "IPY_MODEL_5f25ff8a5f5744d0b971dc7d53de433d",
              "IPY_MODEL_3e54ec6082764dc385fd48afc31f7941",
              "IPY_MODEL_387f88a982614432935d1df00d42c409"
            ],
            "layout": "IPY_MODEL_30d829da57684c139987fe28fc5c028c"
          }
        },
        "5f25ff8a5f5744d0b971dc7d53de433d": {
          "model_module": "@jupyter-widgets/controls",
          "model_name": "HTMLModel",
          "model_module_version": "1.5.0",
          "state": {
            "_dom_classes": [],
            "_model_module": "@jupyter-widgets/controls",
            "_model_module_version": "1.5.0",
            "_model_name": "HTMLModel",
            "_view_count": null,
            "_view_module": "@jupyter-widgets/controls",
            "_view_module_version": "1.5.0",
            "_view_name": "HTMLView",
            "description": "",
            "description_tooltip": null,
            "layout": "IPY_MODEL_b60ef1a21da54fc097e8d19f01b0e4d2",
            "placeholder": "​",
            "style": "IPY_MODEL_01e73e3dc2474bf0ad74b45dec6e5424",
            "value": "Map: 100%"
          }
        },
        "3e54ec6082764dc385fd48afc31f7941": {
          "model_module": "@jupyter-widgets/controls",
          "model_name": "FloatProgressModel",
          "model_module_version": "1.5.0",
          "state": {
            "_dom_classes": [],
            "_model_module": "@jupyter-widgets/controls",
            "_model_module_version": "1.5.0",
            "_model_name": "FloatProgressModel",
            "_view_count": null,
            "_view_module": "@jupyter-widgets/controls",
            "_view_module_version": "1.5.0",
            "_view_name": "ProgressView",
            "bar_style": "success",
            "description": "",
            "description_tooltip": null,
            "layout": "IPY_MODEL_6b695932621845dab42f89c0b013ee16",
            "max": 24000,
            "min": 0,
            "orientation": "horizontal",
            "style": "IPY_MODEL_1c5232f7931a4dcfa2b0dab231e1d8af",
            "value": 24000
          }
        },
        "387f88a982614432935d1df00d42c409": {
          "model_module": "@jupyter-widgets/controls",
          "model_name": "HTMLModel",
          "model_module_version": "1.5.0",
          "state": {
            "_dom_classes": [],
            "_model_module": "@jupyter-widgets/controls",
            "_model_module_version": "1.5.0",
            "_model_name": "HTMLModel",
            "_view_count": null,
            "_view_module": "@jupyter-widgets/controls",
            "_view_module_version": "1.5.0",
            "_view_name": "HTMLView",
            "description": "",
            "description_tooltip": null,
            "layout": "IPY_MODEL_ff32963d762e49d79e9836a65ba444e9",
            "placeholder": "​",
            "style": "IPY_MODEL_5b8eb0e2169d4fffb4cfe0d1e2cb66b4",
            "value": " 24000/24000 [00:08&lt;00:00, 2819.38 examples/s]"
          }
        },
        "30d829da57684c139987fe28fc5c028c": {
          "model_module": "@jupyter-widgets/base",
          "model_name": "LayoutModel",
          "model_module_version": "1.2.0",
          "state": {
            "_model_module": "@jupyter-widgets/base",
            "_model_module_version": "1.2.0",
            "_model_name": "LayoutModel",
            "_view_count": null,
            "_view_module": "@jupyter-widgets/base",
            "_view_module_version": "1.2.0",
            "_view_name": "LayoutView",
            "align_content": null,
            "align_items": null,
            "align_self": null,
            "border": null,
            "bottom": null,
            "display": null,
            "flex": null,
            "flex_flow": null,
            "grid_area": null,
            "grid_auto_columns": null,
            "grid_auto_flow": null,
            "grid_auto_rows": null,
            "grid_column": null,
            "grid_gap": null,
            "grid_row": null,
            "grid_template_areas": null,
            "grid_template_columns": null,
            "grid_template_rows": null,
            "height": null,
            "justify_content": null,
            "justify_items": null,
            "left": null,
            "margin": null,
            "max_height": null,
            "max_width": null,
            "min_height": null,
            "min_width": null,
            "object_fit": null,
            "object_position": null,
            "order": null,
            "overflow": null,
            "overflow_x": null,
            "overflow_y": null,
            "padding": null,
            "right": null,
            "top": null,
            "visibility": null,
            "width": null
          }
        },
        "b60ef1a21da54fc097e8d19f01b0e4d2": {
          "model_module": "@jupyter-widgets/base",
          "model_name": "LayoutModel",
          "model_module_version": "1.2.0",
          "state": {
            "_model_module": "@jupyter-widgets/base",
            "_model_module_version": "1.2.0",
            "_model_name": "LayoutModel",
            "_view_count": null,
            "_view_module": "@jupyter-widgets/base",
            "_view_module_version": "1.2.0",
            "_view_name": "LayoutView",
            "align_content": null,
            "align_items": null,
            "align_self": null,
            "border": null,
            "bottom": null,
            "display": null,
            "flex": null,
            "flex_flow": null,
            "grid_area": null,
            "grid_auto_columns": null,
            "grid_auto_flow": null,
            "grid_auto_rows": null,
            "grid_column": null,
            "grid_gap": null,
            "grid_row": null,
            "grid_template_areas": null,
            "grid_template_columns": null,
            "grid_template_rows": null,
            "height": null,
            "justify_content": null,
            "justify_items": null,
            "left": null,
            "margin": null,
            "max_height": null,
            "max_width": null,
            "min_height": null,
            "min_width": null,
            "object_fit": null,
            "object_position": null,
            "order": null,
            "overflow": null,
            "overflow_x": null,
            "overflow_y": null,
            "padding": null,
            "right": null,
            "top": null,
            "visibility": null,
            "width": null
          }
        },
        "01e73e3dc2474bf0ad74b45dec6e5424": {
          "model_module": "@jupyter-widgets/controls",
          "model_name": "DescriptionStyleModel",
          "model_module_version": "1.5.0",
          "state": {
            "_model_module": "@jupyter-widgets/controls",
            "_model_module_version": "1.5.0",
            "_model_name": "DescriptionStyleModel",
            "_view_count": null,
            "_view_module": "@jupyter-widgets/base",
            "_view_module_version": "1.2.0",
            "_view_name": "StyleView",
            "description_width": ""
          }
        },
        "6b695932621845dab42f89c0b013ee16": {
          "model_module": "@jupyter-widgets/base",
          "model_name": "LayoutModel",
          "model_module_version": "1.2.0",
          "state": {
            "_model_module": "@jupyter-widgets/base",
            "_model_module_version": "1.2.0",
            "_model_name": "LayoutModel",
            "_view_count": null,
            "_view_module": "@jupyter-widgets/base",
            "_view_module_version": "1.2.0",
            "_view_name": "LayoutView",
            "align_content": null,
            "align_items": null,
            "align_self": null,
            "border": null,
            "bottom": null,
            "display": null,
            "flex": null,
            "flex_flow": null,
            "grid_area": null,
            "grid_auto_columns": null,
            "grid_auto_flow": null,
            "grid_auto_rows": null,
            "grid_column": null,
            "grid_gap": null,
            "grid_row": null,
            "grid_template_areas": null,
            "grid_template_columns": null,
            "grid_template_rows": null,
            "height": null,
            "justify_content": null,
            "justify_items": null,
            "left": null,
            "margin": null,
            "max_height": null,
            "max_width": null,
            "min_height": null,
            "min_width": null,
            "object_fit": null,
            "object_position": null,
            "order": null,
            "overflow": null,
            "overflow_x": null,
            "overflow_y": null,
            "padding": null,
            "right": null,
            "top": null,
            "visibility": null,
            "width": null
          }
        },
        "1c5232f7931a4dcfa2b0dab231e1d8af": {
          "model_module": "@jupyter-widgets/controls",
          "model_name": "ProgressStyleModel",
          "model_module_version": "1.5.0",
          "state": {
            "_model_module": "@jupyter-widgets/controls",
            "_model_module_version": "1.5.0",
            "_model_name": "ProgressStyleModel",
            "_view_count": null,
            "_view_module": "@jupyter-widgets/base",
            "_view_module_version": "1.2.0",
            "_view_name": "StyleView",
            "bar_color": null,
            "description_width": ""
          }
        },
        "ff32963d762e49d79e9836a65ba444e9": {
          "model_module": "@jupyter-widgets/base",
          "model_name": "LayoutModel",
          "model_module_version": "1.2.0",
          "state": {
            "_model_module": "@jupyter-widgets/base",
            "_model_module_version": "1.2.0",
            "_model_name": "LayoutModel",
            "_view_count": null,
            "_view_module": "@jupyter-widgets/base",
            "_view_module_version": "1.2.0",
            "_view_name": "LayoutView",
            "align_content": null,
            "align_items": null,
            "align_self": null,
            "border": null,
            "bottom": null,
            "display": null,
            "flex": null,
            "flex_flow": null,
            "grid_area": null,
            "grid_auto_columns": null,
            "grid_auto_flow": null,
            "grid_auto_rows": null,
            "grid_column": null,
            "grid_gap": null,
            "grid_row": null,
            "grid_template_areas": null,
            "grid_template_columns": null,
            "grid_template_rows": null,
            "height": null,
            "justify_content": null,
            "justify_items": null,
            "left": null,
            "margin": null,
            "max_height": null,
            "max_width": null,
            "min_height": null,
            "min_width": null,
            "object_fit": null,
            "object_position": null,
            "order": null,
            "overflow": null,
            "overflow_x": null,
            "overflow_y": null,
            "padding": null,
            "right": null,
            "top": null,
            "visibility": null,
            "width": null
          }
        },
        "5b8eb0e2169d4fffb4cfe0d1e2cb66b4": {
          "model_module": "@jupyter-widgets/controls",
          "model_name": "DescriptionStyleModel",
          "model_module_version": "1.5.0",
          "state": {
            "_model_module": "@jupyter-widgets/controls",
            "_model_module_version": "1.5.0",
            "_model_name": "DescriptionStyleModel",
            "_view_count": null,
            "_view_module": "@jupyter-widgets/base",
            "_view_module_version": "1.2.0",
            "_view_name": "StyleView",
            "description_width": ""
          }
        },
        "581e572d8986475fbb565b2a5481aced": {
          "model_module": "@jupyter-widgets/controls",
          "model_name": "HBoxModel",
          "model_module_version": "1.5.0",
          "state": {
            "_dom_classes": [],
            "_model_module": "@jupyter-widgets/controls",
            "_model_module_version": "1.5.0",
            "_model_name": "HBoxModel",
            "_view_count": null,
            "_view_module": "@jupyter-widgets/controls",
            "_view_module_version": "1.5.0",
            "_view_name": "HBoxView",
            "box_style": "",
            "children": [
              "IPY_MODEL_813f6249bf4e4ec68a223f160883e347",
              "IPY_MODEL_a825a8c64259457595d21ad3efe82525",
              "IPY_MODEL_fcbf54b765244b6e85e7ed65ec60a12d"
            ],
            "layout": "IPY_MODEL_6af8098ff6244d07bd265da4037e4a90"
          }
        },
        "813f6249bf4e4ec68a223f160883e347": {
          "model_module": "@jupyter-widgets/controls",
          "model_name": "HTMLModel",
          "model_module_version": "1.5.0",
          "state": {
            "_dom_classes": [],
            "_model_module": "@jupyter-widgets/controls",
            "_model_module_version": "1.5.0",
            "_model_name": "HTMLModel",
            "_view_count": null,
            "_view_module": "@jupyter-widgets/controls",
            "_view_module_version": "1.5.0",
            "_view_name": "HTMLView",
            "description": "",
            "description_tooltip": null,
            "layout": "IPY_MODEL_1047463cdd66452fae3ccaf3a90885aa",
            "placeholder": "​",
            "style": "IPY_MODEL_33cf44d3b009431b88349ebea81f6cc4",
            "value": "Map: 100%"
          }
        },
        "a825a8c64259457595d21ad3efe82525": {
          "model_module": "@jupyter-widgets/controls",
          "model_name": "FloatProgressModel",
          "model_module_version": "1.5.0",
          "state": {
            "_dom_classes": [],
            "_model_module": "@jupyter-widgets/controls",
            "_model_module_version": "1.5.0",
            "_model_name": "FloatProgressModel",
            "_view_count": null,
            "_view_module": "@jupyter-widgets/controls",
            "_view_module_version": "1.5.0",
            "_view_name": "ProgressView",
            "bar_style": "success",
            "description": "",
            "description_tooltip": null,
            "layout": "IPY_MODEL_428fc39bb14e409498bc7f9f94552784",
            "max": 6000,
            "min": 0,
            "orientation": "horizontal",
            "style": "IPY_MODEL_e0538e5d7fb4448fbbed32d824c08725",
            "value": 6000
          }
        },
        "fcbf54b765244b6e85e7ed65ec60a12d": {
          "model_module": "@jupyter-widgets/controls",
          "model_name": "HTMLModel",
          "model_module_version": "1.5.0",
          "state": {
            "_dom_classes": [],
            "_model_module": "@jupyter-widgets/controls",
            "_model_module_version": "1.5.0",
            "_model_name": "HTMLModel",
            "_view_count": null,
            "_view_module": "@jupyter-widgets/controls",
            "_view_module_version": "1.5.0",
            "_view_name": "HTMLView",
            "description": "",
            "description_tooltip": null,
            "layout": "IPY_MODEL_a8946d7e060d491b9332fd77f3476a8d",
            "placeholder": "​",
            "style": "IPY_MODEL_9a46827f392c4b09bdcb28330d8a393b",
            "value": " 6000/6000 [00:02&lt;00:00, 3353.12 examples/s]"
          }
        },
        "6af8098ff6244d07bd265da4037e4a90": {
          "model_module": "@jupyter-widgets/base",
          "model_name": "LayoutModel",
          "model_module_version": "1.2.0",
          "state": {
            "_model_module": "@jupyter-widgets/base",
            "_model_module_version": "1.2.0",
            "_model_name": "LayoutModel",
            "_view_count": null,
            "_view_module": "@jupyter-widgets/base",
            "_view_module_version": "1.2.0",
            "_view_name": "LayoutView",
            "align_content": null,
            "align_items": null,
            "align_self": null,
            "border": null,
            "bottom": null,
            "display": null,
            "flex": null,
            "flex_flow": null,
            "grid_area": null,
            "grid_auto_columns": null,
            "grid_auto_flow": null,
            "grid_auto_rows": null,
            "grid_column": null,
            "grid_gap": null,
            "grid_row": null,
            "grid_template_areas": null,
            "grid_template_columns": null,
            "grid_template_rows": null,
            "height": null,
            "justify_content": null,
            "justify_items": null,
            "left": null,
            "margin": null,
            "max_height": null,
            "max_width": null,
            "min_height": null,
            "min_width": null,
            "object_fit": null,
            "object_position": null,
            "order": null,
            "overflow": null,
            "overflow_x": null,
            "overflow_y": null,
            "padding": null,
            "right": null,
            "top": null,
            "visibility": null,
            "width": null
          }
        },
        "1047463cdd66452fae3ccaf3a90885aa": {
          "model_module": "@jupyter-widgets/base",
          "model_name": "LayoutModel",
          "model_module_version": "1.2.0",
          "state": {
            "_model_module": "@jupyter-widgets/base",
            "_model_module_version": "1.2.0",
            "_model_name": "LayoutModel",
            "_view_count": null,
            "_view_module": "@jupyter-widgets/base",
            "_view_module_version": "1.2.0",
            "_view_name": "LayoutView",
            "align_content": null,
            "align_items": null,
            "align_self": null,
            "border": null,
            "bottom": null,
            "display": null,
            "flex": null,
            "flex_flow": null,
            "grid_area": null,
            "grid_auto_columns": null,
            "grid_auto_flow": null,
            "grid_auto_rows": null,
            "grid_column": null,
            "grid_gap": null,
            "grid_row": null,
            "grid_template_areas": null,
            "grid_template_columns": null,
            "grid_template_rows": null,
            "height": null,
            "justify_content": null,
            "justify_items": null,
            "left": null,
            "margin": null,
            "max_height": null,
            "max_width": null,
            "min_height": null,
            "min_width": null,
            "object_fit": null,
            "object_position": null,
            "order": null,
            "overflow": null,
            "overflow_x": null,
            "overflow_y": null,
            "padding": null,
            "right": null,
            "top": null,
            "visibility": null,
            "width": null
          }
        },
        "33cf44d3b009431b88349ebea81f6cc4": {
          "model_module": "@jupyter-widgets/controls",
          "model_name": "DescriptionStyleModel",
          "model_module_version": "1.5.0",
          "state": {
            "_model_module": "@jupyter-widgets/controls",
            "_model_module_version": "1.5.0",
            "_model_name": "DescriptionStyleModel",
            "_view_count": null,
            "_view_module": "@jupyter-widgets/base",
            "_view_module_version": "1.2.0",
            "_view_name": "StyleView",
            "description_width": ""
          }
        },
        "428fc39bb14e409498bc7f9f94552784": {
          "model_module": "@jupyter-widgets/base",
          "model_name": "LayoutModel",
          "model_module_version": "1.2.0",
          "state": {
            "_model_module": "@jupyter-widgets/base",
            "_model_module_version": "1.2.0",
            "_model_name": "LayoutModel",
            "_view_count": null,
            "_view_module": "@jupyter-widgets/base",
            "_view_module_version": "1.2.0",
            "_view_name": "LayoutView",
            "align_content": null,
            "align_items": null,
            "align_self": null,
            "border": null,
            "bottom": null,
            "display": null,
            "flex": null,
            "flex_flow": null,
            "grid_area": null,
            "grid_auto_columns": null,
            "grid_auto_flow": null,
            "grid_auto_rows": null,
            "grid_column": null,
            "grid_gap": null,
            "grid_row": null,
            "grid_template_areas": null,
            "grid_template_columns": null,
            "grid_template_rows": null,
            "height": null,
            "justify_content": null,
            "justify_items": null,
            "left": null,
            "margin": null,
            "max_height": null,
            "max_width": null,
            "min_height": null,
            "min_width": null,
            "object_fit": null,
            "object_position": null,
            "order": null,
            "overflow": null,
            "overflow_x": null,
            "overflow_y": null,
            "padding": null,
            "right": null,
            "top": null,
            "visibility": null,
            "width": null
          }
        },
        "e0538e5d7fb4448fbbed32d824c08725": {
          "model_module": "@jupyter-widgets/controls",
          "model_name": "ProgressStyleModel",
          "model_module_version": "1.5.0",
          "state": {
            "_model_module": "@jupyter-widgets/controls",
            "_model_module_version": "1.5.0",
            "_model_name": "ProgressStyleModel",
            "_view_count": null,
            "_view_module": "@jupyter-widgets/base",
            "_view_module_version": "1.2.0",
            "_view_name": "StyleView",
            "bar_color": null,
            "description_width": ""
          }
        },
        "a8946d7e060d491b9332fd77f3476a8d": {
          "model_module": "@jupyter-widgets/base",
          "model_name": "LayoutModel",
          "model_module_version": "1.2.0",
          "state": {
            "_model_module": "@jupyter-widgets/base",
            "_model_module_version": "1.2.0",
            "_model_name": "LayoutModel",
            "_view_count": null,
            "_view_module": "@jupyter-widgets/base",
            "_view_module_version": "1.2.0",
            "_view_name": "LayoutView",
            "align_content": null,
            "align_items": null,
            "align_self": null,
            "border": null,
            "bottom": null,
            "display": null,
            "flex": null,
            "flex_flow": null,
            "grid_area": null,
            "grid_auto_columns": null,
            "grid_auto_flow": null,
            "grid_auto_rows": null,
            "grid_column": null,
            "grid_gap": null,
            "grid_row": null,
            "grid_template_areas": null,
            "grid_template_columns": null,
            "grid_template_rows": null,
            "height": null,
            "justify_content": null,
            "justify_items": null,
            "left": null,
            "margin": null,
            "max_height": null,
            "max_width": null,
            "min_height": null,
            "min_width": null,
            "object_fit": null,
            "object_position": null,
            "order": null,
            "overflow": null,
            "overflow_x": null,
            "overflow_y": null,
            "padding": null,
            "right": null,
            "top": null,
            "visibility": null,
            "width": null
          }
        },
        "9a46827f392c4b09bdcb28330d8a393b": {
          "model_module": "@jupyter-widgets/controls",
          "model_name": "DescriptionStyleModel",
          "model_module_version": "1.5.0",
          "state": {
            "_model_module": "@jupyter-widgets/controls",
            "_model_module_version": "1.5.0",
            "_model_name": "DescriptionStyleModel",
            "_view_count": null,
            "_view_module": "@jupyter-widgets/base",
            "_view_module_version": "1.2.0",
            "_view_name": "StyleView",
            "description_width": ""
          }
        }
      }
    }
  },
  "cells": [
    {
      "cell_type": "markdown",
      "metadata": {
        "id": "view-in-github",
        "colab_type": "text"
      },
      "source": [
        "<a href=\"https://colab.research.google.com/github/kamranr123/kamranr123.github.io/blob/master/fine_tune_multilingual_bert_on_emotions.ipynb\" target=\"_parent\"><img src=\"https://colab.research.google.com/assets/colab-badge.svg\" alt=\"Open In Colab\"/></a>"
      ]
    },
    {
      "cell_type": "code",
      "source": [
        "from google.colab import drive\n",
        "drive.mount('/content/drive')"
      ],
      "metadata": {
        "colab": {
          "base_uri": "https://localhost:8080/"
        },
        "id": "4on5D3v5YVng",
        "outputId": "0083b7a2-0e65-45c1-ade0-bcfd644749b2"
      },
      "execution_count": null,
      "outputs": [
        {
          "output_type": "stream",
          "name": "stdout",
          "text": [
            "Drive already mounted at /content/drive; to attempt to forcibly remount, call drive.mount(\"/content/drive\", force_remount=True).\n"
          ]
        }
      ]
    },
    {
      "cell_type": "code",
      "source": [
        "# Install dependencies\n",
        "!pip install -q transformers datasets accelerate"
      ],
      "metadata": {
        "id": "oYBBBhdaILmf"
      },
      "execution_count": 1,
      "outputs": []
    },
    {
      "cell_type": "code",
      "source": [
        "!wget -P /content https://github.com/nazaninsbr/Persian-Emotion-Detection/raw/refs/heads/main/dataset.csv"
      ],
      "metadata": {
        "id": "WHRf3iBLeW9I",
        "colab": {
          "base_uri": "https://localhost:8080/"
        },
        "outputId": "1b347e69-97cf-4d4a-f963-5367bb9c8935"
      },
      "execution_count": 2,
      "outputs": [
        {
          "output_type": "stream",
          "name": "stdout",
          "text": [
            "--2025-09-21 12:31:38--  https://github.com/nazaninsbr/Persian-Emotion-Detection/raw/refs/heads/main/dataset.csv\n",
            "Resolving github.com (github.com)... 140.82.116.3\n",
            "Connecting to github.com (github.com)|140.82.116.3|:443... connected.\n",
            "HTTP request sent, awaiting response... 302 Found\n",
            "Location: https://raw.githubusercontent.com/nazaninsbr/Persian-Emotion-Detection/refs/heads/main/dataset.csv [following]\n",
            "--2025-09-21 12:31:39--  https://raw.githubusercontent.com/nazaninsbr/Persian-Emotion-Detection/refs/heads/main/dataset.csv\n",
            "Resolving raw.githubusercontent.com (raw.githubusercontent.com)... 185.199.108.133, 185.199.109.133, 185.199.110.133, ...\n",
            "Connecting to raw.githubusercontent.com (raw.githubusercontent.com)|185.199.108.133|:443... connected.\n",
            "HTTP request sent, awaiting response... 200 OK\n",
            "Length: 6754866 (6.4M) [application/octet-stream]\n",
            "Saving to: ‘/content/dataset.csv’\n",
            "\n",
            "dataset.csv         100%[===================>]   6.44M  --.-KB/s    in 0.06s   \n",
            "\n",
            "2025-09-21 12:31:40 (105 MB/s) - ‘/content/dataset.csv’ saved [6754866/6754866]\n",
            "\n"
          ]
        }
      ]
    },
    {
      "cell_type": "code",
      "source": [
        "import os\n",
        "import pandas as pd\n",
        "from datasets import Dataset, DatasetDict\n",
        "from sklearn.model_selection import train_test_split\n",
        "from transformers import AutoTokenizer, AutoModelForSequenceClassification, TrainingArguments, Trainer\n",
        "import torch\n",
        "\n",
        "# Disable W&B\n",
        "os.environ[\"WANDB_DISABLED\"] = \"true\"\n"
      ],
      "metadata": {
        "id": "ZljdrqNY0a2w"
      },
      "execution_count": 3,
      "outputs": []
    },
    {
      "cell_type": "code",
      "source": [
        "import pandas as pd\n",
        "import numpy as np\n",
        "from datasets import Dataset, DatasetDict\n",
        "from sklearn.model_selection import train_test_split\n",
        "\n",
        "# Load dataset\n",
        "df = pd.read_csv(\"/content/dataset.csv\")\n",
        "\n",
        "# Emotion label columns (vote counts 0-5)\n",
        "label_cols = [\"Anger\", \"Fear\", \"Happiness\", \"Hatred\", \"Sadness\", \"Wonder\"]\n",
        "\n",
        "# Add Neutral label\n",
        "# df[\"Neutral\"] = df[label_cols].apply(lambda row: 1 if row.max() < 2 else 0, axis=1).astype(int)\n",
        "\n",
        "# Binarize emotions: 1 if >=2 votes (majority), else 0\n",
        "df[label_cols] = df[label_cols].apply(lambda row: [1 if int(x) >= 2 else 0 for x in row], axis=1, result_type='expand')\n",
        "\n",
        "\n",
        "# Add Neutral: 1 if no emotions have majority (sum of binarized emotions == 0)\n",
        "df[\"Neutral\"] = (df[label_cols].sum(axis=1) == 0).astype(int)\n",
        "\n",
        "final_labels = label_cols + [\"Neutral\"]\n",
        "df[\"labels\"] = df[final_labels].apply(lambda row: [float(x) for x in row], axis=1)\n",
        "\n",
        "# Keep only text + labels\n",
        "df = df[[\"text\", \"labels\"]]\n",
        "\n",
        "# Train/validation split\n",
        "train_df, val_df = train_test_split(df, test_size=0.2, random_state=42)\n",
        "\n",
        "# Create Hugging Face datasets\n",
        "train_ds = Dataset.from_pandas(train_df.reset_index(drop=True))\n",
        "val_ds = Dataset.from_pandas(val_df.reset_index(drop=True))\n",
        "dataset = DatasetDict({\"train\": train_ds, \"validation\": val_ds})\n",
        "\n",
        "# Verify\n",
        "train_labels = np.array(dataset[\"train\"][\"labels\"])\n",
        "val_labels = np.array(dataset[\"validation\"][\"labels\"])\n",
        "print(\"Unique training label values:\", np.unique(train_labels))\n",
        "print(\"Unique validation label values:\", np.unique(val_labels))\n",
        "print(\"Training label frequencies:\", np.sum(train_labels, axis=0) / train_labels.shape[0])\n",
        "print(\"Validation label frequencies:\", np.sum(val_labels, axis=0) / val_labels.shape[0])"
      ],
      "metadata": {
        "colab": {
          "base_uri": "https://localhost:8080/"
        },
        "id": "lQowqp_3j9Hf",
        "outputId": "5861a143-0f15-41f9-c28b-c3f820ce88b2"
      },
      "execution_count": 15,
      "outputs": [
        {
          "output_type": "stream",
          "name": "stdout",
          "text": [
            "Unique training label values: [0. 1.]\n",
            "Unique validation label values: [0. 1.]\n",
            "Training label frequencies: [0.22345833 0.14141667 0.13145833 0.19895833 0.24154167 0.17170833\n",
            " 0.32766667]\n",
            "Validation label frequencies: [0.22133333 0.1395     0.12733333 0.1905     0.24166667 0.16566667\n",
            " 0.33616667]\n"
          ]
        }
      ]
    },
    {
      "cell_type": "code",
      "source": [
        "import numpy as np\n",
        "train_labels_np = np.stack(train_df[\"labels\"].values)  # shape (N, num_labels)\n",
        "neg = (train_labels_np == 0).sum(axis=0).astype(np.float32)\n",
        "pos = (train_labels_np == 1).sum(axis=0).astype(np.float32)\n",
        "# Avoid division by zero\n",
        "pos = np.where(pos == 0, 1.0, pos)\n",
        "pos_weight = neg / pos\n",
        "print(\"pos_weight:\", pos_weight)  # use this in loss\n"
      ],
      "metadata": {
        "id": "xMRnfqN9WroP",
        "outputId": "d2852d28-b3a2-44d1-bb07-009a373e50d4",
        "colab": {
          "base_uri": "https://localhost:8080/"
        }
      },
      "execution_count": 23,
      "outputs": [
        {
          "output_type": "stream",
          "name": "stdout",
          "text": [
            "pos_weight: [3.4751072 6.0713024 6.606973  4.026178  3.1400723 4.823829  2.051882 ]\n"
          ]
        }
      ]
    },
    {
      "cell_type": "code",
      "source": [
        "for i in range(10):\n",
        "  print(dataset[\"train\"][i]['labels'])"
      ],
      "metadata": {
        "id": "8EzJekzg9gs0"
      },
      "execution_count": null,
      "outputs": []
    },
    {
      "cell_type": "code",
      "source": [
        "# model_name = \"google-bert/bert-base-multilingual-cased\"\n",
        "# model_name = \"HooshvareLab/bert-fa-base-uncased\"\n",
        "model_name = \"/content/bert-persian-emotions/checkpoint-10500\"\n",
        "tokenizer = AutoTokenizer.from_pretrained(model_name)\n",
        "\n",
        "def tokenize(batch):\n",
        "    return tokenizer(batch[\"text\"], padding=\"max_length\", truncation=True, max_length=256)\n",
        "\n",
        "dataset = dataset.map(tokenize, batched=True)\n",
        "# dataset = dataset.remove_columns([\"text\"])\n"
      ],
      "metadata": {
        "id": "suYQzQhK0p_g",
        "outputId": "15edc65f-8b08-4b99-e1f2-e8f9c76e2a59",
        "colab": {
          "base_uri": "https://localhost:8080/",
          "height": 81,
          "referenced_widgets": [
            "2736513a40f3401281adac26e5ea0485",
            "5f25ff8a5f5744d0b971dc7d53de433d",
            "3e54ec6082764dc385fd48afc31f7941",
            "387f88a982614432935d1df00d42c409",
            "30d829da57684c139987fe28fc5c028c",
            "b60ef1a21da54fc097e8d19f01b0e4d2",
            "01e73e3dc2474bf0ad74b45dec6e5424",
            "6b695932621845dab42f89c0b013ee16",
            "1c5232f7931a4dcfa2b0dab231e1d8af",
            "ff32963d762e49d79e9836a65ba444e9",
            "5b8eb0e2169d4fffb4cfe0d1e2cb66b4",
            "581e572d8986475fbb565b2a5481aced",
            "813f6249bf4e4ec68a223f160883e347",
            "a825a8c64259457595d21ad3efe82525",
            "fcbf54b765244b6e85e7ed65ec60a12d",
            "6af8098ff6244d07bd265da4037e4a90",
            "1047463cdd66452fae3ccaf3a90885aa",
            "33cf44d3b009431b88349ebea81f6cc4",
            "428fc39bb14e409498bc7f9f94552784",
            "e0538e5d7fb4448fbbed32d824c08725",
            "a8946d7e060d491b9332fd77f3476a8d",
            "9a46827f392c4b09bdcb28330d8a393b"
          ]
        }
      },
      "execution_count": 39,
      "outputs": [
        {
          "output_type": "display_data",
          "data": {
            "text/plain": [
              "Map:   0%|          | 0/24000 [00:00<?, ? examples/s]"
            ],
            "application/vnd.jupyter.widget-view+json": {
              "version_major": 2,
              "version_minor": 0,
              "model_id": "2736513a40f3401281adac26e5ea0485"
            }
          },
          "metadata": {}
        },
        {
          "output_type": "display_data",
          "data": {
            "text/plain": [
              "Map:   0%|          | 0/6000 [00:00<?, ? examples/s]"
            ],
            "application/vnd.jupyter.widget-view+json": {
              "version_major": 2,
              "version_minor": 0,
              "model_id": "581e572d8986475fbb565b2a5481aced"
            }
          },
          "metadata": {}
        }
      ]
    },
    {
      "cell_type": "code",
      "source": [
        "from transformers import AutoConfig, AutoModelForSequenceClassification\n",
        "\n",
        "num_labels = 7  # your 6 emotions + Neutral\n",
        "\n",
        "config = AutoConfig.from_pretrained(\n",
        "    model_name,\n",
        "    num_labels=num_labels,\n",
        "    hidden_dropout_prob=0.3,   # dropout in transformer layers\n",
        "    attention_probs_dropout_prob=0.3  # dropout in attention\n",
        ")\n",
        "\n",
        "model = AutoModelForSequenceClassification.from_pretrained(\n",
        "    model_name,\n",
        "    config=config\n",
        ")"
      ],
      "metadata": {
        "id": "C4Ok0W230zzQ"
      },
      "execution_count": 40,
      "outputs": []
    },
    {
      "cell_type": "code",
      "source": [
        "from sklearn.metrics import f1_score, precision_recall_fscore_support, roc_auc_score, accuracy_score\n",
        "from sklearn.metrics import precision_recall_curve\n",
        "\n",
        "def find_best_thresholds(y_true, y_probs):\n",
        "    thresholds = []\n",
        "    for i in range(y_true.shape[1]):\n",
        "        precision, recall, th = precision_recall_curve(y_true[:, i], y_probs[:, i])\n",
        "        f1 = 2 * precision * recall / (precision + recall + 1e-6)\n",
        "        thresholds.append(th[f1.argmax()])\n",
        "    return thresholds\n",
        "\n",
        "def compute_metrics_simple(eval_pred):\n",
        "    logits, labels = eval_pred\n",
        "    probs = torch.sigmoid(torch.tensor(logits)).numpy()\n",
        "\n",
        "    best_thresholds = find_best_thresholds(labels, probs)\n",
        "    print(\"Best thresholds per class:\", best_thresholds)\n",
        "\n",
        "    # preds = (probs > 0.5).astype(int)\n",
        "    preds = (probs > best_thresholds).astype(int)\n",
        "\n",
        "    labels = labels.astype(int)\n",
        "    f1_macro = f1_score(labels, preds, average='macro', zero_division=0)\n",
        "    f1_micro = f1_score(labels, preds, average='micro', zero_division=0)\n",
        "    per_label = f1_score(labels, preds, average=None, zero_division=0)\n",
        "    metrics = {\"f1_macro\": f1_macro, \"f1_micro\": f1_micro}\n",
        "    for i, v in enumerate(per_label):\n",
        "        metrics[f\"f1_label_{i}\"] = float(v)\n",
        "    # ROC-AUC per label (only if label has positives)\n",
        "    try:\n",
        "        aucs = []\n",
        "        for i in range(labels.shape[1]):\n",
        "            if labels[:, i].sum() > 0 and labels[:, i].sum() < labels.shape[0]:\n",
        "                aucs.append(roc_auc_score(labels[:, i], probs[:, i]))\n",
        "            else:\n",
        "                aucs.append(float(\"nan\"))\n",
        "        metrics[\"roc_auc_mean\"] = np.nanmean(aucs)\n",
        "    except Exception:\n",
        "        pass\n",
        "    return metrics"
      ],
      "metadata": {
        "id": "7wHbVpd102tH"
      },
      "execution_count": 31,
      "outputs": []
    },
    {
      "cell_type": "code",
      "source": [
        "import shutil\n",
        "shutil.rmtree('/content/bert-persian-emotions')"
      ],
      "metadata": {
        "id": "QbuClHldrUIc"
      },
      "execution_count": 30,
      "outputs": []
    },
    {
      "cell_type": "code",
      "source": [
        "from transformers import TrainingArguments, DataCollatorWithPadding\n",
        "\n",
        "args = TrainingArguments(\n",
        "    output_dir=\"/content/bert-persian-emotions\",\n",
        "    eval_strategy=\"epoch\",\n",
        "    save_strategy=\"epoch\",\n",
        "    learning_rate=2e-5,\n",
        "    per_device_train_batch_size=8,\n",
        "    gradient_accumulation_steps=2,  # effective batch 16 (instead of 64)\n",
        "    per_device_eval_batch_size=16,\n",
        "    num_train_epochs=8,\n",
        "    weight_decay=0.01,\n",
        "    load_best_model_at_end=True,\n",
        "    metric_for_best_model=\"f1_macro\",\n",
        "    fp16=True,\n",
        "    report_to=\"none\"\n",
        ")"
      ],
      "metadata": {
        "id": "2M9Y0vJD07rg"
      },
      "execution_count": 32,
      "outputs": []
    },
    {
      "cell_type": "code",
      "source": [
        "from transformers import Trainer\n",
        "import torch.nn as nn\n",
        "from transformers import TrainerCallback\n",
        "import torch.nn.functional as F\n",
        "\n",
        "class EarlyStoppingCallback(TrainerCallback):\n",
        "    def __init__(self, early_stopping_patience=2, early_stopping_threshold=0.01):\n",
        "        self.early_stopping_patience = early_stopping_patience\n",
        "        self.early_stopping_threshold = early_stopping_threshold\n",
        "        self.best_metric = None\n",
        "        self.patience_counter = 0\n",
        "\n",
        "    def on_evaluate(self, args, state, control, metrics, **kwargs):\n",
        "        metric_value = metrics.get(\"eval_f1_macro\")\n",
        "        if metric_value is None:\n",
        "            return\n",
        "        if self.best_metric is None or metric_value > self.best_metric + self.early_stopping_threshold:\n",
        "            self.best_metric = metric_value\n",
        "            self.patience_counter = 0\n",
        "        else:\n",
        "            self.patience_counter += 1\n",
        "            if self.patience_counter >= self.early_stopping_patience:\n",
        "                control.should_training_stop = True\n",
        "\n",
        "# Focal loss\n",
        "class FocalLoss(nn.Module):\n",
        "    def __init__(self, alpha=None, gamma=2, reduction='mean'):\n",
        "        super(FocalLoss, self).__init__()\n",
        "        self.alpha = alpha\n",
        "        self.gamma = gamma\n",
        "        self.reduction = reduction\n",
        "\n",
        "    def forward(self, inputs, targets):\n",
        "        bce = F.binary_cross_entropy_with_logits(inputs, targets, reduction='none')\n",
        "        pt = torch.exp(-bce)\n",
        "        focal_loss = (1 - pt) ** self.gamma * bce\n",
        "        if self.alpha is not None:\n",
        "            focal_loss = self.alpha * focal_loss\n",
        "        if self.reduction == 'mean':\n",
        "            return focal_loss.mean()\n",
        "        else:\n",
        "            return focal_loss.sum()\n",
        "\n",
        "class WeightedTrainer(Trainer):\n",
        "    def compute_loss(self, model, inputs, return_outputs=False, **kwargs):\n",
        "        labels = inputs.pop(\"labels\").float()\n",
        "        outputs = model(**inputs)\n",
        "        logits = outputs.logits\n",
        "        loss_fct = FocalLoss(alpha=1.0, gamma=3.0, label_smoothing=0.1)\n",
        "        loss = loss_fct(logits, labels)\n",
        "        return (loss, outputs) if return_outputs else loss\n",
        "\n",
        "class WeightedBCETrainer(Trainer):\n",
        "    def __init__(self, *args, pos_weight=None, **kwargs):\n",
        "        super().__init__(*args, **kwargs)\n",
        "\n",
        "        if pos_weight is not None:\n",
        "            self.register_buffer = None\n",
        "            self.pos_weight = torch.tensor(pos_weight, dtype=torch.float).to(self.args.device)\n",
        "        else:\n",
        "            self.pos_weight = None\n",
        "\n",
        "    def compute_loss(self, model, inputs, return_outputs=False, **kwargs):\n",
        "        labels = inputs.pop(\"labels\").float().to(self.args.device)\n",
        "        outputs = model(**inputs)\n",
        "        logits = outputs.logits\n",
        "        # if self.pos_weight is not None:\n",
        "        #     loss_fct = nn.BCEWithLogitsLoss(pos_weight=self.pos_weight)\n",
        "        # else:\n",
        "        #     loss_fct = nn.BCEWithLogitsLoss()\n",
        "        loss_fct = FocalLoss(alpha=self.pos_weight, gamma=2)\n",
        "        loss = loss_fct(logits, labels)\n",
        "        return (loss, outputs) if return_outputs else loss\n",
        "\n",
        "\n",
        "trainer = WeightedBCETrainer(\n",
        "    model=model,\n",
        "    args=args,\n",
        "    train_dataset=dataset[\"train\"],\n",
        "    eval_dataset=dataset[\"validation\"],\n",
        "    tokenizer=tokenizer,\n",
        "    compute_metrics=compute_metrics_simple,\n",
        "    # callbacks=[EarlyStoppingCallback(early_stopping_patience=2, early_stopping_threshold=0.1)],\n",
        "    pos_weight=pos_weight\n",
        ")\n",
        "\n",
        "\n",
        "trainer.train()"
      ],
      "metadata": {
        "colab": {
          "base_uri": "https://localhost:8080/",
          "height": 555
        },
        "id": "LkJnJTUd1-XX",
        "outputId": "676eb5ff-ebac-418c-df98-33fdf978be12"
      },
      "execution_count": 33,
      "outputs": [
        {
          "output_type": "stream",
          "name": "stderr",
          "text": [
            "/tmp/ipython-input-1568274359.py:55: FutureWarning: `tokenizer` is deprecated and will be removed in version 5.0.0 for `WeightedBCETrainer.__init__`. Use `processing_class` instead.\n",
            "  super().__init__(*args, **kwargs)\n"
          ]
        },
        {
          "output_type": "display_data",
          "data": {
            "text/plain": [
              "<IPython.core.display.HTML object>"
            ],
            "text/html": [
              "\n",
              "    <div>\n",
              "      \n",
              "      <progress value='12000' max='12000' style='width:300px; height:20px; vertical-align: middle;'></progress>\n",
              "      [12000/12000 57:16, Epoch 8/8]\n",
              "    </div>\n",
              "    <table border=\"1\" class=\"dataframe\">\n",
              "  <thead>\n",
              " <tr style=\"text-align: left;\">\n",
              "      <th>Epoch</th>\n",
              "      <th>Training Loss</th>\n",
              "      <th>Validation Loss</th>\n",
              "      <th>F1 Macro</th>\n",
              "      <th>F1 Micro</th>\n",
              "      <th>F1 Label 0</th>\n",
              "      <th>F1 Label 1</th>\n",
              "      <th>F1 Label 2</th>\n",
              "      <th>F1 Label 3</th>\n",
              "      <th>F1 Label 4</th>\n",
              "      <th>F1 Label 5</th>\n",
              "      <th>F1 Label 6</th>\n",
              "      <th>Roc Auc Mean</th>\n",
              "    </tr>\n",
              "  </thead>\n",
              "  <tbody>\n",
              "    <tr>\n",
              "      <td>1</td>\n",
              "      <td>0.533000</td>\n",
              "      <td>0.523442</td>\n",
              "      <td>0.213282</td>\n",
              "      <td>0.343207</td>\n",
              "      <td>0.361522</td>\n",
              "      <td>0.000000</td>\n",
              "      <td>0.217960</td>\n",
              "      <td>0.005208</td>\n",
              "      <td>0.389397</td>\n",
              "      <td>0.016453</td>\n",
              "      <td>0.502435</td>\n",
              "      <td>0.499759</td>\n",
              "    </tr>\n",
              "    <tr>\n",
              "      <td>2</td>\n",
              "      <td>0.533200</td>\n",
              "      <td>0.520693</td>\n",
              "      <td>0.308181</td>\n",
              "      <td>0.333066</td>\n",
              "      <td>0.320178</td>\n",
              "      <td>0.221461</td>\n",
              "      <td>0.225640</td>\n",
              "      <td>0.259344</td>\n",
              "      <td>0.375392</td>\n",
              "      <td>0.251814</td>\n",
              "      <td>0.503435</td>\n",
              "      <td>0.524233</td>\n",
              "    </tr>\n",
              "    <tr>\n",
              "      <td>3</td>\n",
              "      <td>0.528300</td>\n",
              "      <td>0.523376</td>\n",
              "      <td>0.309035</td>\n",
              "      <td>0.332186</td>\n",
              "      <td>0.317487</td>\n",
              "      <td>0.232914</td>\n",
              "      <td>0.225965</td>\n",
              "      <td>0.309493</td>\n",
              "      <td>0.354006</td>\n",
              "      <td>0.220199</td>\n",
              "      <td>0.503182</td>\n",
              "      <td>0.533597</td>\n",
              "    </tr>\n",
              "    <tr>\n",
              "      <td>4</td>\n",
              "      <td>0.526100</td>\n",
              "      <td>0.519961</td>\n",
              "      <td>0.331806</td>\n",
              "      <td>0.343131</td>\n",
              "      <td>0.362451</td>\n",
              "      <td>0.250439</td>\n",
              "      <td>0.226066</td>\n",
              "      <td>0.314395</td>\n",
              "      <td>0.387040</td>\n",
              "      <td>0.279490</td>\n",
              "      <td>0.502763</td>\n",
              "      <td>0.539327</td>\n",
              "    </tr>\n",
              "    <tr>\n",
              "      <td>5</td>\n",
              "      <td>0.526200</td>\n",
              "      <td>0.519993</td>\n",
              "      <td>0.329652</td>\n",
              "      <td>0.343368</td>\n",
              "      <td>0.343861</td>\n",
              "      <td>0.243602</td>\n",
              "      <td>0.226269</td>\n",
              "      <td>0.319562</td>\n",
              "      <td>0.389084</td>\n",
              "      <td>0.280030</td>\n",
              "      <td>0.505157</td>\n",
              "      <td>0.541734</td>\n",
              "    </tr>\n",
              "    <tr>\n",
              "      <td>6</td>\n",
              "      <td>0.523100</td>\n",
              "      <td>0.518606</td>\n",
              "      <td>0.332536</td>\n",
              "      <td>0.343147</td>\n",
              "      <td>0.352128</td>\n",
              "      <td>0.253048</td>\n",
              "      <td>0.225706</td>\n",
              "      <td>0.318938</td>\n",
              "      <td>0.388814</td>\n",
              "      <td>0.282100</td>\n",
              "      <td>0.507017</td>\n",
              "      <td>0.543446</td>\n",
              "    </tr>\n",
              "    <tr>\n",
              "      <td>7</td>\n",
              "      <td>0.526100</td>\n",
              "      <td>0.518828</td>\n",
              "      <td>0.332069</td>\n",
              "      <td>0.341406</td>\n",
              "      <td>0.348728</td>\n",
              "      <td>0.255520</td>\n",
              "      <td>0.224925</td>\n",
              "      <td>0.319495</td>\n",
              "      <td>0.387833</td>\n",
              "      <td>0.281633</td>\n",
              "      <td>0.506349</td>\n",
              "      <td>0.545033</td>\n",
              "    </tr>\n",
              "    <tr>\n",
              "      <td>8</td>\n",
              "      <td>0.525200</td>\n",
              "      <td>0.518771</td>\n",
              "      <td>0.334206</td>\n",
              "      <td>0.343736</td>\n",
              "      <td>0.362147</td>\n",
              "      <td>0.256410</td>\n",
              "      <td>0.225673</td>\n",
              "      <td>0.319112</td>\n",
              "      <td>0.387735</td>\n",
              "      <td>0.282577</td>\n",
              "      <td>0.505786</td>\n",
              "      <td>0.543260</td>\n",
              "    </tr>\n",
              "  </tbody>\n",
              "</table><p>"
            ]
          },
          "metadata": {}
        },
        {
          "output_type": "stream",
          "name": "stdout",
          "text": [
            "Best thresholds per class: [np.float32(0.40486038), np.float32(0.30673468), np.float32(0.33764017), np.float32(0.3619537), np.float32(0.41117), np.float32(0.3589146), np.float32(0.45048025)]\n",
            "Best thresholds per class: [np.float32(0.37759805), np.float32(0.32917604), np.float32(0.32124704), np.float32(0.36965632), np.float32(0.39987022), np.float32(0.3628563), np.float32(0.43002766)]\n",
            "Best thresholds per class: [np.float32(0.37914848), np.float32(0.31184584), np.float32(0.31605253), np.float32(0.33709443), np.float32(0.36590973), np.float32(0.34609914), np.float32(0.42536652)]\n",
            "Best thresholds per class: [np.float32(0.35835305), np.float32(0.3181673), np.float32(0.33622208), np.float32(0.35902697), np.float32(0.38554814), np.float32(0.34986588), np.float32(0.4208971)]\n",
            "Best thresholds per class: [np.float32(0.36274344), np.float32(0.33187717), np.float32(0.32199275), np.float32(0.35420963), np.float32(0.37513402), np.float32(0.33622208), np.float32(0.40721554)]\n",
            "Best thresholds per class: [np.float32(0.36590973), np.float32(0.32060856), np.float32(0.32530618), np.float32(0.35745537), np.float32(0.384681), np.float32(0.33633107), np.float32(0.39431757)]\n",
            "Best thresholds per class: [np.float32(0.3707948), np.float32(0.31700322), np.float32(0.3296075), np.float32(0.35588682), np.float32(0.3794359), np.float32(0.34698373), np.float32(0.39117333)]\n",
            "Best thresholds per class: [np.float32(0.37216288), np.float32(0.3165805), np.float32(0.32541335), np.float32(0.35779187), np.float32(0.380241), np.float32(0.34477428), np.float32(0.3859531)]\n"
          ]
        },
        {
          "output_type": "execute_result",
          "data": {
            "text/plain": [
              "TrainOutput(global_step=12000, training_loss=0.5279533106486003, metrics={'train_runtime': 3436.6009, 'train_samples_per_second': 55.869, 'train_steps_per_second': 3.492, 'total_flos': 2.52597952512e+16, 'train_loss': 0.5279533106486003, 'epoch': 8.0})"
            ]
          },
          "metadata": {},
          "execution_count": 33
        }
      ]
    },
    {
      "cell_type": "code",
      "source": [
        "print(trainer.pos_weight)"
      ],
      "metadata": {
        "id": "VTpcABfpkdK-",
        "outputId": "a344a912-df1d-4a66-aec3-7c18607ede4f",
        "colab": {
          "base_uri": "https://localhost:8080/"
        }
      },
      "execution_count": null,
      "outputs": [
        {
          "output_type": "stream",
          "name": "stdout",
          "text": [
            "None\n"
          ]
        }
      ]
    },
    {
      "cell_type": "code",
      "source": [
        "model.eval()\n",
        "from sklearn.metrics import f1_score\n",
        "\n",
        "# Get validation logits (use trainer.predict for convenience)\n",
        "preds_output = trainer.predict(dataset[\"validation\"])\n",
        "val_logits = preds_output.predictions  # shape (N_val, num_labels)\n",
        "val_probs = torch.sigmoid(torch.tensor(val_logits)).numpy()\n",
        "val_labels = preds_output.label_ids.astype(int)\n",
        "\n",
        "# Search thresholds per label (0.1..0.9)\n",
        "best_thresholds = np.ones(val_labels.shape[1]) * 0.5\n",
        "for i in range(val_labels.shape[1]):\n",
        "    best_f1 = -1\n",
        "    for t in np.linspace(0.1, 0.9, 17):\n",
        "        p = (val_probs[:, i] > t).astype(int)\n",
        "        f1 = f1_score(val_labels[:, i], p, zero_division=0)\n",
        "        if f1 > best_f1:\n",
        "            best_f1 = f1\n",
        "            best_thresholds[i] = t\n",
        "print(\"Best thresholds:\", best_thresholds)\n",
        "\n",
        "# Compute final metrics with these thresholds\n",
        "final_preds = (val_probs > best_thresholds[None, :]).astype(int)\n",
        "print(\"Final macro F1:\", f1_score(val_labels, final_preds, average='macro'))\n",
        "print(\"Final micro F1:\", f1_score(val_labels, final_preds, average='micro'))"
      ],
      "metadata": {
        "id": "3-tY4uxZX8NE",
        "outputId": "50d7717c-2bc8-4e31-a3c9-d3b17f0d5672",
        "colab": {
          "base_uri": "https://localhost:8080/",
          "height": 106
        }
      },
      "execution_count": 34,
      "outputs": [
        {
          "output_type": "display_data",
          "data": {
            "text/plain": [
              "<IPython.core.display.HTML object>"
            ],
            "text/html": []
          },
          "metadata": {}
        },
        {
          "output_type": "stream",
          "name": "stdout",
          "text": [
            "Best thresholds per class: [np.float32(0.37216288), np.float32(0.3165805), np.float32(0.32541335), np.float32(0.35779187), np.float32(0.380241), np.float32(0.34477428), np.float32(0.3859531)]\n",
            "Best thresholds: [0.1 0.1 0.1 0.1 0.1 0.1 0.1]\n",
            "Final macro F1: 0.332844457232974\n",
            "Final micro F1: 0.337719905804128\n"
          ]
        }
      ]
    },
    {
      "cell_type": "code",
      "source": [
        "texts = [\n",
        "    \"من امروز خیلی خوشحالم\",      # Happy\n",
        "    \"احساس می‌کنم ناراحت و خسته‌ام\", # Sad\n",
        "    \"از تاریکی می‌ترسم\",           # Fear\n",
        "    \"قدم زدن زیر بارون شاید بهترین مسکن درد هاست...\" # Neutral\n",
        "]\n",
        "device = torch.device(\"cuda\" if torch.cuda.is_available() else \"cpu\")\n",
        "inputs = tokenizer(texts, return_tensors=\"pt\", padding=True, truncation=True, max_length=128)\n",
        "inputs = {k: v.to(device) for k, v in inputs.items()}\n",
        "outputs = model(**inputs)\n",
        "probs = torch.sigmoid(outputs.logits).detach().cpu().numpy()\n",
        "\n",
        "for text, p in zip(texts, probs):\n",
        "    labels_pred = [final_labels[i] for i, v in enumerate(p) if v > 0.5]\n",
        "    print(text, \"->\", labels_pred)\n"
      ],
      "metadata": {
        "id": "rtoVASNe-pvX",
        "colab": {
          "base_uri": "https://localhost:8080/"
        },
        "outputId": "e19bc8a0-8d69-4653-d1e2-5dbb10eb5843"
      },
      "execution_count": 43,
      "outputs": [
        {
          "output_type": "stream",
          "name": "stdout",
          "text": [
            "من امروز خیلی خوشحالم -> []\n",
            "احساس می‌کنم ناراحت و خسته‌ام -> []\n",
            "از تاریکی می‌ترسم -> []\n",
            "قدم زدن زیر بارون شاید بهترین مسکن درد هاست... -> []\n"
          ]
        }
      ]
    },
    {
      "cell_type": "code",
      "source": [
        "import numpy as np\n",
        "from sklearn.metrics import f1_score, classification_report\n",
        "\n",
        "# collect true labels and preds on validation set\n",
        "preds_logits = trainer.predict(dataset[\"validation\"]).predictions  # raw logits\n",
        "probs = 1 / (1 + np.exp(-preds_logits))\n",
        "preds = (probs > 0.5).astype(int)\n",
        "\n",
        "# binarize references (soft labels → 0/1)\n",
        "refs = np.stack([ex[\"labels\"] for ex in dataset[\"validation\"]])\n",
        "refs_bin = (refs >= 0.5).astype(int)\n",
        "\n",
        "# overall per-label counts\n",
        "pos_counts = refs_bin.sum(axis=0)\n",
        "neg_counts = refs_bin.shape[0] - pos_counts\n",
        "print(\"pos counts per label:\", pos_counts)\n",
        "print(\"neg counts per label:\", neg_counts)\n",
        "\n",
        "# per-label f1\n",
        "for i, name in enumerate(final_labels):\n",
        "    print(name, \"F1:\", f1_score(refs_bin[:, i], preds[:, i], zero_division=0))\n",
        "\n",
        "# full classification report\n",
        "print(classification_report(refs_bin, preds, zero_division=0))\n"
      ],
      "metadata": {
        "id": "AshUjyI7FgQk"
      },
      "execution_count": null,
      "outputs": []
    },
    {
      "cell_type": "code",
      "source": [
        "import numpy as np\n",
        "\n",
        "# Convert Hugging Face dataset into numpy array of labels\n",
        "all_labels = np.stack(dataset[\"train\"][\"labels\"])  # shape: (num_samples, num_labels)\n",
        "\n",
        "# Count positives and negatives per label\n",
        "pos_counts = all_labels.sum(axis=0)\n",
        "neg_counts = all_labels.shape[0] - pos_counts\n",
        "\n",
        "print(\"pos counts per label:\", pos_counts)\n",
        "print(\"neg counts per label:\", neg_counts)\n",
        "\n",
        "# If you want mapping to label names:\n",
        "for name, pos, neg in zip(final_labels, pos_counts, neg_counts):\n",
        "    print(f\"{name:10s} | pos: {int(pos):5d} | neg: {int(neg):5d}\")\n",
        "\n",
        "val_labels = np.array(dataset[\"validation\"][\"labels\"])\n",
        "print(\"Validation label frequencies:\", np.sum(val_labels, axis=0) / val_labels.shape[0])"
      ],
      "metadata": {
        "colab": {
          "base_uri": "https://localhost:8080/"
        },
        "id": "U55f3uwAXOki",
        "outputId": "d75740c6-bac2-4de2-ef1a-c8257a9fcc20"
      },
      "execution_count": 16,
      "outputs": [
        {
          "output_type": "stream",
          "name": "stdout",
          "text": [
            "pos counts per label: [5363. 3394. 3155. 4775. 5797. 4121. 7864.]\n",
            "neg counts per label: [18637. 20606. 20845. 19225. 18203. 19879. 16136.]\n",
            "Anger      | pos:  5363 | neg: 18637\n",
            "Fear       | pos:  3394 | neg: 20606\n",
            "Happiness  | pos:  3155 | neg: 20845\n",
            "Hatred     | pos:  4775 | neg: 19225\n",
            "Sadness    | pos:  5797 | neg: 18203\n",
            "Wonder     | pos:  4121 | neg: 19879\n",
            "Neutral    | pos:  7864 | neg: 16136\n",
            "Validation label frequencies: [0.22133333 0.1395     0.12733333 0.1905     0.24166667 0.16566667\n",
            " 0.33616667]\n"
          ]
        }
      ]
    }
  ]
}